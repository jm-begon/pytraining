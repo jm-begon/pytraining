{
 "cells": [
  {
   "cell_type": "markdown",
   "metadata": {},
   "source": [
    "Context managers\n",
    "================\n",
    "\n",
    "**Outline**:\n",
    "1. The notion of context\n",
    "2. Custom context managers\n",
    "3. Available context managers\n",
    "4. The tryforce of error handling\n",
    "5. Singleton pattern\n",
    "6. Closing words"
   ]
  },
  {
   "cell_type": "markdown",
   "metadata": {},
   "source": [
    "## 1. The notion of context\n",
    "\n",
    ":hourglass: 20 min\n",
    "\n",
    "Consider the following example:"
   ]
  },
  {
   "cell_type": "code",
   "execution_count": 6,
   "metadata": {},
   "outputs": [],
   "source": [
    "import sys\n",
    "import io\n",
    "\n",
    "stdout_ = sys.stdout\n",
    "stdout_buffer = io.StringIO()\n",
    "try:\n",
    "    sys.stdout = stdout_buffer\n",
    "\n",
    "    # Code you actually want to run\n",
    "    print(\"This is a call to the print function\")\n",
    "    \n",
    "finally:\n",
    "    sys.stdout = stdout_\n"
   ]
  },
  {
   "cell_type": "code",
   "execution_count": 7,
   "metadata": {},
   "outputs": [
    {
     "data": {
      "text/plain": [
       "'This is a call to the print function\\n'"
      ]
     },
     "execution_count": 7,
     "metadata": {},
     "output_type": "execute_result"
    }
   ],
   "source": [
    "stdout_buffer.getvalue()"
   ]
  },
  {
   "cell_type": "markdown",
   "metadata": {},
   "source": [
    "In this example, the `try`/`finally` construct defines a *context*. The goal of the context is to isolate some part of the execution. In this specific example, the isolation aims at capturing (notably) the `print` calls.\n",
    "\n",
    "The first few statements of the function define the *setup* of the context (saving the default print buffer, overwriting the default print buffer). The whole of the `finally` block defines the *teardown* of the context (restoring the default print buffer).\n",
    "\n",
    "Those kinds of contexts are often used in programs to make sure the teardown part will be executed properly, even when an exception occurs in the middle of the code.\n",
    "\n",
    "Examples include:\n",
    "- resource management: making sure a resource (file descriptor, lock/semaphore, etc.) are release properly;\n",
    "- buffering: making sure a buffer is flushed;\n",
    "- transaction: ensuring atomicity and consistency;\n",
    "- monckeypatching: restoring the proper code (cf. example);\n",
    "- parametrization: setting some configuration for the context (see eg. Airflow, PyTorch)\n",
    "\n",
    "Although the notion of context is very useful, the above code has some drawbacks:\n",
    "- the code of the context is mingled with the rest of the code, making it unclear which is which;\n",
    "- the context is not re-usable for another function.\n",
    "\n",
    "Python provides a very elegant mechanism to encapsulate the context code via the `with` keyword:"
   ]
  },
  {
   "cell_type": "code",
   "execution_count": 18,
   "metadata": {},
   "outputs": [
    {
     "name": "stdout",
     "output_type": "stream",
     "text": [
      "Before context\n",
      "After context\n",
      "Buffer: This is a call to the print function\n",
      "\n"
     ]
    }
   ],
   "source": [
    "import contextlib\n",
    "import io\n",
    "\n",
    "\n",
    "print(\"Before context\")\n",
    "with contextlib.redirect_stdout(io.StringIO()) as buffer:\n",
    "    print(\"This is a call to the print function\")\n",
    "\n",
    "print(\"After context\")\n",
    "print(f\"Buffer: {buffer.getvalue()}\")"
   ]
  },
  {
   "cell_type": "markdown",
   "metadata": {},
   "source": [
    "The `redirect_stdout` has a much more limited impact on the code, there is no more mingling of contextual and application code, and the code is now re-usable!"
   ]
  },
  {
   "cell_type": "markdown",
   "metadata": {},
   "source": [
    "## 2. Custom context managers"
   ]
  },
  {
   "cell_type": "markdown",
   "metadata": {},
   "source": [
    "### The short syntax\n",
    "\n",
    ":hourglass: 10 min\n",
    "\n",
    "Python provides two syntaxes for creating context managers. The short version makes use of the `contexlib` decorator and is quite straightforward. You decorate a single-element generator:"
   ]
  },
  {
   "cell_type": "code",
   "execution_count": 19,
   "metadata": {},
   "outputs": [
    {
     "name": "stdout",
     "output_type": "stream",
     "text": [
      "Before context\n",
      "After context\n",
      "Buffer: This is a call to the print function\n",
      "\n"
     ]
    }
   ],
   "source": [
    "from typing import Optional, Iterator\n",
    "import io\n",
    "import contextlib\n",
    "import sys\n",
    "\n",
    "@contextlib.contextmanager\n",
    "def redirect_stdout(buffer: Optional[io.StringIO] = None) -> Iterator[io.StringIO]:\n",
    "    if buffer is None:\n",
    "        buffer = io.StringIO()\n",
    "    \n",
    "    stdout_ = sys.stdout\n",
    "    try:\n",
    "        sys.stdout = buffer\n",
    "        yield buffer\n",
    "    finally:\n",
    "        sys.stdout = stdout_\n",
    "\n",
    "\n",
    "print(\"Before context\")\n",
    "with redirect_stdout() as buffer:\n",
    "    print(\"This is a call to the print function\")\n",
    "\n",
    "print(\"After context\")\n",
    "print(f\"Buffer: {buffer.getvalue()}\")"
   ]
  },
  {
   "cell_type": "markdown",
   "metadata": {},
   "source": [
    "### The powerful syntax\n",
    "\n",
    ":hourglass: 10 min\n",
    "\n",
    "\n",
    "While useful for simple tasks, you sometimes want the full flexibility of having an object serving as a context manager. This can be done via the `__enter__` and `__exit__` pair of methods."
   ]
  },
  {
   "cell_type": "code",
   "execution_count": 20,
   "metadata": {},
   "outputs": [
    {
     "name": "stdout",
     "output_type": "stream",
     "text": [
      "Before context\n",
      "After context\n",
      "Buffer: This is a call to the print function\n",
      "\n"
     ]
    }
   ],
   "source": [
    "from typing import Optional\n",
    "from types import TracebackType\n",
    "import io\n",
    "import sys\n",
    "\n",
    "\n",
    "class STDOutCatcher:\n",
    "    def __init__(self, buffer: Optional[io.StringIO] = None) -> None:\n",
    "        if buffer is None:\n",
    "            buffer = io.StringIO()\n",
    "\n",
    "        self._buffer = buffer\n",
    "        self._sysstdout: Optional[io.StringIO] = None\n",
    "\n",
    "    def __enter__(self) -> io.StringIO:\n",
    "        self._sysstdout = sys.stdout\n",
    "        sys.stdout = self._buffer\n",
    "        return self._buffer\n",
    "    \n",
    "    def __exit__(\n",
    "        self,\n",
    "        exc_type: Optional[type[BaseException]],\n",
    "        exc_val: Optional[BaseException],\n",
    "        exc_tb: Optional[TracebackType],\n",
    "    ) -> None:\n",
    "        sys.stdout = self._sysstdout\n",
    "\n",
    "\n",
    "print(\"Before context\")\n",
    "with STDOutCatcher() as buffer:\n",
    "    print(\"This is a call to the print function\")\n",
    "\n",
    "print(\"After context\")\n",
    "print(f\"Buffer: {buffer.getvalue()}\")"
   ]
  },
  {
   "cell_type": "markdown",
   "metadata": {},
   "source": [
    "### Exercise\n",
    "\n",
    ":hourglass: 30 min\n",
    "\n",
    "Create a context manager to log the start/end of a portion of code, as well as the completion time. You can use the `from time import perf_counter` to track the duration. \n",
    "\n"
   ]
  },
  {
   "cell_type": "markdown",
   "metadata": {},
   "source": [
    ":coffee: 10 min"
   ]
  },
  {
   "cell_type": "markdown",
   "metadata": {},
   "source": [
    "## 3. Available context managers\n",
    "\n",
    ":hourglass: 10 min\n",
    "\n",
    "Some context managers are provided in the `contextlib` module:\n",
    "- `closing`: call the `close` method of the object at teardown;\n",
    "- `suppress`: swallow exceptions;\n",
    "- `redirect_stderr`: same as `redirect_stdout` but for the error flow;\n",
    "\n",
    "There are also a few other tools available for context managers. See https://docs.python.org/3/library/contextlib.html for more details."
   ]
  },
  {
   "cell_type": "markdown",
   "metadata": {},
   "source": [
    "## 4. The tryforce of error handling\n",
    "\n",
    ":hourglass: 20 min\n",
    "\n",
    "Can you predict what will be printed:"
   ]
  },
  {
   "cell_type": "code",
   "execution_count": null,
   "metadata": {},
   "outputs": [],
   "source": [
    "def runtime_stop():\n",
    "    raise RuntimeError()\n",
    "\n",
    "try:\n",
    "    print(\"the cat\")\n",
    "    runtime_stop()\n",
    "    print(\"the dog\")\n",
    "except RuntimeError:\n",
    "    print(\"the duck\")\n",
    "except ValueError:\n",
    "    print(\"the lion\")\n",
    "except (RuntimeError, ValueError):\n",
    "    print(\"the fox\")\n",
    "except Exception:\n",
    "    print(\"the fish\")\n",
    "finally:\n",
    "    print(\"the mouse\")"
   ]
  },
  {
   "cell_type": "markdown",
   "metadata": {},
   "source": [
    "What is the difference between the following snippets?"
   ]
  },
  {
   "cell_type": "code",
   "execution_count": null,
   "metadata": {},
   "outputs": [],
   "source": [
    "try:\n",
    "    runtime_stop()\n",
    "except RuntimeError as e:\n",
    "    raise e\n"
   ]
  },
  {
   "cell_type": "code",
   "execution_count": null,
   "metadata": {},
   "outputs": [],
   "source": [
    "try:\n",
    "    runtime_stop()\n",
    "except RuntimeError as e:\n",
    "    raise\n"
   ]
  },
  {
   "cell_type": "code",
   "execution_count": null,
   "metadata": {},
   "outputs": [],
   "source": [
    "try:\n",
    "    runtime_stop()\n",
    "except RuntimeError as e:\n",
    "    raise RuntimeError(2) from e"
   ]
  },
  {
   "cell_type": "code",
   "execution_count": null,
   "metadata": {},
   "outputs": [],
   "source": [
    "import sys\n",
    "\n",
    "try:\n",
    "    runtime_stop()\n",
    "except RuntimeError as e:\n",
    "    tb = sys.exc_info()[2]\n",
    "    raise RuntimeError(2).with_traceback(tb)"
   ]
  },
  {
   "cell_type": "markdown",
   "metadata": {},
   "source": [
    "**always** provide the except clause with an exception class:"
   ]
  },
  {
   "cell_type": "code",
   "execution_count": 36,
   "metadata": {},
   "outputs": [],
   "source": [
    "try:\n",
    "    raise KeyboardInterrupt()\n",
    "except:\n",
    "    pass"
   ]
  },
  {
   "cell_type": "code",
   "execution_count": null,
   "metadata": {},
   "outputs": [],
   "source": [
    "try:\n",
    "    raise KeyboardInterrupt()\n",
    "except Exception:\n",
    "    pass"
   ]
  },
  {
   "cell_type": "markdown",
   "metadata": {},
   "source": [
    "It is possible to create custom exceptions by inheriting from an exception class (see https://docs.python.org/3.9/library/exceptions.html#inheriting-from-built-in-exceptions).\n",
    "\n",
    "Although this is encouraged in some languages, not so much in Python, where the exception hierarchy already provides comprehensive classes. In particular, it is worth knowing the following:\n",
    "- **AssertionError**: raised when an assertion is violated (raised via the assert statement);\n",
    "- **AttributeError**: raised when trying to access an attribute of an object which does not exist;\n",
    "- **RuntimeError**: raised when something occurs at runtime and no more specific exception can be used;\n",
    "- **NotImplementedError**: raised by an abstract method (*);\n",
    "- **TypeError**: raised when the object is not of the proper type for some operation;\n",
    "- **ValueError**: raised when the value is inappropriate (but the type is correct).\n",
    "\n",
    "Some remarks:\n",
    "- (*) the `NotImplementedError` exception must not be used to restrict what a class can do (cf. the substitution principle);\n",
    "- Do not confuse `NotImplementedError` and `NotImplemented`;\n",
    "- some exceptions serve as control flow (eg. `GeneratorExit`, `StopIteration`);\n",
    "- :skull: Python 3.11 provides support for \"exception groups\" (https://peps.python.org/pep-0654/)."
   ]
  },
  {
   "cell_type": "markdown",
   "metadata": {},
   "source": [
    "## 5. Singleton pattern\n",
    "\n",
    "### Exposition\n",
    "\n",
    ":hourglass: 20 min\n",
    "\n",
    "Sometimes (rarely) it is useful to have only one instance of a class created. \n",
    "\n",
    ":warning: Singletons somewhat go against the nature of OOP. You should make sure that (i) it does actually make sense to create a singleton class, and (ii) this is clearly telegraphed to the user.\n",
    "\n",
    "A few examples of sensible singletons are the following:\n",
    "- logging (although in Python you have a hierarchy of singletons);\n",
    "- global configuration settings;\n",
    "- caching;\n",
    "- limited resource (eg. sharing a thread pool).\n",
    "\n",
    "The following example illustrates how to create an event listener Singleton:"
   ]
  },
  {
   "cell_type": "code",
   "execution_count": 22,
   "metadata": {},
   "outputs": [
    {
     "data": {
      "text/plain": [
       "[Event(message='Entry 1', context='context 1', timestamp=datetime.datetime(2024, 3, 5, 16, 5, 19, 502472)),\n",
       " Event(message='Entry 2', context='context 1', timestamp=datetime.datetime(2024, 3, 5, 16, 5, 19, 502489)),\n",
       " Event(message='Entry A', context='context 2', timestamp=datetime.datetime(2024, 3, 5, 16, 5, 19, 502507)),\n",
       " Event(message='Entry B', context='context 2', timestamp=datetime.datetime(2024, 3, 5, 16, 5, 19, 502516))]"
      ]
     },
     "execution_count": 22,
     "metadata": {},
     "output_type": "execute_result"
    }
   ],
   "source": [
    "from __future__ import annotations\n",
    "\n",
    "from dataclasses import dataclass\n",
    "import datetime as dt\n",
    "from typing import Optional, Any, List, Iterator\n",
    "\n",
    "@dataclass\n",
    "class Event:\n",
    "    message: str\n",
    "    context: str\n",
    "    timestamp: dt.datetime\n",
    "\n",
    "    @classmethod\n",
    "    def create(cls, message: str, context: str) -> Event:\n",
    "        return cls(message, context, dt.datetime.now())\n",
    "    \n",
    "\n",
    "class EventListener:\n",
    "    _instance: Optional[EventListener] = None\n",
    "    _events: List[Event] = []\n",
    "\n",
    "    def __new__(cls, *args: Any, **kwargs: Any) -> EventListener:\n",
    "        if cls._instance is None:\n",
    "            cls._instance = super().__new__(cls)\n",
    "        return cls._instance\n",
    "    \n",
    "    def __init__(self, context: str) -> None:\n",
    "        self._context = context\n",
    "\n",
    "    def register(self, message: str) -> None:\n",
    "        self._events.append(Event.create(message, self._context))\n",
    "\n",
    "    def __iter__(self) -> Iterator[Event]:\n",
    "        return iter(self._events)\n",
    "    \n",
    "\n",
    "\n",
    "el_c1 = EventListener(\"context 1\")\n",
    "el_c1.register(\"Entry 1\")\n",
    "el_c1.register(\"Entry 2\")\n",
    "\n",
    "\n",
    "el_c2 = EventListener(\"context 2\")\n",
    "el_c2.register(\"Entry A\")\n",
    "el_c2.register(\"Entry B\")\n",
    "\n",
    "list(EventListener(\"\"))"
   ]
  },
  {
   "cell_type": "markdown",
   "metadata": {},
   "source": [
    "In OOP, classes have (at least) one constructor. In Python, we usually refer to the `__init__` method as the constructor, whereas it actually serves to *initialize* (ie. fill in) the instance. The memory allocation is done by the `__new__` method.\n",
    "\n",
    "Note that even though the `__new__` method returns an existing instance the second time, the `__init__` method is still invoked, as can be seen by the change in context. That is why we also had to make the `_events` list a class variable.\n",
    "\n",
    "Contrast this with the following implementation of the Singleton:"
   ]
  },
  {
   "cell_type": "code",
   "execution_count": 26,
   "metadata": {},
   "outputs": [
    {
     "data": {
      "text/plain": [
       "[Event(message='Entry 1', context='context 1', timestamp=datetime.datetime(2024, 3, 5, 16, 15, 52, 897427)),\n",
       " Event(message='Entry 2', context='context 1', timestamp=datetime.datetime(2024, 3, 5, 16, 15, 52, 897465)),\n",
       " Event(message='Entry A', context='context 1', timestamp=datetime.datetime(2024, 3, 5, 16, 15, 52, 897512)),\n",
       " Event(message='Entry B', context='context 1', timestamp=datetime.datetime(2024, 3, 5, 16, 15, 52, 897535))]"
      ]
     },
     "execution_count": 26,
     "metadata": {},
     "output_type": "execute_result"
    }
   ],
   "source": [
    "class EventListener:\n",
    "    _instance: Optional[EventListener] = None\n",
    "    \n",
    "    @classmethod\n",
    "    def create(cls, *args: Any, **kwargs: Any) -> EventListener:\n",
    "        if cls._instance is None:\n",
    "            cls._instance = cls(*args, **kwargs)\n",
    "        return cls._instance\n",
    "    \n",
    "    def __init__(self, context: str) -> None:\n",
    "        self._events: List[Event] = []\n",
    "        self._context = context\n",
    "\n",
    "    def register(self, message: str) -> None:\n",
    "        self._events.append(Event.create(message, self._context))\n",
    "\n",
    "    def __iter__(self) -> Iterator[Event]:\n",
    "        return iter(self._events)\n",
    "    \n",
    "\n",
    "\n",
    "el_c1 = EventListener.create(\"context 1\")\n",
    "el_c1.register(\"Entry 1\")\n",
    "el_c1.register(\"Entry 2\")\n",
    "\n",
    "\n",
    "el_c2 = EventListener.create(\"context 2\")\n",
    "el_c2.register(\"Entry A\")\n",
    "el_c2.register(\"Entry B\")\n",
    "\n",
    "list(EventListener.create(\"\"))"
   ]
  },
  {
   "cell_type": "markdown",
   "metadata": {},
   "source": [
    "Notice how we can use the `_events` instance variable, but the context is never updated.\n",
    "\n",
    "Since in Python it is not possible to restrict the visibility of the constructor (like in eg. Java), the second approach might lead to inconsistency if an instance is created directly, rather than through the factory. "
   ]
  },
  {
   "cell_type": "markdown",
   "metadata": {},
   "source": [
    "> :skull: In an event-driven application, event listening is usually conducted via another pattern: the *observer* pattern. This allows for greater flexibility regarding which objects listens to what."
   ]
  },
  {
   "cell_type": "markdown",
   "metadata": {},
   "source": [
    ":coffee: 10 min"
   ]
  },
  {
   "cell_type": "markdown",
   "metadata": {},
   "source": [
    "### Exercise\n",
    "\n",
    ":hourglass: 30 min\n",
    "\n",
    "Adapt the telemetric context manager to report to the event listener. You should have two types of events: context entrance and context exit. The exit events should hold the duration. It should be possible to generate a kind of report of the events."
   ]
  },
  {
   "cell_type": "markdown",
   "metadata": {},
   "source": [
    "> :skull: an interesting design pattern when it comes to generate reports to offer some flexibility of rendering (plain text, html, etc.) is the *visitor* pattern."
   ]
  },
  {
   "cell_type": "markdown",
   "metadata": {},
   "source": [
    "## 6. Closing words\n",
    "\n",
    "In this module we discussed context managers, the benefits of the Python syntax (re-usability, encapsulation) and how to create them (short vs. powerful syntax).\n",
    "\n",
    "We also took advantage of the discussion to showcase a few advanced exception handling syntax. Finally, we discussed the Singleton pattern and how to use it together with context manager to get a telemetric report.\n",
    "\n",
    "**Dunderscore**:\n",
    "- `__enter__`\n",
    "- `__exit__`\n",
    "- `__new__`"
   ]
  },
  {
   "cell_type": "markdown",
   "metadata": {},
   "source": []
  }
 ],
 "metadata": {
  "kernelspec": {
   "display_name": ".venv",
   "language": "python",
   "name": "python3"
  },
  "language_info": {
   "codemirror_mode": {
    "name": "ipython",
    "version": 3
   },
   "file_extension": ".py",
   "mimetype": "text/x-python",
   "name": "python",
   "nbconvert_exporter": "python",
   "pygments_lexer": "ipython3",
   "version": "3.9.5"
  }
 },
 "nbformat": 4,
 "nbformat_minor": 2
}
