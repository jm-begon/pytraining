{
 "cells": [
  {
   "cell_type": "markdown",
   "metadata": {},
   "source": [
    "Brainstorming:\n",
    "- what is a context\n",
    "- yield syntax\n",
    "- `__enter__`, `__exit__` syntax\n",
    "- when to + usecases (hushing logs, resource management, telemetry)\n",
    "- Aside on advanced exception handling"
   ]
  },
  {
   "cell_type": "markdown",
   "metadata": {},
   "source": [
    "Context managers\n",
    "================\n",
    "\n",
    "**Outline**:"
   ]
  },
  {
   "cell_type": "markdown",
   "metadata": {},
   "source": [
    "## The notion of context\n",
    "\n",
    ":hourglass: 20 min\n",
    "\n",
    "Consider the following example:"
   ]
  },
  {
   "cell_type": "code",
   "execution_count": 6,
   "metadata": {},
   "outputs": [],
   "source": [
    "import sys\n",
    "import io\n",
    "\n",
    "stdout_ = sys.stdout\n",
    "stdout_buffer = io.StringIO()\n",
    "try:\n",
    "    sys.stdout = stdout_buffer\n",
    "\n",
    "    # Code you actually want to run\n",
    "    print(\"This is a call to the print function\")\n",
    "    \n",
    "finally:\n",
    "    sys.stdout = stdout_\n"
   ]
  },
  {
   "cell_type": "code",
   "execution_count": 7,
   "metadata": {},
   "outputs": [
    {
     "data": {
      "text/plain": [
       "'This is a call to the print function\\n'"
      ]
     },
     "execution_count": 7,
     "metadata": {},
     "output_type": "execute_result"
    }
   ],
   "source": [
    "stdout_buffer.getvalue()"
   ]
  },
  {
   "cell_type": "markdown",
   "metadata": {},
   "source": [
    "In this example, the `try`/`finally` construct defines a *context*. The goal of the context is to isolate some part of the execution. In this specific example, the isolation aims at capturing (notably) the `print` calls.\n",
    "\n",
    "The first few statements of the function define the *setup* of the context (saving the default print buffer, overwriting the default print buffer). The whole of the `finally` block defines the *teardown* of the context (restoring the default print buffer).\n",
    "\n",
    "Those kinds of contexts are often used in programs to make sure the teardown part will be executed properly, even when an exception occurs in the middle of the code.\n",
    "\n",
    "Examples include:\n",
    "- resource management: making sure a resource (file descriptor, lock/semaphore, etc.) are release properly;\n",
    "- buffering: making sure a buffer is flushed;\n",
    "- transaction: ensuring atomicity and consistency;\n",
    "- monckeypatching: restoring the proper code (cf. example);\n",
    "- parametrization: setting some configuration for the context (see eg. Airflow, PyTorch)\n",
    "\n",
    "Although the notion of context is very useful, the above code has some drawbacks:\n",
    "- the code of the context is mingled with the rest of the code, making it unclear which is which;\n",
    "- the context is not re-usable for another function.\n",
    "\n",
    "Python provides a very elegant mechanism to encapsulate the context code via the `with` keyword:"
   ]
  },
  {
   "cell_type": "code",
   "execution_count": 18,
   "metadata": {},
   "outputs": [
    {
     "name": "stdout",
     "output_type": "stream",
     "text": [
      "Before context\n",
      "After context\n",
      "Buffer: This is a call to the print function\n",
      "\n"
     ]
    }
   ],
   "source": [
    "import contextlib\n",
    "import io\n",
    "\n",
    "\n",
    "print(\"Before context\")\n",
    "with contextlib.redirect_stdout(io.StringIO()) as buffer:\n",
    "    print(\"This is a call to the print function\")\n",
    "\n",
    "print(\"After context\")\n",
    "print(f\"Buffer: {buffer.getvalue()}\")"
   ]
  },
  {
   "cell_type": "markdown",
   "metadata": {},
   "source": [
    "The `redirect_stdout` has a much more limited impact on the code, there is no more mingling of contextual and application code, and the code is now re-usable!"
   ]
  },
  {
   "cell_type": "markdown",
   "metadata": {},
   "source": [
    "## Custom context managers"
   ]
  },
  {
   "cell_type": "markdown",
   "metadata": {},
   "source": [
    "### The short syntax\n",
    "\n",
    ":hourglass: 10 min\n",
    "\n",
    "Python provides two syntaxes for creating context managers. The short version makes use of the `contexlib` decorator and is quite straightforward. You decorate a single-element generator:"
   ]
  },
  {
   "cell_type": "code",
   "execution_count": 19,
   "metadata": {},
   "outputs": [
    {
     "name": "stdout",
     "output_type": "stream",
     "text": [
      "Before context\n",
      "After context\n",
      "Buffer: This is a call to the print function\n",
      "\n"
     ]
    }
   ],
   "source": [
    "from typing import Optional, Iterator\n",
    "import io\n",
    "import contextlib\n",
    "import sys\n",
    "\n",
    "@contextlib.contextmanager\n",
    "def redirect_stdout(buffer: Optional[io.StringIO] = None) -> Iterator[io.StringIO]:\n",
    "    if buffer is None:\n",
    "        buffer = io.StringIO()\n",
    "    \n",
    "    stdout_ = sys.stdout\n",
    "    try:\n",
    "        sys.stdout = buffer\n",
    "        yield buffer\n",
    "    finally:\n",
    "        sys.stdout = stdout_\n",
    "\n",
    "\n",
    "print(\"Before context\")\n",
    "with redirect_stdout() as buffer:\n",
    "    print(\"This is a call to the print function\")\n",
    "\n",
    "print(\"After context\")\n",
    "print(f\"Buffer: {buffer.getvalue()}\")"
   ]
  },
  {
   "cell_type": "markdown",
   "metadata": {},
   "source": [
    "### The powerful syntax\n",
    "\n",
    ":hourglass: 10 min\n",
    "\n",
    "\n",
    "While useful for simple tasks, you sometimes want the full flexibility of having an object serving as a context manager. This can be done via the `__enter__` and `__exit__` pair of methods."
   ]
  },
  {
   "cell_type": "code",
   "execution_count": 20,
   "metadata": {},
   "outputs": [
    {
     "name": "stdout",
     "output_type": "stream",
     "text": [
      "Before context\n",
      "After context\n",
      "Buffer: This is a call to the print function\n",
      "\n"
     ]
    }
   ],
   "source": [
    "from typing import Optional\n",
    "from types import TracebackType\n",
    "import io\n",
    "import sys\n",
    "\n",
    "\n",
    "class STDOutCatcher:\n",
    "    def __init__(self, buffer: Optional[io.StringIO] = None) -> None:\n",
    "        if buffer is None:\n",
    "            buffer = io.StringIO()\n",
    "\n",
    "        self._buffer = buffer\n",
    "        self._sysstdout: Optional[io.StringIO] = None\n",
    "\n",
    "    def __enter__(self) -> io.StringIO:\n",
    "        self._sysstdout = sys.stdout\n",
    "        sys.stdout = self._buffer\n",
    "        return self._buffer\n",
    "    \n",
    "    def __exit__(\n",
    "        self,\n",
    "        exc_type: Optional[type[BaseException]],\n",
    "        exc_val: Optional[BaseException],\n",
    "        exc_tb: Optional[TracebackType],\n",
    "    ) -> None:\n",
    "        sys.stdout = self._sysstdout\n",
    "\n",
    "\n",
    "print(\"Before context\")\n",
    "with STDOutCatcher() as buffer:\n",
    "    print(\"This is a call to the print function\")\n",
    "\n",
    "print(\"After context\")\n",
    "print(f\"Buffer: {buffer.getvalue()}\")"
   ]
  },
  {
   "cell_type": "markdown",
   "metadata": {},
   "source": [
    "### Exercise\n",
    "\n",
    ":hourglass: 30 min\n",
    "\n",
    "Create a context manager to log the start/end of a portion of code, as well as the completion time. You can use the `from time import perf_counter` to track the duration. \n",
    "\n"
   ]
  },
  {
   "cell_type": "markdown",
   "metadata": {},
   "source": [
    ":coffee: 15 min"
   ]
  },
  {
   "cell_type": "markdown",
   "metadata": {},
   "source": [
    "## The tryforce of error handling\n",
    "\n",
    ":hourglass: 20 min\n",
    "\n",
    "Can you predict what will be printed:"
   ]
  },
  {
   "cell_type": "code",
   "execution_count": null,
   "metadata": {},
   "outputs": [],
   "source": [
    "def runtime_stop():\n",
    "    raise RuntimeError()\n",
    "\n",
    "try:\n",
    "    print(\"the cat\")\n",
    "    runtime_stop()\n",
    "    print(\"the dog\")\n",
    "except RuntimeError:\n",
    "    print(\"the duck\")\n",
    "except ValueError:\n",
    "    print(\"the lion\")\n",
    "except (RuntimeError, ValueError):\n",
    "    print(\"the fox\")\n",
    "except Exception:\n",
    "    print(\"the fish\")\n",
    "finally:\n",
    "    print(\"the mouse\")"
   ]
  },
  {
   "cell_type": "markdown",
   "metadata": {},
   "source": [
    "What is the difference between the following snippets?"
   ]
  },
  {
   "cell_type": "code",
   "execution_count": null,
   "metadata": {},
   "outputs": [],
   "source": [
    "try:\n",
    "    runtime_stop()\n",
    "except RuntimeError as e:\n",
    "    raise e\n"
   ]
  },
  {
   "cell_type": "code",
   "execution_count": null,
   "metadata": {},
   "outputs": [],
   "source": [
    "try:\n",
    "    runtime_stop()\n",
    "except RuntimeError as e:\n",
    "    raise\n"
   ]
  },
  {
   "cell_type": "code",
   "execution_count": null,
   "metadata": {},
   "outputs": [],
   "source": [
    "try:\n",
    "    runtime_stop()\n",
    "except RuntimeError as e:\n",
    "    raise RuntimeError(2) from e"
   ]
  },
  {
   "cell_type": "code",
   "execution_count": null,
   "metadata": {},
   "outputs": [],
   "source": [
    "import sys\n",
    "\n",
    "try:\n",
    "    runtime_stop()\n",
    "except RuntimeError as e:\n",
    "    tb = sys.exc_info()[2]\n",
    "    raise RuntimeError(2).with_traceback(tb)"
   ]
  },
  {
   "cell_type": "markdown",
   "metadata": {},
   "source": [
    "**always** provide the except clause with an exception class:"
   ]
  },
  {
   "cell_type": "code",
   "execution_count": 36,
   "metadata": {},
   "outputs": [],
   "source": [
    "try:\n",
    "    raise KeyboardInterrupt()\n",
    "except:\n",
    "    pass"
   ]
  },
  {
   "cell_type": "code",
   "execution_count": null,
   "metadata": {},
   "outputs": [],
   "source": [
    "try:\n",
    "    raise KeyboardInterrupt()\n",
    "except Exception:\n",
    "    pass"
   ]
  },
  {
   "cell_type": "markdown",
   "metadata": {},
   "source": [
    "It is possible to create custom exceptions by inheriting from an exception class (see https://docs.python.org/3.9/library/exceptions.html#inheriting-from-built-in-exceptions).\n",
    "\n",
    "Although this is encouraged in some languages, not so much in Python, where the exception hierarchy already provides comprehensive classes. In particular, it is worth knowing the following:\n",
    "- **AssertionError**: raised when an assertion is violated (raised via the assert statement);\n",
    "- **AttributeError**: raised when trying to access an attribute of an object which does not exist;\n",
    "- **RuntimeError**: raised when something occurs at runtime and no more specific exception can be used;\n",
    "- **NotImplementedError**: raised by an abstract method (*);\n",
    "- **TypeError**: raised when the object is not of the proper type for some operation;\n",
    "- **ValueError**: raised when the value is inappropriate (but the type is correct).\n",
    "\n",
    "Some remarks:\n",
    "- (*) the `NotImplementedError` exception must not be used to restrict what a class can do (cf. the substitution principle);\n",
    "- Do not confuse `NotImplementedError` and `NotImplemented`;\n",
    "- some exceptions serve as control flow (eg. `GeneratorExit`, `StopIteration`);\n",
    "- :skull: Python 3.11 provides support for \"exception groups\" (https://peps.python.org/pep-0654/)."
   ]
  },
  {
   "cell_type": "markdown",
   "metadata": {},
   "source": [
    "## Singleton pattern\n",
    "\n"
   ]
  },
  {
   "cell_type": "markdown",
   "metadata": {},
   "source": [
    "## x. Closing words\n",
    "\n",
    "**Dunderscore**:\n",
    "- `__enter__`\n",
    "- `__exit__`"
   ]
  }
 ],
 "metadata": {
  "kernelspec": {
   "display_name": ".venv",
   "language": "python",
   "name": "python3"
  },
  "language_info": {
   "codemirror_mode": {
    "name": "ipython",
    "version": 3
   },
   "file_extension": ".py",
   "mimetype": "text/x-python",
   "name": "python",
   "nbconvert_exporter": "python",
   "pygments_lexer": "ipython3",
   "version": "3.9.5"
  }
 },
 "nbformat": 4,
 "nbformat_minor": 2
}
