{
 "cells": [
  {
   "cell_type": "markdown",
   "metadata": {},
   "source": [
    "**Brainstorming**:\n",
    "- comparison (soda generator)\n",
    "- arithmetic\n",
    "- bitshifts\n",
    "- Note on semantics\n",
    "- Exercises/examples: grammar, dice arithmetic, graph and symbolic computation, shortcuts\n",
    "- formating?\n",
    "\n"
   ]
  },
  {
   "cell_type": "markdown",
   "metadata": {},
   "source": [
    "Operator overloading\n",
    "====================\n",
    "\n"
   ]
  },
  {
   "cell_type": "code",
   "execution_count": 13,
   "metadata": {},
   "outputs": [
    {
     "name": "stdout",
     "output_type": "stream",
     "text": [
      "Harry Potter must find the one true ring to rid the world of the empire\n",
      "Frodo Baggins must destroy the one true ring to beat Sauron\n",
      "Luke Skywalker must find the death star to rid the world of Sauron\n",
      "Frodo Baggins must find the horcruxes to beat the empire\n",
      "Frodo Baggins must destroy the death star to rid the world of the empire\n"
     ]
    }
   ],
   "source": [
    "from __future__ import annotations\n",
    "\n",
    "from typing import Union\n",
    "import random\n",
    "\n",
    "\n",
    "class Gram:\n",
    "    def __or__(self, other: Union[Gram, str]) -> OrRule:\n",
    "        return OrRule(self, other)\n",
    "    \n",
    "    def __add__(self, other: Union[Gram, str]) -> CFRule:\n",
    "        return CFRule(self, other)\n",
    "\n",
    "class Rule(Gram):\n",
    "    def __init__(self, *operands: Union[Gram, str]) -> None:\n",
    "        super().__init__()\n",
    "        def cast(x: Union[Gram, str]) -> Gram:\n",
    "            if isinstance(x, str):\n",
    "                x = Terminal(x)\n",
    "            return x\n",
    "        \n",
    "        self._operands = tuple(cast(x) for x in operands)\n",
    "\n",
    "class OrRule(Rule):\n",
    "    def __str__(self) -> str:\n",
    "        return str(random.choice(self._operands))\n",
    "    \n",
    "class CFRule(Rule):\n",
    "\n",
    "    def __str__(self) -> str:\n",
    "        return \" \".join(str(x) for x in self._operands)\n",
    "    \n",
    "\n",
    "\n",
    "class Terminal(Gram):\n",
    "    def __init__(self, symbol: str) -> None:\n",
    "        self._symbol = symbol\n",
    "\n",
    "    def __str__(self) -> str:\n",
    "        return self._symbol\n",
    "    \n",
    "    \n",
    "    \n",
    "\n",
    "\n",
    "protagonist = (\n",
    "    Terminal(\"Harry Potter\") | \"Luke Skywalker\" | \"Frodo Baggins\"\n",
    ")\n",
    "\n",
    "\n",
    "actions = Terminal(\"must find\") | \"must destroy\"\n",
    "\n",
    "macguffin = (\n",
    "    Terminal(\"the horcruxes\") | \"the death star\" | \"the one true ring\"\n",
    ")\n",
    "\n",
    "victory = Terminal(\"to defeat\") | \"to beat\" | \"to vanquished\" | \"to rid the world of\"\n",
    "\n",
    "enemy = Terminal(\"Voldemort\") | \"the empire\" | \"Sauron\"\n",
    "\n",
    "\n",
    "story = protagonist + actions + macguffin + victory + enemy\n",
    "\n",
    "for _ in range(5):\n",
    "    print(story)\n"
   ]
  }
 ],
 "metadata": {
  "kernelspec": {
   "display_name": ".venv",
   "language": "python",
   "name": "python3"
  },
  "language_info": {
   "codemirror_mode": {
    "name": "ipython",
    "version": 3
   },
   "file_extension": ".py",
   "mimetype": "text/x-python",
   "name": "python",
   "nbconvert_exporter": "python",
   "pygments_lexer": "ipython3",
   "version": "3.9.5"
  }
 },
 "nbformat": 4,
 "nbformat_minor": 2
}
