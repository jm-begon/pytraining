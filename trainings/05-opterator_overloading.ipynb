{
 "cells": [
  {
   "cell_type": "markdown",
   "metadata": {},
   "source": [
    "**Brainstorming**:\n",
    "- comparison (soda generator)\n",
    "- arithmetic\n",
    "- bitshifts\n",
    "- Note on semantics\n",
    "- Exercises/examples: grammar, dice arithmetic, graph and symbolic computation, shortcuts\n",
    "- formating?\n",
    "\n"
   ]
  },
  {
   "cell_type": "markdown",
   "metadata": {},
   "source": [
    "Operator overloading\n",
    "====================\n",
    "\n",
    "**Outline**:\n",
    "1. First example\n",
    "2. Comparison overloading\n",
    "3. Arithmetic overloading\n",
    "4. Shift operators\n",
    "5. Other operators\n",
    "6. Best practices\n",
    "7. Closing words"
   ]
  },
  {
   "cell_type": "markdown",
   "metadata": {},
   "source": [
    "## 1. First example\n",
    "\n",
    "The example below illustrates two operation overloads."
   ]
  },
  {
   "cell_type": "code",
   "execution_count": 13,
   "metadata": {},
   "outputs": [
    {
     "name": "stdout",
     "output_type": "stream",
     "text": [
      "Harry Potter must find the one true ring to rid the world of the empire\n",
      "Frodo Baggins must destroy the one true ring to beat Sauron\n",
      "Luke Skywalker must find the death star to rid the world of Sauron\n",
      "Frodo Baggins must find the horcruxes to beat the empire\n",
      "Frodo Baggins must destroy the death star to rid the world of the empire\n"
     ]
    }
   ],
   "source": [
    "from __future__ import annotations\n",
    "\n",
    "from typing import Union\n",
    "import random\n",
    "\n",
    "\n",
    "class Gram:\n",
    "    def __or__(self, other: Union[Gram, str]) -> OrRule:\n",
    "        return OrRule(self, other)\n",
    "    \n",
    "    def __add__(self, other: Union[Gram, str]) -> CFRule:\n",
    "        return CFRule(self, other)\n",
    "\n",
    "class Rule(Gram):\n",
    "    def __init__(self, *operands: Union[Gram, str]) -> None:\n",
    "        super().__init__()\n",
    "        def cast(x: Union[Gram, str]) -> Gram:\n",
    "            if isinstance(x, str):\n",
    "                x = Terminal(x)\n",
    "            return x\n",
    "        \n",
    "        self._operands = tuple(cast(x) for x in operands)\n",
    "\n",
    "class OrRule(Rule):\n",
    "    def __str__(self) -> str:\n",
    "        return str(random.choice(self._operands))\n",
    "    \n",
    "class CFRule(Rule):\n",
    "\n",
    "    def __str__(self) -> str:\n",
    "        return \" \".join(str(x) for x in self._operands)\n",
    "\n",
    "\n",
    "class Terminal(Gram):\n",
    "    def __init__(self, symbol: str) -> None:\n",
    "        self._symbol = symbol\n",
    "\n",
    "    def __str__(self) -> str:\n",
    "        return self._symbol\n",
    "    \n",
    "    \n",
    "protagonist = (\n",
    "    Terminal(\"Harry Potter\") | \"Luke Skywalker\" | \"Frodo Baggins\"\n",
    ")\n",
    "\n",
    "\n",
    "actions = Terminal(\"must find\") | \"must destroy\"\n",
    "\n",
    "macguffin = (\n",
    "    Terminal(\"the horcruxes\") | \"the death star\" | \"the one true ring\"\n",
    ")\n",
    "\n",
    "victory = Terminal(\"to defeat\") | \"to beat\" | \"to vanquished\" | \"to rid the world of\"\n",
    "\n",
    "enemy = Terminal(\"Voldemort\") | \"the empire\" | \"Sauron\"\n",
    "\n",
    "\n",
    "story = protagonist + actions + macguffin + victory + enemy\n",
    "\n",
    "for _ in range(5):\n",
    "    print(story)\n"
   ]
  },
  {
   "cell_type": "markdown",
   "metadata": {},
   "source": [
    "Overloading `|` and `+` does not allow us to do anything more, so\n",
    "\n",
    ":question: Why use operation overloading?\n",
    "\n",
    ":question: What should you be careful with when dealing with operation overloading?\n",
    "\n",
    ":question: What are good use cases for operation overloading?"
   ]
  },
  {
   "cell_type": "markdown",
   "metadata": {},
   "source": [
    ":skull: The example above is about context-free grammar. The formal notion of grammar is used extensively in CS from computation theory to compilers, passing through procedural generation and natural language processing."
   ]
  },
  {
   "cell_type": "markdown",
   "metadata": {},
   "source": [
    "## 2. Comparison overloading\n",
    "\n",
    "You can overload the following comparison operators in Python:\n",
    "\n",
    "| Operator         | Symbol | Dunder   |\n",
    "|------------------|--------|----------|\n",
    "| equal            | ==     | `__eq__` |\n",
    "| not equal        | !=     | `__ne__` |\n",
    "| lower than       | <      | `__lt__` |\n",
    "| lower or equal   | <=     | `__le__` |\n",
    "| greater than     | >      | `__lt__` |\n",
    "| greater or equal | <      | `__lt__` |\n",
    "\n",
    "All those relationships are binary, so the methods always take another element as input.\n",
    "\n",
    "Related to comparison, you can also overwrite the `__bool__` type-cast method of a object so that it can be used as a boolean.\n"
   ]
  },
  {
   "cell_type": "code",
   "execution_count": 4,
   "metadata": {},
   "outputs": [
    {
     "name": "stdout",
     "output_type": "stream",
     "text": [
      "This should be false: False\n"
     ]
    }
   ],
   "source": [
    "from abc import ABCMeta, abstractmethod\n",
    "from typing import Any\n",
    "\n",
    "import pandas as pd\n",
    "\n",
    "\n",
    "class Test(metaclass=ABCMeta):\n",
    "    def __init__(self, column_name: str, reference: float) -> None:\n",
    "        self._column_name = column_name\n",
    "        self._reference = reference\n",
    "\n",
    "    @abstractmethod\n",
    "    def __call__(self, df: pd.DataFrame) -> \"TestResult\":\n",
    "        raise NotImplementedError()\n",
    "    \n",
    "    def __repr__(self) -> str:\n",
    "        return f\"{self.__class__.__qualname__}({self._column_name!r}, {self._reference!r})\"\n",
    "    \n",
    "class TestResult:\n",
    "    def __init__(self, test: Test, result: bool) -> None:\n",
    "        self._test = test\n",
    "        self._result = result\n",
    "\n",
    "    def __repr__(self) -> str:\n",
    "        return f\"{self.__class__.__qualname__}({self._test!r}, {self._result!r})\"\n",
    "\n",
    "    def __bool__(self) -> bool:\n",
    "        return self._result\n",
    "    \n",
    "class LeTest(Test):\n",
    "    def __call__(self, df: pd.DataFrame) -> TestResult:\n",
    "        return all(df[self._column_name] <= self._reference)\n",
    "\n",
    "class EqTest(Test):\n",
    "    def __call__(self, df: pd.DataFrame) -> TestResult:\n",
    "        return all(df[self._column_name] == self._reference)\n",
    "    \n",
    "class PlaceHolder:\n",
    "    def __init__(self, column_name: str) -> None:\n",
    "        self._column_name = column_name\n",
    "\n",
    "    def __eq__(self, other: float) -> EqTest:\n",
    "        return EqTest(self._column_name, other)\n",
    "\n",
    "    def __le__(self, other: float) -> LeTest:\n",
    "        return LeTest(self._column_name, other)\n",
    "\n",
    "\n",
    "df = pd.DataFrame({\"col\": [1, 2, 3, 4]})\n",
    "\n",
    "test1 = PlaceHolder(\"col\") <= 5\n",
    "test2 = PlaceHolder(\"col\") == 2\n",
    "\n",
    "if test1(df):\n",
    "    print(\"This should be false:\", bool(test2(df)))\n"
   ]
  },
  {
   "cell_type": "markdown",
   "metadata": {},
   "source": [
    "## 3. Arithmetic overloading\n",
    "\n",
    "### Exposition\n",
    "\n",
    "You can overload the following comparison operators in Python:\n",
    "\n",
    "| Operator         | Symbol | Dunder         |\n",
    "|------------------|--------|----------------|\n",
    "| add              | +      | `__add__`      |\n",
    "| subtract         | -      | `__sub__`      |\n",
    "| multiply         | *      | `__mul__`      |\n",
    "| divide           | /      | `__truediv__`  |\n",
    "| divide (integer) | //     | `__floordiv__` |\n",
    "| power            | **     | `__pow__`      |\n",
    "| remainder        | %      | `__mod__`      |\n",
    "| matrix mult.     | @      | `__matmul__`   |\n",
    "| and              | &      | `__and__`      |\n",
    "| or               | \\|     | `__or__`       |\n",
    "| xor              | ^      | `__xor__`      |\n",
    "\n",
    "There are two variants around the operator: the `r`-operators and the `i`-operators. "
   ]
  },
  {
   "cell_type": "code",
   "execution_count": 11,
   "metadata": {},
   "outputs": [
    {
     "name": "stdout",
     "output_type": "stream",
     "text": [
      "Case 1: 5\n",
      "Case 2: 5\n",
      "Case 3: 5\n"
     ]
    },
    {
     "ename": "TypeError",
     "evalue": "unsupported operand type(s) for +: 'int' and 'MyFloat'",
     "output_type": "error",
     "traceback": [
      "\u001b[0;31m---------------------------------------------------------------------------\u001b[0m",
      "\u001b[0;31mTypeError\u001b[0m                                 Traceback (most recent call last)",
      "Cell \u001b[0;32mIn[11], line 22\u001b[0m\n\u001b[1;32m     20\u001b[0m \u001b[38;5;28mprint\u001b[39m(\u001b[38;5;124m\"\u001b[39m\u001b[38;5;124mCase 2:\u001b[39m\u001b[38;5;124m\"\u001b[39m, \u001b[38;5;241m3\u001b[39m \u001b[38;5;241m+\u001b[39m MyRFloat(\u001b[38;5;241m2\u001b[39m))\n\u001b[1;32m     21\u001b[0m \u001b[38;5;28mprint\u001b[39m(\u001b[38;5;124m\"\u001b[39m\u001b[38;5;124mCase 3:\u001b[39m\u001b[38;5;124m\"\u001b[39m, MyFloat(\u001b[38;5;241m2\u001b[39m) \u001b[38;5;241m+\u001b[39m \u001b[38;5;241m3\u001b[39m)\n\u001b[0;32m---> 22\u001b[0m \u001b[38;5;28mprint\u001b[39m(\u001b[38;5;124m\"\u001b[39m\u001b[38;5;124mCase 4:\u001b[39m\u001b[38;5;124m\"\u001b[39m, \u001b[38;5;241;43m3\u001b[39;49m\u001b[43m \u001b[49m\u001b[38;5;241;43m+\u001b[39;49m\u001b[43m \u001b[49m\u001b[43mMyFloat\u001b[49m\u001b[43m(\u001b[49m\u001b[38;5;241;43m2\u001b[39;49m\u001b[43m)\u001b[49m)\n",
      "\u001b[0;31mTypeError\u001b[0m: unsupported operand type(s) for +: 'int' and 'MyFloat'"
     ]
    }
   ],
   "source": [
    "class MyFloat:\n",
    "    def __init__(self, x):\n",
    "        self.x = x\n",
    "\n",
    "    def __add__(self, other):\n",
    "        return self.x + other\n",
    "\n",
    "class MyRFloat:\n",
    "    def __init__(self, x):\n",
    "        self.x = x\n",
    "\n",
    "    def __add__(self, other):\n",
    "        return self.x + other\n",
    "\n",
    "    def __radd__(self, other):\n",
    "        return other + self.x\n",
    "\n",
    "\n",
    "print(\"Case 1:\", MyRFloat(2) + 3)\n",
    "print(\"Case 2:\", 3 + MyRFloat(2))\n",
    "print(\"Case 3:\", MyFloat(2) + 3)\n",
    "print(\"Case 4:\", 3 + MyFloat(2))"
   ]
  },
  {
   "cell_type": "markdown",
   "metadata": {},
   "source": [
    "The `i`-variant is about inplace operators. Note that the signature of the function is different:"
   ]
  },
  {
   "cell_type": "code",
   "execution_count": 16,
   "metadata": {},
   "outputs": [
    {
     "data": {
      "text/plain": [
       "5"
      ]
     },
     "execution_count": 16,
     "metadata": {},
     "output_type": "execute_result"
    }
   ],
   "source": [
    "from __future__ import annotations\n",
    "\n",
    "class MyNewFloat:\n",
    "    def __init__(self, x):\n",
    "        self.x = x\n",
    "\n",
    "    def __add__(self, other: float) -> float:\n",
    "        return self.x + other\n",
    "\n",
    "    def __iadd__(self, other: float) -> MyNewFloat:\n",
    "        self.x += other\n",
    "        return self\n",
    "\n",
    "mnf = MyNewFloat(2)\n",
    "mnf += 3\n",
    "mnf.x"
   ]
  },
  {
   "cell_type": "markdown",
   "metadata": {},
   "source": [
    "> :skull: the `operator` module from the standard Python library gives access to shortcuts to invoke the operators."
   ]
  },
  {
   "cell_type": "markdown",
   "metadata": {},
   "source": [
    "### Exercise\n",
    "\n",
    ":hourglass:\n",
    "\n",
    "Implement a dice class. A dice has $k$ sides and rolling each side has a probability of $\\frac{1}{k}$. Using `int(d)` where `d` is a dice should return the result of a dice roll. A dice pool is a collection of dice; using `int(p)` where `p` is a pool should return the sum of the dice rolls."
   ]
  },
  {
   "cell_type": "markdown",
   "metadata": {},
   "source": [
    "## 4. Shift operators\n",
    "\n",
    "You can overload the following bit shift operators in Python (+ the `r` and `i` variants):\n",
    "\n",
    "\n",
    "| Operator     | Symbol | Dunder         |\n",
    "|--------------|--------|----------------|\n",
    "| right shift  | >>     | `__rshift__`   |\n",
    "| left shift   | <<     | `__lshift__`   |\n",
    "\n",
    "Technically, the bit shift operators are used to manipulate the bits in binary data. When they are overloaded, it is usually to take advantage of the directionality of the symbols. \n",
    "\n",
    "It tends to be used in the following cases:\n",
    "- directed graph (eg. Airflow);\n",
    "- move files around.\n"
   ]
  },
  {
   "cell_type": "markdown",
   "metadata": {},
   "source": [
    "## 5. Unary operators\n",
    "\n",
    "You can overload the following unary operators in Python:\n",
    "\n",
    "| Operator  | Symbol | Dunder       |\n",
    "|-----------|--------|--------------|\n",
    "| negative  | -      | `__neg__`    |\n",
    "| positive  | +      | `__pos__`    |\n",
    "| invertion | ~      | `__invert__` | \n",
    "\n",
    "Here is an example:"
   ]
  },
  {
   "cell_type": "markdown",
   "metadata": {},
   "source": []
  },
  {
   "cell_type": "code",
   "execution_count": null,
   "metadata": {},
   "outputs": [],
   "source": []
  },
  {
   "cell_type": "markdown",
   "metadata": {},
   "source": [
    "## 6. Best practices"
   ]
  },
  {
   "cell_type": "markdown",
   "metadata": {},
   "source": [
    "## 7. Closing words\n",
    "\n",
    "See https://docs.python.org/3/library/operator.html for more."
   ]
  },
  {
   "cell_type": "code",
   "execution_count": null,
   "metadata": {},
   "outputs": [],
   "source": [
    "## "
   ]
  },
  {
   "cell_type": "code",
   "execution_count": null,
   "metadata": {},
   "outputs": [],
   "source": []
  }
 ],
 "metadata": {
  "kernelspec": {
   "display_name": ".venv",
   "language": "python",
   "name": "python3"
  },
  "language_info": {
   "codemirror_mode": {
    "name": "ipython",
    "version": 3
   },
   "file_extension": ".py",
   "mimetype": "text/x-python",
   "name": "python",
   "nbconvert_exporter": "python",
   "pygments_lexer": "ipython3",
   "version": "3.9.5"
  }
 },
 "nbformat": 4,
 "nbformat_minor": 2
}
