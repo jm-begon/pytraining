{
 "cells": [
  {
   "cell_type": "markdown",
   "metadata": {},
   "source": [
    "**Brainstorm**:\n",
    "- Paradigm \n",
    "- Example of encapsulation\n",
    "- Quick SOLID + encapsulation & inheritance\n",
    "- Match definition game (cognitive map of OOP): class, object, instance, interface/protocol, attribute, method, class attribute, property, public/private/protected\n",
    "- str/repr + state\n",
    "- Inheritance exercise\n",
    "- Object creation:\n",
    "    * Constructor\n",
    "    * Factory method (as class method or not)\n",
    "    * Builder\n",
    "    * Prototype\n",
    "- Generic typing?"
   ]
  },
  {
   "cell_type": "markdown",
   "metadata": {},
   "source": [
    "# Object Oriented Programming and object creation\n",
    "\n",
    ":hourglass: 3h\n",
    "\n"
   ]
  },
  {
   "cell_type": "markdown",
   "metadata": {},
   "source": [
    "OOP\n",
    "---\n",
    ":hourglass: \n",
    "\n",
    "\n",
    "### The OOP paradigm\n",
    "\n",
    "> A (programming) **paradigmn** is a way to think about, approach and solve a problem. It defines the (conceptual) primitives in which to think in order to create the solution.\n",
    "\n",
    "There are several broad families of paradigms:\n",
    "- Imperative: dictates how the *state* evolves\n",
    "    * Procedural: the primivites are procedures (~functions);\n",
    "    * OOP: the primivites are objects exchanging messages;\n",
    "- Declarative: expresses the relationship between primitives\n",
    "\n",
    "The example below illustrates the difference between the procedural and OOP paradigm."
   ]
  },
  {
   "cell_type": "code",
   "execution_count": 2,
   "metadata": {},
   "outputs": [
    {
     "name": "stdout",
     "output_type": "stream",
     "text": [
      "Car position: 2\n"
     ]
    }
   ],
   "source": [
    "# Procedural\n",
    "\n",
    "def create_car(position=0, speed=0):\n",
    "    return {\"position\": position, \"speed\": speed}\n",
    "\n",
    "def accelerate_car(car):\n",
    "    car[\"speed\"] += 1\n",
    "\n",
    "def decelerate_car(car):\n",
    "    car[\"speed\"] -= 1\n",
    "\n",
    "def move_car(car):\n",
    "    car[\"position\"] += car[\"speed\"]\n",
    "\n",
    "car = create_car(speed=1)\n",
    "accelerate_car(car)\n",
    "move_car(car)\n",
    "print(\"Car position:\", car[\"position\"])"
   ]
  },
  {
   "cell_type": "code",
   "execution_count": 5,
   "metadata": {},
   "outputs": [
    {
     "name": "stdout",
     "output_type": "stream",
     "text": [
      "Car position: 2\n"
     ]
    }
   ],
   "source": [
    "# OOP\n",
    "\n",
    "class Car:\n",
    "    def __init__(self, position=0, speed=0) -> None:\n",
    "        self._position = position\n",
    "        self._speed = speed\n",
    "\n",
    "    def accelerate(self):\n",
    "        self._speed += 1\n",
    "\n",
    "    def decelerate(self):\n",
    "        self._speed -= 1\n",
    "\n",
    "    def move(self):\n",
    "        self._position += self._speed\n",
    "\n",
    "    def print_position(self):\n",
    "        print(\"Car position:\", self._position)\n",
    "\n",
    "car = Car(speed=1)\n",
    "car.accelerate()\n",
    "car.move()\n",
    "car.print_position()\n"
   ]
  },
  {
   "cell_type": "markdown",
   "metadata": {},
   "source": [
    "At first glance there are not many differences between the two approaches. However, those are fundamental!\n",
    "\n",
    "The car class **encapsulate** both the data (ie. `position` and `speed`) as well as the behavior (`accelerate`, `decelerate`, `move` and `print_position`). This has a few advantages:\n",
    "- *maintainability*: the behavior of the `car` sits with its data: you need only to edit the code in one place;\n",
    "- *abstraction*: the user does not need know (and cannot mess up with) the details: it only sends messages via the methods;\n",
    "- *conceptualization*: the notion of objects makes it easy to think in business terms;\n",
    "- *inheritance*: the way the code is written makes it easy to implement inheritance a structured way.\n",
    "\n",
    "\n",
    "Let's see an example of inheritance:"
   ]
  },
  {
   "cell_type": "code",
   "execution_count": 10,
   "metadata": {},
   "outputs": [
    {
     "name": "stdout",
     "output_type": "stream",
     "text": [
      "Max speed reached\n"
     ]
    }
   ],
   "source": [
    "# Inheritance\n",
    "\n",
    "class LimitedCar(Car):\n",
    "    def __init__(self, max_speed, position=0, speed=0) -> None:\n",
    "        super().__init__(position, speed)\n",
    "        self._max_speed = max_speed\n",
    "\n",
    "    def accelerate(self):\n",
    "        if self._speed < self._max_speed:\n",
    "            return super().accelerate()\n",
    "        else:\n",
    "            print(\"Max speed reached\")\n",
    "    \n",
    "\n",
    "car = LimitedCar(max_speed=4, speed=3)\n",
    "car.accelerate()\n",
    "car.accelerate()"
   ]
  },
  {
   "cell_type": "markdown",
   "metadata": {},
   "source": [
    "### Cognitive map of OOP\n",
    "\n",
    "What is the difference between the following pairs of concepts:\n",
    "- class and object\n",
    "- object and instance\n",
    "- class attribute and attribute\n",
    "- attribute and property\n",
    "- interface/protocol and abstract class\n",
    "- method and function\n",
    "- class method and method\n",
    "- public method/attribute and private method/attribute\n",
    "- private method/attribute and protected method/attribute"
   ]
  },
  {
   "cell_type": "markdown",
   "metadata": {},
   "source": [
    "### The SOLID principles  :skull: \n",
    "\n",
    "People generally think of the OOP paradigm along the lines of the SOLID acrynom:\n",
    "- **S**ingle-responsibility principle\n",
    "- **O**pen-closed principle\n",
    "- **L**iskov substitution principle\n",
    "- **I**nterface segregation principle\n",
    "- **D**ependency inversion principle\n",
    "\n",
    "The general idea is that a class should have a clear purpose, shared with its subclasses and the details should not matter for users.\n",
    "\n",
    "\n",
    "See for more https://en.wikipedia.org/wiki/SOLID."
   ]
  },
  {
   "cell_type": "markdown",
   "metadata": {},
   "source": [
    "Best practices\n",
    "--------------\n",
    "\n",
    "When writing classes, there are a few principles that are worth following:\n",
    "- [ ] stick to Python conventions (eg. case, protected/private attributes, action/actor names);\n",
    "- [ ] give clear and descriptive names (*); \n",
    "- [ ] make anything protected by default;\n",
    "- [ ] provide an evaluable repr if possible;\n",
    "- [ ] inheritance is a great power, blabla responsibility :spider: (use it wisely);\n",
    "- [ ] consider returning self to chain calls;\n",
    "- [ ] type (production) code: well-typed and explicit variable names will drastically cut down the what-the-f*ck factor.\n",
    "\n",
    "\n",
    "> (*) Concise is best, long is better than fuzzy (tips: remember the single-responsibility principle). A good name prevents from writting three lines of doc.\n",
    "\n",
    "Here is an example of typing and giving a good repr:"
   ]
  },
  {
   "cell_type": "code",
   "execution_count": 14,
   "metadata": {},
   "outputs": [
    {
     "name": "stdout",
     "output_type": "stream",
     "text": [
      "LimitedCar(max_speed=10, position=0).set_speed(9)\n",
      "LimitedCar(max_speed=10, position=0).set_speed(9) @ __str__\n"
     ]
    }
   ],
   "source": [
    "from __future__ import annotations\n",
    "\n",
    "from typing import TypeVar\n",
    "\n",
    "TCar = TypeVar(\"TCar\", bound=\"Car\")\n",
    "\n",
    "\n",
    "class Car:\n",
    "    def __init__(self, position: int = 0) -> None:\n",
    "        self._position = position\n",
    "        self._speed: int = 0\n",
    "\n",
    "    def set_speed(self: TCar, speed: int) -> TCar:\n",
    "        self._speed = speed\n",
    "        return self\n",
    "\n",
    "    def accelerate(self) -> None:\n",
    "        self._speed += 1\n",
    "    \n",
    "    def decelerate(self) -> None:\n",
    "        self._speed -= 1\n",
    "    \n",
    "    def move(self) -> None:\n",
    "        self._position += self._speed\n",
    "\n",
    "    \n",
    "    def __repr__(self) -> str:\n",
    "        r = f\"{self.__class__.__qualname__}(position={self._position!r})\"\n",
    "        if self._speed != 0:\n",
    "            r = f\"{r}.set_speed({self._speed!r})\"\n",
    "        return r\n",
    "\n",
    "    def __str__(self) -> str:\n",
    "        return f\"{self!r} @ __str__\"\n",
    "    \n",
    "class LimitedCar(Car):\n",
    "    def __init__(self, max_speed: int, position: int = 0) -> None:\n",
    "        super().__init__(position)\n",
    "        self._max_speed = max_speed\n",
    "\n",
    "    def accelerate(self) -> None:\n",
    "        if self._speed < self._max_speed:\n",
    "            return super().accelerate()\n",
    "        \n",
    "    def __repr__(self) -> str:\n",
    "        r = (\n",
    "            f\"{self.__class__.__qualname__}\"\n",
    "            f\"(\"\n",
    "            f\"max_speed={self._max_speed!r}\"\n",
    "            f\", \"\n",
    "            f\"position={self._position!r}\"\n",
    "            f\")\"\n",
    "        )\n",
    "        if self._speed != 0:\n",
    "            r = f\"{r}.set_speed({self._speed!r})\"\n",
    "        return r\n",
    "    \n",
    "\n",
    "car = LimitedCar(10).set_speed(8)\n",
    "car.accelerate()\n",
    "print(repr(car))\n",
    "print(car)"
   ]
  },
  {
   "cell_type": "markdown",
   "metadata": {},
   "source": [
    "> In Python >= 3.12, the typing module gives a `Self` type to explicitly state that the instance is returned (especially useful with sublcasses: avoid to create the bounded `TypeVar`)"
   ]
  },
  {
   "cell_type": "markdown",
   "metadata": {},
   "source": [
    "Object creation\n",
    "---------------\n",
    "\n",
    "Design patterns are re-usable recipes to efficiently/elegantly solve recurring problems. One main issue of OOP is creating the right object, as is evident from the number of *creational design patterns*: abstract factory, builder, factory method, prototype, singleton, etc.\n",
    "\n",
    "There are a couple of reasons why this is:\n",
    "- the exact object needed is not known in advanced (eg. based on user input in a web interface);\n",
    "- some part of the object specification are based on context (eg. how to handle NA and which quality check to perform is clearer when you know you are handling time series).\n",
    "\n",
    "In any case, this sections deal with how to deal with object creation."
   ]
  },
  {
   "cell_type": "markdown",
   "metadata": {},
   "source": [
    "### (class) factory method"
   ]
  },
  {
   "cell_type": "markdown",
   "metadata": {},
   "source": [
    "### Builder"
   ]
  },
  {
   "cell_type": "markdown",
   "metadata": {},
   "source": [
    "### Prototype"
   ]
  }
 ],
 "metadata": {
  "kernelspec": {
   "display_name": ".venv",
   "language": "python",
   "name": "python3"
  },
  "language_info": {
   "codemirror_mode": {
    "name": "ipython",
    "version": 3
   },
   "file_extension": ".py",
   "mimetype": "text/x-python",
   "name": "python",
   "nbconvert_exporter": "python",
   "pygments_lexer": "ipython3",
   "version": "3.9.5"
  }
 },
 "nbformat": 4,
 "nbformat_minor": 2
}
