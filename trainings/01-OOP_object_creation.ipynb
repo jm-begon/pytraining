{
 "cells": [
  {
   "cell_type": "markdown",
   "metadata": {},
   "source": [
    "# OOP and object creation\n",
    "\n",
    "Brainstorm:\n",
    "- Paradigm \n",
    "- Example of encapsulation\n",
    "- Quick SOLID + encapsulation & inheritance\n",
    "- Match definition game (cognitive map of OOP): class, object, instance, interface/protocol, attribute, method, class attribute, property, public/private/protected\n",
    "- str/repr + state\n",
    "- Inheritance exercise\n",
    "- Object creation:\n",
    "    * Constructor\n",
    "    * Factory method (as class method or not)\n",
    "    * Builder\n",
    "    * Prototype\n",
    "- Generic typing?"
   ]
  },
  {
   "cell_type": "markdown",
   "metadata": {},
   "source": []
  }
 ],
 "metadata": {
  "language_info": {
   "name": "python"
  }
 },
 "nbformat": 4,
 "nbformat_minor": 2
}
