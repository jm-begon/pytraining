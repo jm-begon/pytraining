{
 "cells": [
  {
   "cell_type": "markdown",
   "metadata": {},
   "source": [
    "# Object-Oriented Programming\n",
    "\n",
    ":hourglass: 3h\n",
    "\n",
    "**Outline**:\n",
    "\n",
    "0. cOOmPass\n",
    "1. OOP introduction and examples\n",
    "2. The 4 pillars of OOP\n",
    "3. Cognitive map of OOP\n",
    "4. Dataclass & NamedTuples\n",
    "5. Best practices\n",
    "6. Object creation\n",
    "7. Closing words"
   ]
  },
  {
   "cell_type": "markdown",
   "metadata": {},
   "source": [
    "## cOOmPass\n",
    "\n",
    "What is the difference between the following pairs of concepts:\n",
    "- class and object;\n",
    "- object and instance;\n",
    "- attribute and class attribute;\n",
    "- interface/protocol and abstract class;\n",
    "- method and function;\n",
    "- class method and method;\n",
    "- public method/attribute and private method/attribute;\n",
    "- private method/attribute and protected method/attribute;\n",
    "- attribute and property."
   ]
  },
  {
   "cell_type": "markdown",
   "metadata": {},
   "source": [
    "## OOP introduction and examples\n",
    "\n",
    "### A new paradigm\n",
    "\n",
    "> A (programming) **paradigmn** is a way to think about, approach and solve a problem. It defines the (conceptual) primitives in which to think in order to create the solution.\n",
    "\n",
    "There are several broad families of paradigms:\n",
    "- Imperative: dictates how the *state* evolves\n",
    "    * Procedural: the primitives are procedures (~functions);\n",
    "    * OOP: the primitives are objects exchanging messages;\n",
    "- Declarative: expresses the relationship between primitives\n"
   ]
  },
  {
   "cell_type": "markdown",
   "metadata": {},
   "source": [
    "### Class versus object\n",
    "\n",
    "In OOP, an **object** is an entity containing information (*ie* **attributes**) and **methods**. A method is a way for objects to communicate and exchange messages. More concretly, methods are functions bound to a specific object which allos to define its behavior. It can serve to change the object state, perform a computation, etc.\n",
    "\n",
    "An object is an **instance** of a **class**. The class is the blueprint for the object; it contains the necessary information to create (*ie* instantiate) objects. Many objects of a same class can co-exist. They usually differ in the information they contain.\n",
    "\n",
    "Let's see an example."
   ]
  },
  {
   "cell_type": "code",
   "execution_count": null,
   "metadata": {},
   "outputs": [],
   "source": [
    "import math \n",
    "\n",
    "class Circle:\n",
    "    def __init__(self, radius):  # Constructor\n",
    "        self._radius = radius  # (protected) attribute\n",
    "\n",
    "    def compute_area(self):  # Method\n",
    "        return math.pi * self._radius ** 2\n",
    "\n",
    "    def compute_perimeter(self):  # Method\n",
    "        return 2 * math.pi * self._radius\n"
   ]
  },
  {
   "cell_type": "code",
   "execution_count": null,
   "metadata": {},
   "outputs": [],
   "source": [
    "c1 = Circle(2)\n",
    "c2 = Circle(5)\n",
    "\n",
    "print(\"c1 area:\", c1.compute_area())\n",
    "print(\"c2 area:\", c2.compute_area())"
   ]
  },
  {
   "cell_type": "markdown",
   "metadata": {},
   "source": [
    "In the example above, the radius is the information. `compute_area` and `compute_perimeter` are two methods. They are used to ask the object to compute its area and perimeter, respectively. Those values are returned as part of the method evocation."
   ]
  },
  {
   "cell_type": "markdown",
   "metadata": {},
   "source": [
    "## The 4 pillars of OOP\n",
    "\n",
    "**Encapsulation**. **Inheritance**. **Polymorphism**. **Abstraction**. Those four pillars are what define the OOP paradigm.\n",
    "\n"
   ]
  },
  {
   "cell_type": "markdown",
   "metadata": {},
   "source": [
    "### Encapsulation\n",
    "\n",
    "Encapsulation is about shipping together the information (*ie* attributes) and the behavior (*ie* methods) of an object. It helps in enforcing consistency when implementation details change."
   ]
  },
  {
   "cell_type": "markdown",
   "metadata": {},
   "source": [
    "### Inheritance\n",
    "\n",
    "Inheritance allows to organize concepts in hierarchy, placing common code in **parent** classes, and specificities in **child** classes."
   ]
  },
  {
   "cell_type": "code",
   "execution_count": null,
   "metadata": {},
   "outputs": [],
   "source": [
    "class Rectangle:\n",
    "    def __init__(self, height, width):\n",
    "        self._height = height\n",
    "        self._width = width\n",
    "\n",
    "    def compute_area(self):\n",
    "        return self._height * self._width\n",
    "\n",
    "    def compute_perimeter(self):\n",
    "        return 2 * (self._height + self._width)\n",
    "    \n",
    "\n",
    "class Square(Rectangle):  # Inherit from `Rectangle`\n",
    "    def __init__(self, size):\n",
    "        super().__init__(size, size)  # call the parent's constructor\n",
    "\n",
    "\n",
    "sq = Square(2)\n",
    "print(\"sq perimenter:\", sq.compute_perimeter())\n",
    "print(\"sq area:\", sq.compute_area())\n",
    "        "
   ]
  },
  {
   "cell_type": "markdown",
   "metadata": {},
   "source": [
    "### Polymorphism\n",
    "\n",
    "Polymorphism is the ability for different object to be treated agnostically so long as they follow some scheme. Most of the time this done via inheritance. "
   ]
  },
  {
   "cell_type": "code",
   "execution_count": null,
   "metadata": {},
   "outputs": [],
   "source": [
    "import math \n",
    "\n",
    "class Shape:\n",
    "    def compute_area(self):\n",
    "        raise NotImplementedError()\n",
    "\n",
    "    def compute_perimeter(self):\n",
    "        raise NotImplementedError()\n",
    "\n",
    "class Circle(Shape):\n",
    "    def __init__(self, radius):  \n",
    "        self._radius = radius\n",
    "\n",
    "    def compute_area(self):\n",
    "        return math.pi * self._radius ** 2\n",
    "\n",
    "    def compute_perimeter(self):\n",
    "        return 2 * math.pi * self._radius\n",
    "    \n",
    "class Rectangle(Shape):\n",
    "    def __init__(self, height, width):\n",
    "        self._height = height\n",
    "        self._width = width\n",
    "\n",
    "    def compute_area(self):\n",
    "        return self._height * self._width\n",
    "\n",
    "    def compute_perimeter(self):\n",
    "        return 2 * (self._height + self._width)\n",
    "    \n",
    "\n",
    "def print_area_and_perimeter(shape):  # Only knows it is a shape, not exact class\n",
    "    print(\"Area:\", shape.compute_area())\n",
    "    print(\"Perimeter:\", shape.compute_perimeter())\n",
    "\n",
    "\n",
    "print_area_and_perimeter(Circle(2))\n",
    "print(\"----\")\n",
    "print_area_and_perimeter(Rectangle(2, 3))"
   ]
  },
  {
   "cell_type": "markdown",
   "metadata": {},
   "source": [
    "In the example above, we re-defined the `compute_area` and `compute_perimeter` methods. This is referred to as **overriding**"
   ]
  },
  {
   "cell_type": "markdown",
   "metadata": {},
   "source": [
    "### Abstraction\n",
    "\n",
    "Abstraction is the idea that complexity should be hidden, only the relevant part for interacting with the object should be known. Polymorphism is already a mechanism for abstraction. Another one is restricting the visibility of some details (attribute or method).\n",
    "\n",
    "An attribute/method can be:\n",
    "- **public** (default), which means it visible by anyone;\n",
    "- **protected**, which means it is only visible within the class and its subclasses;\n",
    "- **private**, which means it is only visible within the class.\n",
    "\n",
    "In Python, restricting visibility is less strict than in other OOP languages; it relies mostly on convention. An attribute/method prefixed by a single underscore (*eg* `_radius`) is considered as protected. When prefixed with two underscores (*eg* `__color`) it is private (a mechanism makes it harder to use directly). If it neither private nor protected, it is public.\n",
    "\n",
    "> Restricting visibility is important. No more than what is needed should be disclosed (like a whitelist approach). If unnecessary details are available, users might rely on them, which will prevent the class from evolving. As a rule of thumb, make everything protected unless it needs to be public.\n"
   ]
  },
  {
   "cell_type": "markdown",
   "metadata": {},
   "source": [
    "### Exercise\n",
    "\n",
    "Create a hierarchy of animal classes. `Animal` should be the parent class and it should have a `sound` method which must be overloaded by its children classes. You can just print the relevant sound (*eg.* \"Meow\" for a cat). Create at least two subclasses."
   ]
  },
  {
   "cell_type": "code",
   "execution_count": null,
   "metadata": {},
   "outputs": [],
   "source": []
  },
  {
   "cell_type": "markdown",
   "metadata": {},
   "source": [
    "## Cognitive map of OOP\n",
    "\n",
    "So far, we have covered the following lingo:\n",
    "- class\n",
    "- object (instance)\n",
    "- attribute\n",
    "- method\n",
    "- inheritance (parent/child)\n",
    "- overriding\n",
    "- visibility (public, protected, private)\n",
    "\n",
    "we need to cover a few more concepts: class attribute/method, overloading, getter/setter (`property`)."
   ]
  },
  {
   "cell_type": "markdown",
   "metadata": {},
   "source": [
    "### Class attributes and methods\n",
    "\n",
    "In general, attributes are bound to an object. This is what makes instantiating interesting. In the same fashion, methods are bound to the object, so that they can access the *object* attributes. Sometimes, however, you want to bound attributes or methods to the class, rather than the object."
   ]
  },
  {
   "cell_type": "markdown",
   "metadata": {},
   "source": [
    "For attributes, the most common case is to store class-wise constant:"
   ]
  },
  {
   "cell_type": "code",
   "execution_count": null,
   "metadata": {},
   "outputs": [],
   "source": [
    "class Circle:\n",
    "    PI = 3.141592653589793  # class constant; same for all instances\n",
    "\n",
    "    def __init__(self, radius):  \n",
    "        self._radius = radius\n",
    "\n",
    "    def compute_area(self):\n",
    "        return self.PI * self._radius ** 2  # Still access through the `self` keyword\n",
    "\n",
    "    def compute_perimeter(self):\n",
    "        return 2 * self.PI * self._radius\n",
    "    \n",
    "\n",
    "Circle(2).compute_area()"
   ]
  },
  {
   "cell_type": "markdown",
   "metadata": {},
   "source": [
    "For methods, there are two main usecases:\n",
    "- provide alternative ways to build object (see factory method);\n",
    "- encapsulate relevant code which does not rely on the object attributes.\n",
    "\n",
    "> :skull: For the latter case, static method can also be used. How they interact with inheritance is a bit different, however."
   ]
  },
  {
   "cell_type": "markdown",
   "metadata": {},
   "source": [
    "### Overloading\n",
    "\n",
    "In some languages, it is possible to declare several methods with the same name but different signatures. The proper method will be called by matching the signature. This mechanism is absent in Python. Instead, it is possible to provide default arguments to methods. Here is an example:"
   ]
  },
  {
   "cell_type": "code",
   "execution_count": null,
   "metadata": {},
   "outputs": [],
   "source": [
    "class Circle:\n",
    "    def __init__(self, radius=1.):  # By default, create the trigonometric circle\n",
    "        self._radius = radius\n",
    "\n",
    "    def get_radius(self):\n",
    "        return self._radius\n",
    "\n",
    "print(Circle().get_radius())\n",
    "print(Circle(1).get_radius())\n",
    "print(Circle(2).get_radius())\n",
    "print(Circle(radius=3).get_radius()) "
   ]
  },
  {
   "cell_type": "markdown",
   "metadata": {},
   "source": [
    "To be able to match the argument, a parameter with default value cannot precede a parameter without.\n",
    "\n",
    "> :skull: As of Python 3.8, the `singledispatchmethod` was added to the `functools` library to mimic basic overloading."
   ]
  },
  {
   "cell_type": "markdown",
   "metadata": {},
   "source": [
    "### Getter/setter\n",
    "\n",
    "Consider the following example. What will be the ouput?"
   ]
  },
  {
   "cell_type": "code",
   "execution_count": null,
   "metadata": {},
   "outputs": [],
   "source": [
    "class Rectangle:\n",
    "    def __init__(self, height, width):\n",
    "        self.height = height  # public attributes\n",
    "        self.width = width  # public attributes\n",
    "\n",
    "    def compute_area(self):\n",
    "        return self.height * self.width\n",
    "\n",
    "\n",
    "rect = Rectangle(1, 2)\n",
    "rect.height = 10\n",
    "print(rect.height, \"x\", rect.width, \"=\", rect.compute_area())"
   ]
  },
  {
   "cell_type": "markdown",
   "metadata": {},
   "source": [
    "Changing the height value is allowed because the attribute is public. Sometimes you want to restrict the user from editing those values, while still allowing the value to be readable. This is done via `property`:"
   ]
  },
  {
   "cell_type": "code",
   "execution_count": null,
   "metadata": {},
   "outputs": [],
   "source": [
    "class Rectangle:\n",
    "    def __init__(self, height, width):\n",
    "        self._height = height  # protected attributes\n",
    "        self._width = width  # protected attributes\n",
    "\n",
    "    @property\n",
    "    def height(self):\n",
    "        return self._height\n",
    "    \n",
    "    @property\n",
    "    def width(self):\n",
    "        return self._width\n",
    "\n",
    "    def compute_area(self):\n",
    "        return self.height * self.width\n",
    "    \n",
    "rect = Rectangle(1, 2)\n",
    "print(rect.height, \"x\", rect.width)\n",
    "rect.height = 10\n",
    "print(rect.height, \"x\", rect.width, \"=\", rect.compute_area())"
   ]
  },
  {
   "cell_type": "markdown",
   "metadata": {},
   "source": [
    "the public `height` method is turned into a getter, it returns the value of the protected `_height` attribute, but it is not editable. Using `property` also allow to change the implementation detail while keeping the same interface:"
   ]
  },
  {
   "cell_type": "code",
   "execution_count": null,
   "metadata": {},
   "outputs": [],
   "source": [
    "class Rectangle:\n",
    "    def __init__(self, height, width):\n",
    "        self._height = height  \n",
    "        self._delta = width-height  # We change the information we store...\n",
    "\n",
    "    # ...but the interface is unchanged\n",
    "    @property\n",
    "    def height(self):\n",
    "        return self._height\n",
    "    \n",
    "    @property\n",
    "    def width(self):\n",
    "        return self.height + self._delta\n",
    "\n",
    "    def compute_area(self):\n",
    "        return self.height * self.width\n",
    "    \n",
    "rect = Rectangle(10, 2)\n",
    "print(rect.height, \"x\", rect.width, \"=\", rect.compute_area())"
   ]
  },
  {
   "cell_type": "markdown",
   "metadata": {},
   "source": [
    "> Notice how the `width` property behaves like a method and perform a short computation. Property should never be used for complex computations.\n",
    "\n",
    "> Note that it is possible to turn a property into both a getter and setter. Having a separate `set_` method (*eg.* `set_height`) might provide more flexibility, however (such as chaining calls by returning `self`)."
   ]
  },
  {
   "cell_type": "markdown",
   "metadata": {},
   "source": [
    "### Exercise\n",
    "\n",
    "Go back to the animal example and add an `age` attribute. It should be read-only."
   ]
  },
  {
   "cell_type": "code",
   "execution_count": null,
   "metadata": {},
   "outputs": [],
   "source": []
  },
  {
   "cell_type": "markdown",
   "metadata": {},
   "source": [
    "## Dataclass and NamedTuple\n",
    "\n",
    "### Dataclass \n",
    "When writing code, some classes will naturally tend to have lots of methods and do big computations. Sometimes, however, you will just need a convenient way to store data, possibly with a couple of methods. For that data classes are great and efficient:"
   ]
  },
  {
   "cell_type": "code",
   "execution_count": null,
   "metadata": {},
   "outputs": [],
   "source": [
    "from dataclasses import dataclass  # import the dataclass decorator\n",
    "\n",
    "import datetime as dt\n",
    "from typing import Optional\n",
    "\n",
    "@dataclass  # annotate the class as being a dataclass\n",
    "class Person:\n",
    "    first_name: str\n",
    "    last_name: str\n",
    "    birth_date: dt.date\n",
    "    likes_python: bool = True\n",
    "\n",
    "    def get_age(self, at_date):\n",
    "        if at_date is None:\n",
    "            at_date = dt.date.today()\n",
    "\n",
    "        return at_date.year - self.birth_date.year\n",
    "\n",
    "\n",
    "p = Person(\"Guido\", \"van Rossum\", dt.date(1956, 1, 31))\n",
    "print(f\"Age: {p.get_age()} ({p})\")"
   ]
  },
  {
   "cell_type": "markdown",
   "metadata": {},
   "source": [
    "The `dataclass` annotation will generate the `__init__` method (as well as other things). You only need to declare and type the attribute the *instance* will have within the *class* body. Note how the `likes_python` default value was passed to the instance.\n",
    "\n",
    "There are a few ways to customize the dataclass:\n",
    "- you can have complex (ie. more complex than a default value) initialization; see `dataclasses.Field` and the `__post_init__` method;\n",
    "- you can customize whether the instances are mutable, comparable, representable and hashable; see the full documentation at https://docs.python.org/3.9/library/dataclasses.html\n"
   ]
  },
  {
   "cell_type": "markdown",
   "metadata": {},
   "source": [
    "### NamedTuple\n",
    "\n",
    "An alternative to dataclasses is named tuples, which can be used in essentially the same manner:"
   ]
  },
  {
   "cell_type": "code",
   "execution_count": null,
   "metadata": {},
   "outputs": [],
   "source": [
    "from typing import NamedTuple\n",
    "\n",
    "import datetime as dt\n",
    "from typing import Optional\n",
    "\n",
    "class Person(NamedTuple):  # inherit from NamedTuple\n",
    "    first_name: str\n",
    "    last_name: str\n",
    "    birth_date: dt.date\n",
    "    likes_python: bool = True\n",
    "\n",
    "    def get_age(self, at_date: Optional[dt.date] = None) -> int:  # Defining behavior on NamedTuple is discouraged\n",
    "        if at_date is None:\n",
    "            at_date = dt.date.today()\n",
    "\n",
    "        return at_date.year - self.birth_date.year\n",
    "\n",
    "\n",
    "p = Person(\"Guido\", \"van Rossum\", dt.date(1956, 1, 31))\n",
    "print(f\"Age: {p.get_age()} ({p})\")\n",
    "for x in p:\n",
    "    print(x)"
   ]
  },
  {
   "cell_type": "markdown",
   "metadata": {},
   "source": [
    "The main differences between the two can be summarized as followed:\n",
    "\n",
    "| Property     | Dataclass                                | NamedTuple |\n",
    "|--------------|------------------------------------------|------------|\n",
    "| Mutable      | Yes (but can be restricted)              | No         |\n",
    "| Customizable | Yes (repr, hash, mutability, comparison) | No         |\n",
    "| Unpackable   | No                                       | Yes        |\n",
    "\n",
    "As a rule of thumb, \n",
    "- if you would have used a tuple but naming the fields makes it easier to manipulate, go for a NamedTuple. For instance, when returning several values at the end of a function, or when creating a DataFrame:\n",
    "- if you have many fields and some logic, go for a dataclass;\n",
    "- if you deal with inheritance, go for a dataclass;\n",
    "- exercise judgment for the gray in-between.\n",
    "\n",
    "> There is an alternative syntax which does not need to inherint from `NamedTuple`: https://docs.python.org/3.9/library/collections.html#collections.namedtuple (it was the original syntax, although I personnally feel it is a bit unweildy)."
   ]
  },
  {
   "cell_type": "markdown",
   "metadata": {},
   "source": [
    "## Best practices\n",
    "\n",
    "### Abstract class and methods\n",
    "\n",
    "An abstract class is class that is not meant to be instantiated. We already have seen a case: `Shape`. However, we did not follow the convention to label the class as abstract. Here is the full example:\n"
   ]
  },
  {
   "cell_type": "code",
   "execution_count": null,
   "metadata": {},
   "outputs": [],
   "source": [
    "from abc import ABCMeta, abstractmethod\n",
    "\n",
    "class Shape(metaclass=ABCMeta):\n",
    "\n",
    "    @abstractmethod\n",
    "    def compute_area(self):\n",
    "        raise NotImplementedError()\n",
    "\n",
    "    @abstractmethod\n",
    "    def compute_perimeter(self):\n",
    "        raise NotImplementedError()\n",
    "\n",
    "Shape()\n"
   ]
  },
  {
   "cell_type": "markdown",
   "metadata": {},
   "source": [
    "### A strange case\n",
    "\n",
    "What will be the output of the last statement?"
   ]
  },
  {
   "cell_type": "code",
   "execution_count": null,
   "metadata": {},
   "outputs": [],
   "source": [
    "class MutableAsDefault:\n",
    "    def __init__(self, ls=[]):\n",
    "        self._list = ls\n",
    "\n",
    "    def append(self, x):\n",
    "        self._list.append(x)\n",
    "\n",
    "    def print_it(self):\n",
    "        print(self._list)\n",
    "\n",
    "o1 = MutableAsDefault()\n",
    "o1.append(1)\n",
    "o1.append(2)\n",
    "\n",
    "o2 = MutableAsDefault()\n",
    "o2.append(\"A\")\n",
    "\n",
    "o2.print_it()"
   ]
  },
  {
   "cell_type": "markdown",
   "metadata": {},
   "source": [
    "### Checklist\n",
    "\n",
    "\n",
    "When writing classes, there are a few principles that are worth following:\n",
    "- [ ] stick to Python conventions (eg. case, protected/private attributes, action/actor names);\n",
    "- [ ] give clear and descriptive names (*); \n",
    "- [ ] make anything protected by default;\n",
    "- [ ] provide an evaluable repr if possible;\n",
    "- [ ] inheritance is a great power, blabla responsibility :spider: (use it wisely);\n",
    "- [ ] consider returning self to chain calls;\n",
    "- [ ] type (production) code: well-typed and explicit variable names will drastically cut down the what-the-f*ck factor;\n",
    "- [ ] **never** use a mutable object as default value.\n",
    "\n",
    "\n",
    "> (*) Concise is best, long is better than fuzzy (tips: remember the single-responsibility principle). A good name prevents from writting three lines of doc.\n",
    "\n",
    "Here is an example of typing and giving a good repr:"
   ]
  },
  {
   "cell_type": "markdown",
   "metadata": {},
   "source": [
    "### Good repr\n",
    "\n",
    "An example of good (*ie* evaluable) representation of an object:"
   ]
  },
  {
   "cell_type": "code",
   "execution_count": null,
   "metadata": {},
   "outputs": [],
   "source": [
    "class Circle:\n",
    "    def __init__(self, radius):  \n",
    "        self._radius = radius\n",
    "\n",
    "    def compute_area(self):\n",
    "        return math.pi * self._radius ** 2\n",
    "\n",
    "    def compute_perimeter(self):\n",
    "        return 2 * math.pi * self._radius\n",
    "\n",
    "    def __repr__(self):\n",
    "        return f\"{self.__class__.__qualname__}({self._radius})\"\n",
    "    \n",
    "    def __str__(self):\n",
    "        return f\"This is a circle of radius {self._radius}\"\n",
    "\n",
    "print(Circle(2))\n",
    "print(repr(Circle(2)))"
   ]
  },
  {
   "cell_type": "markdown",
   "metadata": {},
   "source": [
    "> `__str__`, `__repr__` and `__init__` are called dunder (double underscore) methods. These are special methods. The former must return a string associated to the object. The second must return a string representation. It must be such that two different object have different representation (what counts as different object is a discussion in itself). There are many other dunder methods."
   ]
  },
  {
   "cell_type": "markdown",
   "metadata": {},
   "source": [
    "### Exercise\n",
    "\n",
    "Review the animal examples. Enforce all the conventions. In particular, make sure you give the classes a good representaiton, as well properly write the abstract base class."
   ]
  },
  {
   "cell_type": "code",
   "execution_count": null,
   "metadata": {},
   "outputs": [],
   "source": []
  },
  {
   "cell_type": "markdown",
   "metadata": {},
   "source": [
    "## Object creation\n",
    "\n",
    "Design patterns are re-usable recipes to efficiently/elegantly solve recurring problems. One main issue of OOP is creating the right object, as is evident from the number of *creational design patterns*: abstract factory, builder, factory method, prototype, singleton, etc.\n",
    "\n",
    "There are a couple of reasons why this is:\n",
    "- the exact object needed is not known in advance (eg. based on user input in a web interface);\n",
    "- some parts of the object specification are based on context (eg. how to handle NA and which quality check to perform is clearer when you know you are handling time series);\n",
    "- some steps that belong (conceptually) to the creation process but are taken care of in the constructor must be taken.\n",
    "\n",
    "In any case, this section is about dealing with object creation."
   ]
  },
  {
   "cell_type": "markdown",
   "metadata": {},
   "source": [
    "### (class) factory method\n",
    "\n",
    ":hourglass: 20 min\n",
    "\n",
    "A factory method is just a method that returns a new instance. Unless there is a specific reason to have it outside of the class, it usually comes in the form of a `classmethod`.\n",
    "\n",
    "> `classmethod` have mostly two usecases: factory and being a placeholder for code that needs to be encapsulated with the class, but is not dependent on the instance. Arguably, the latter is also the realm of `staticmethod` (if there is no dependcy on the class attributes). `staticmethod` tends to be disregarded; see with your team how you want to approach those elements.\n",
    "\n",
    "Here is an example of a factory method:"
   ]
  },
  {
   "cell_type": "code",
   "execution_count": null,
   "metadata": {},
   "outputs": [],
   "source": [
    "# Example of factory method\n",
    "\n",
    "class Rectangle:\n",
    "    @classmethod  # Annotation to specify this is a class-bound method\n",
    "    def create_square(cls, size):\n",
    "        return cls(size, size)  # call the constructor\n",
    "    \n",
    "\n",
    "    def __init__(self, height, width):\n",
    "        self._height = height\n",
    "        self._width = width\n",
    "\n",
    "    def compute_area(self):\n",
    "        return self._height * self._width\n",
    "\n",
    "    def compute_perimeter(self):\n",
    "        return 2 * (self._height + self._width)\n",
    "    \n",
    "sq = Rectangle.create_square(2)\n",
    "sq.compute_area()"
   ]
  },
  {
   "cell_type": "markdown",
   "metadata": {},
   "source": [
    "**DOs**:\n",
    "- use a clear name (usually an action verb) to indicate it is factory (eg. `create`, `cons`) and be as specific as you can in the name;\n",
    "    * if you are creating an instance from another (type of) object, eg. a string you can name the factory `from_string`;\n",
    "- use factories when \n",
    "    * the logic is small and not too flexible;\n",
    "    * you want an evaluable `repr` but the way the user will create the object is not compatible;\n",
    "    * you want to offer a small set of unflexible alternatives to create the object;\n",
    "    * expose only one class but allow for subclasses.\n",
    "\n",
    "**DON'Ts**:\n",
    "- create a factory if a classical constructor would do;\n",
    "- create a factory for flexibility and complex logic (prefer the builder).\n",
    "\n",
    "> :skull: it is possible to get the type returned from the factory to be based on the actual class from which you use the factory, although mixing inheritance and factory is tricky."
   ]
  },
  {
   "cell_type": "markdown",
   "metadata": {},
   "source": [
    "### Exercise\n",
    "\n",
    "Create a `PolarPoint` class which represents a point in the cartesian plane. Provide a factory method to create a point from its polar coordinates, ie. the radius $r$ and the angle $\\theta$:\n",
    "\n",
    "$$\\begin{aligned} x &= r \\cos(\\theta) \\\\ y &= r \\sin(\\theta) \\end{aligned}$$\n",
    "\n"
   ]
  },
  {
   "cell_type": "code",
   "execution_count": null,
   "metadata": {},
   "outputs": [],
   "source": []
  },
  {
   "cell_type": "markdown",
   "metadata": {},
   "source": [
    "### Other patterns\n",
    "\n",
    "Other patterns are dedicated to the construction of objects:\n",
    "\n",
    "- **Singleton**\n",
    "    * Ensures that a class has only one instance and provides a global point of access to it.\n",
    "    * **Use Case**: Managing shared resources like configuration settings or a logging system.\n",
    "\n",
    "\n",
    "- **Factory Method** (alternative)\n",
    "    * Defines an interface for creating objects but lets subclasses alter the type of objects that will be created.\n",
    "    * **Use Case**: Delegating object creation to subclasses for flexibility.\n",
    "\n",
    "- **Abstract Factory**\n",
    "    * Provides an interface for creating families of related or dependent objects without specifying their concrete classes.\n",
    "    * **Use Case**: Ensuring consistent object families in complex systems (e.g., UI themes).\n",
    "\n",
    "- **Builder** (lazy instantiation)\n",
    "    * Separates the construction of a complex object from its representation, allowing the same construction process to create different representations.\n",
    "    * **Use Case**: Constructing objects with many configuration options (e.g., assembling a car).\n",
    "\n",
    "\n",
    "- **Prototype**\n",
    "    * Creates new objects by copying an existing object (prototype) rather than creating from scratch.\n",
    "    * **Use Case**: Cloning objects when object creation is expensive (e.g., deep copying).\n",
    "\n",
    "- **Object Pool**\n",
    "    * Manages a pool of reusable objects, offering a way to minimize the cost of creating and destroying objects.\n",
    "    * **Use Case**: Resource-intensive operations like database connections or thread management.\n"
   ]
  },
  {
   "cell_type": "markdown",
   "metadata": {},
   "source": [
    "## Closing words\n",
    "\n",
    "### Args and kwargs\n",
    ":hourglass: 10 min\n",
    "\n",
    "\n",
    "Can you guess the outcome of the following snippets?"
   ]
  },
  {
   "cell_type": "code",
   "execution_count": null,
   "metadata": {},
   "outputs": [],
   "source": [
    "def f(x, y=\"y\", *args, **kwargs):\n",
    "    print(x, y, args, kwargs)"
   ]
  },
  {
   "cell_type": "code",
   "execution_count": null,
   "metadata": {},
   "outputs": [],
   "source": [
    "f(\"a\")"
   ]
  },
  {
   "cell_type": "code",
   "execution_count": null,
   "metadata": {},
   "outputs": [],
   "source": [
    "f(\"a\", \"b\", \"c\", \"d\")"
   ]
  },
  {
   "cell_type": "code",
   "execution_count": null,
   "metadata": {},
   "outputs": [],
   "source": [
    "f(\"a\", \"b\", \"c\", e=\"e\")"
   ]
  },
  {
   "cell_type": "code",
   "execution_count": null,
   "metadata": {},
   "outputs": [],
   "source": [
    "f(\"a\", \"b\", e=\"e\", x=\"x\")"
   ]
  },
  {
   "cell_type": "code",
   "execution_count": null,
   "metadata": {},
   "outputs": [],
   "source": [
    "f(*[\"a\", \"b\", \"c\"], **{\"w\":\"w\", \"v\":\"v\"})"
   ]
  },
  {
   "cell_type": "code",
   "execution_count": null,
   "metadata": {},
   "outputs": [],
   "source": [
    "def g(a, b, *, prefix=\"\"):\n",
    "    print(prefix, a, b)"
   ]
  },
  {
   "cell_type": "code",
   "execution_count": null,
   "metadata": {},
   "outputs": [],
   "source": [
    "g(1, 2)"
   ]
  },
  {
   "cell_type": "code",
   "execution_count": null,
   "metadata": {},
   "outputs": [],
   "source": [
    "g(1, 2, 3)"
   ]
  },
  {
   "cell_type": "code",
   "execution_count": null,
   "metadata": {},
   "outputs": [],
   "source": [
    "g(1, 2, prefix=3)"
   ]
  },
  {
   "cell_type": "markdown",
   "metadata": {},
   "source": [
    "### Conclusion\n",
    ":hourglass: 5 min\n",
    "\n",
    "This module was about OOP and object creation. We discussed the core concepts behind OOP (eg. clear concept, encapsulation), some best practices, and dataclasses. We also illustrated a few creational design patterns and the basics of typing in Python.\n",
    "\n",
    "**Dunderscore**:\n",
    "- `__init__`\n",
    "- `__repr__`\n",
    "- `__str__`"
   ]
  }
 ],
 "metadata": {
  "kernelspec": {
   "display_name": "base",
   "language": "python",
   "name": "python3"
  },
  "language_info": {
   "codemirror_mode": {
    "name": "ipython",
    "version": 3
   },
   "file_extension": ".py",
   "mimetype": "text/x-python",
   "name": "python",
   "nbconvert_exporter": "python",
   "pygments_lexer": "ipython3",
   "version": "3.9.5"
  }
 },
 "nbformat": 4,
 "nbformat_minor": 2
}
