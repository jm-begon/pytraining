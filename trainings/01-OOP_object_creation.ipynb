{
 "cells": [
  {
   "cell_type": "markdown",
   "metadata": {},
   "source": [
    "# Object Oriented Programming and object creation\n",
    "\n",
    ":hourglass: 3h\n",
    "\n",
    "**Outline**:\n",
    "1. OOP\n",
    "2. Data classes\n",
    "3. Best practices\n",
    "4. Object creation\n",
    "5. Closing words"
   ]
  },
  {
   "cell_type": "markdown",
   "metadata": {},
   "source": [
    "## 1. OOP\n"
   ]
  },
  {
   "cell_type": "markdown",
   "metadata": {},
   "source": [
    "\n",
    "### The OOP paradigm\n",
    "\n",
    ":hourglass: 20 min\n",
    "\n",
    "> A (programming) **paradigmn** is a way to think about, approach and solve a problem. It defines the (conceptual) primitives in which to think in order to create the solution.\n",
    "\n",
    "There are several broad families of paradigms:\n",
    "- Imperative: dictates how the *state* evolves\n",
    "    * Procedural: the primivites are procedures (~functions);\n",
    "    * OOP: the primivites are objects exchanging messages;\n",
    "- Declarative: expresses the relationship between primitives\n",
    "\n",
    "The example below illustrates the difference between the procedural and OOP paradigm."
   ]
  },
  {
   "cell_type": "code",
   "execution_count": 2,
   "metadata": {},
   "outputs": [
    {
     "name": "stdout",
     "output_type": "stream",
     "text": [
      "Car position: 2\n"
     ]
    }
   ],
   "source": [
    "# Procedural\n",
    "\n",
    "def create_car(position=0, speed=0):\n",
    "    return {\"position\": position, \"speed\": speed}\n",
    "\n",
    "def accelerate_car(car):\n",
    "    car[\"speed\"] += 1\n",
    "\n",
    "def decelerate_car(car):\n",
    "    car[\"speed\"] -= 1\n",
    "\n",
    "def move_car(car):\n",
    "    car[\"position\"] += car[\"speed\"]\n",
    "\n",
    "car = create_car(speed=1)\n",
    "accelerate_car(car)\n",
    "move_car(car)\n",
    "print(\"Car position:\", car[\"position\"])"
   ]
  },
  {
   "cell_type": "code",
   "execution_count": 5,
   "metadata": {},
   "outputs": [
    {
     "name": "stdout",
     "output_type": "stream",
     "text": [
      "Car position: 2\n"
     ]
    }
   ],
   "source": [
    "# OOP\n",
    "\n",
    "class Car:\n",
    "    def __init__(self, position=0, speed=0) -> None:\n",
    "        self._position = position\n",
    "        self._speed = speed\n",
    "\n",
    "    def accelerate(self):\n",
    "        self._speed += 1\n",
    "\n",
    "    def decelerate(self):\n",
    "        self._speed -= 1\n",
    "\n",
    "    def move(self):\n",
    "        self._position += self._speed\n",
    "\n",
    "    def print_position(self):\n",
    "        print(\"Car position:\", self._position)\n",
    "\n",
    "car = Car(speed=1)\n",
    "car.accelerate()\n",
    "car.move()\n",
    "car.print_position()\n"
   ]
  },
  {
   "cell_type": "markdown",
   "metadata": {},
   "source": [
    "At first glance there are not many differences between the two approaches. However, those are fundamental!\n",
    "\n",
    "The car class **encapsulate** both the data (ie. `position` and `speed`) as well as the behavior (`accelerate`, `decelerate`, `move` and `print_position`). This has a few advantages:\n",
    "- *maintainability*: the behavior of the `car` sits with its data: you need only to edit the code in one place;\n",
    "- *abstraction*: the user does not need know (and cannot mess up with) the details: it only sends messages via the methods;\n",
    "- *conceptualization*: the notion of objects makes it easy to think in business terms;\n",
    "- *inheritance*: the way the code is written makes it easy to implement inheritance a structured way.\n",
    "\n",
    "\n",
    "Let's see an example of inheritance:"
   ]
  },
  {
   "cell_type": "code",
   "execution_count": 10,
   "metadata": {},
   "outputs": [
    {
     "name": "stdout",
     "output_type": "stream",
     "text": [
      "Max speed reached\n"
     ]
    }
   ],
   "source": [
    "# Inheritance\n",
    "\n",
    "class LimitedCar(Car):\n",
    "    def __init__(self, max_speed, position=0, speed=0) -> None:\n",
    "        super().__init__(position, speed)\n",
    "        self._max_speed = max_speed\n",
    "\n",
    "    def accelerate(self):\n",
    "        if self._speed < self._max_speed:\n",
    "            return super().accelerate()\n",
    "        else:\n",
    "            print(\"Max speed reached\")\n",
    "    \n",
    "\n",
    "car = LimitedCar(max_speed=4, speed=3)\n",
    "car.accelerate()\n",
    "car.accelerate()"
   ]
  },
  {
   "cell_type": "markdown",
   "metadata": {},
   "source": [
    "### Cognitive map of OOP\n",
    "\n",
    ":hourglass: 30 min\n",
    "\n",
    "What is the difference between the following pairs of concepts:\n",
    "- class and object\n",
    "- object and instance\n",
    "- class attribute and attribute\n",
    "- attribute and property\n",
    "- interface/protocol and abstract class\n",
    "- method and function\n",
    "- class method and method\n",
    "- public method/attribute and private method/attribute\n",
    "- private method/attribute and protected method/attribute"
   ]
  },
  {
   "cell_type": "markdown",
   "metadata": {},
   "source": [
    "### The SOLID principles  :skull: \n",
    "\n",
    "People generally think of the OOP paradigm along the lines of the SOLID acrynom:\n",
    "- **S**ingle-responsibility principle\n",
    "- **O**pen-closed principle\n",
    "- **L**iskov substitution principle\n",
    "- **I**nterface segregation principle\n",
    "- **D**ependency inversion principle\n",
    "\n",
    "The general idea is that a class should have a clear purpose, shared with its subclasses and the details should not matter for users.\n",
    "\n",
    "\n",
    "See for more https://en.wikipedia.org/wiki/SOLID."
   ]
  },
  {
   "cell_type": "markdown",
   "metadata": {},
   "source": [
    "## 2.Data classes\n",
    "\n",
    ":hourglass: 10 min break + 20 min\n",
    "\n",
    "### Usage \n",
    "When writing code, some classes will naturally tend to have lots of methods and do big computations. Sometimes, however, you will just need a convenient way to store data, possibly with a couple of methods. For that data classes are great and efficient:"
   ]
  },
  {
   "cell_type": "code",
   "execution_count": 19,
   "metadata": {},
   "outputs": [
    {
     "name": "stdout",
     "output_type": "stream",
     "text": [
      "Age: 68 (Person(first_name='Guido', last_name='van Rossum', birth_date=datetime.date(1956, 1, 31), likes_python=True))\n",
      "<bound method __create_fn__.<locals>.__init__ of Person(first_name='Guido', last_name='van Rossum', birth_date=datetime.date(1956, 1, 31), likes_python=True)>\n"
     ]
    }
   ],
   "source": [
    "from dataclasses import dataclass  # import the dataclass decorator\n",
    "\n",
    "import datetime as dt\n",
    "from typing import Optional\n",
    "\n",
    "@dataclass  # annotate the class as being a dataclass\n",
    "class Person:\n",
    "    first_name: str\n",
    "    last_name: str\n",
    "    birth_date: dt.date\n",
    "    likes_python: bool = True\n",
    "\n",
    "    def get_age(self, at_date: Optional[dt.date] = None) -> int:\n",
    "        if at_date is None:\n",
    "            at_date = dt.date.today()\n",
    "\n",
    "        return at_date.year - self.birth_date.year\n",
    "\n",
    "\n",
    "p = Person(\"Guido\", \"van Rossum\", dt.date(1956, 1, 31))\n",
    "print(f\"Age: {p.get_age()} ({p})\")"
   ]
  },
  {
   "cell_type": "markdown",
   "metadata": {},
   "source": [
    "The `dataclass` annotation will generate the `__init__` method (as well as other things). You only need to declare and type the attribute the *instance* will have within the *class* body. Note how the `likes_python` default value was passed to the instance.\n",
    "\n",
    "There are a few ways to customize the dataclass:\n",
    "- you can have complex (ie. more complex than a default value) initialization; see `dataclasses.Field` and the `__post_init__` method;\n",
    "- you can customize whether the instances are mutable, comparable, representable and hashable; see the full documentation at https://docs.python.org/3.9/library/dataclasses.html\n"
   ]
  },
  {
   "cell_type": "markdown",
   "metadata": {},
   "source": [
    "### Dataclass and NamedTuple\n",
    "\n",
    "An alternative to dataclasses are named tuples, which can be used in essentially the same manner:"
   ]
  },
  {
   "cell_type": "code",
   "execution_count": 20,
   "metadata": {},
   "outputs": [
    {
     "name": "stdout",
     "output_type": "stream",
     "text": [
      "Age: 68 (Person(first_name='Guido', last_name='van Rossum', birth_date=datetime.date(1956, 1, 31), likes_python=True))\n"
     ]
    }
   ],
   "source": [
    "from typing import NamedTuple\n",
    "\n",
    "import datetime as dt\n",
    "from typing import Optional\n",
    "\n",
    "class Person(NamedTuple):  # inherit from NamedTuple\n",
    "    first_name: str\n",
    "    last_name: str\n",
    "    birth_date: dt.date\n",
    "    likes_python: bool = True\n",
    "\n",
    "    def get_age(self, at_date: Optional[dt.date] = None) -> int:  # Defining behavior on NamedTuple is discouraged\n",
    "        if at_date is None:\n",
    "            at_date = dt.date.today()\n",
    "\n",
    "        return at_date.year - self.birth_date.year\n",
    "\n",
    "\n",
    "p = Person(\"Guido\", \"van Rossum\", dt.date(1956, 1, 31))\n",
    "print(f\"Age: {p.get_age()} ({p})\")"
   ]
  },
  {
   "cell_type": "markdown",
   "metadata": {},
   "source": [
    "The main differences between the two can be summarized as followed:\n",
    "\n",
    "| Property     | Dataclass                                | NamedTuple |\n",
    "|--------------|------------------------------------------|------------|\n",
    "| Mutable      | Yes (but can be restricted)              | No         |\n",
    "| Customizable | Yes (repr, hash, mutability, comparison) | No         |\n",
    "| Unpackable   | No                                       | Yes        |\n",
    "\n",
    "As a rule of thumb, \n",
    "- if you would have used a tuple but naming the fields make it easier to manipulate, go for a NamedTuple. For instance, when returning several values at the end of a functions, or when creating a DataFrame:\n",
    "- if you have many fields and some logics, go for a Dataclass;\n",
    "- if you deal with inheritance, go for a Dataclass;\n",
    "- exercize judgement for the gray in-between.\n",
    "\n",
    "> There is an alternative syntax which does not need to inherint from `NamedTuple`: https://docs.python.org/3.9/library/collections.html#collections.namedtuple (it was the original syntax, although I personnally feel it is a bid unweildy)."
   ]
  },
  {
   "cell_type": "markdown",
   "metadata": {},
   "source": [
    "## 3. Best practices\n",
    "\n",
    ":hourglass: 20 min\n",
    "\n",
    "When writing classes, there are a few principles that are worth following:\n",
    "- [ ] stick to Python conventions (eg. case, protected/private attributes, action/actor names);\n",
    "- [ ] give clear and descriptive names (*); \n",
    "- [ ] make anything protected by default;\n",
    "- [ ] provide an evaluable repr if possible;\n",
    "- [ ] inheritance is a great power, blabla responsibility :spider: (use it wisely);\n",
    "- [ ] consider returning self to chain calls;\n",
    "- [ ] type (production) code: well-typed and explicit variable names will drastically cut down the what-the-f*ck factor.\n",
    "- [ ] **never** use a mutable object as default value\n",
    "\n",
    "\n",
    "> (*) Concise is best, long is better than fuzzy (tips: remember the single-responsibility principle). A good name prevents from writting three lines of doc.\n",
    "\n",
    "Here is an example of typing and giving a good repr:"
   ]
  },
  {
   "cell_type": "code",
   "execution_count": 14,
   "metadata": {},
   "outputs": [
    {
     "name": "stdout",
     "output_type": "stream",
     "text": [
      "LimitedCar(max_speed=10, position=0).set_speed(9)\n",
      "LimitedCar(max_speed=10, position=0).set_speed(9) @ __str__\n"
     ]
    }
   ],
   "source": [
    "from __future__ import annotations\n",
    "\n",
    "from typing import TypeVar\n",
    "\n",
    "TCar = TypeVar(\"TCar\", bound=\"Car\")\n",
    "\n",
    "\n",
    "class Car:\n",
    "    def __init__(self, position: int = 0) -> None:\n",
    "        self._position = position\n",
    "        self._speed: int = 0\n",
    "\n",
    "    def set_speed(self: TCar, speed: int) -> TCar:\n",
    "        self._speed = speed\n",
    "        return self\n",
    "\n",
    "    def accelerate(self) -> None:\n",
    "        self._speed += 1\n",
    "    \n",
    "    def decelerate(self) -> None:\n",
    "        self._speed -= 1\n",
    "    \n",
    "    def move(self) -> None:\n",
    "        self._position += self._speed\n",
    "\n",
    "    \n",
    "    def __repr__(self) -> str:\n",
    "        r = f\"{self.__class__.__qualname__}(position={self._position!r})\"\n",
    "        if self._speed != 0:\n",
    "            r = f\"{r}.set_speed({self._speed!r})\"\n",
    "        return r\n",
    "\n",
    "    def __str__(self) -> str:\n",
    "        return f\"{self!r} @ __str__\"\n",
    "\n",
    "    \n",
    "class LimitedCar(Car):\n",
    "    def __init__(self, max_speed: int, position: int = 0) -> None:\n",
    "        super().__init__(position)\n",
    "        self._max_speed = max_speed\n",
    "\n",
    "    def accelerate(self) -> None:\n",
    "        if self._speed < self._max_speed:\n",
    "            return super().accelerate()\n",
    "        \n",
    "    def __repr__(self) -> str:\n",
    "        r = (\n",
    "            f\"{self.__class__.__qualname__}\"\n",
    "            f\"(\"\n",
    "            f\"max_speed={self._max_speed!r}\"\n",
    "            f\", \"\n",
    "            f\"position={self._position!r}\"\n",
    "            f\")\"\n",
    "        )\n",
    "        if self._speed != 0:\n",
    "            r = f\"{r}.set_speed({self._speed!r})\"\n",
    "        return r\n",
    "    \n",
    "\n",
    "car = LimitedCar(10).set_speed(8)\n",
    "car.accelerate()\n",
    "print(repr(car))\n",
    "print(car)"
   ]
  },
  {
   "cell_type": "markdown",
   "metadata": {},
   "source": [
    "> In Python >= 3.12, the typing module gives a `Self` type to explicitly state that the instance is returned (especially useful with sublcasses: avoid to create the bounded `TypeVar`)"
   ]
  },
  {
   "cell_type": "markdown",
   "metadata": {},
   "source": [
    "## 4. Object creation\n",
    "\n",
    "Design patterns are re-usable recipes to efficiently/elegantly solve recurring problems. One main issue of OOP is creating the right object, as is evident from the number of *creational design patterns*: abstract factory, builder, factory method, prototype, singleton, etc.\n",
    "\n",
    "There are a couple of reasons why this is:\n",
    "- the exact object needed is not known in advanced (eg. based on user input in a web interface);\n",
    "- some part of the object specification are based on context (eg. how to handle NA and which quality check to perform is clearer when you know you are handling time series);\n",
    "- some steps that belongs (conceptually) to the creation process but are taken care of in the constructor must be taken.\n",
    "\n",
    "In any case, this section is about dealing with object creation."
   ]
  },
  {
   "cell_type": "markdown",
   "metadata": {},
   "source": [
    "### (class) factory method\n",
    "\n",
    ":hourglass: 20 min\n",
    "\n",
    "A factory method is just a method that return an new instance. Unless there is a specific reason to have it outside of the class, it usually comes in the form a `classmethod`\n",
    "\n",
    "> `classmethod` have mostly two usecases: factory and being a placeholder for code that needs to be encapsulated with the class, but is not dependent on the instance. Arguably, the latter is also the realm of `staticmethod` (if there is no dependcy on the class attributes). `staticmethod` tends to be disregarded; see with your team how you want to approach those elements.\n",
    "\n",
    "Here is an example of a factory method:"
   ]
  },
  {
   "cell_type": "code",
   "execution_count": 23,
   "metadata": {},
   "outputs": [
    {
     "name": "stdout",
     "output_type": "stream",
     "text": [
      "Car(position=2).set_speed(5)\n",
      "_LimitedCar(max_speed=10, position=2).set_speed(5)\n"
     ]
    }
   ],
   "source": [
    "from __future__ import annotations\n",
    "\n",
    "from typing import TypeVar\n",
    "\n",
    "TCar = TypeVar(\"TCar\", bound=\"Car\")\n",
    "\n",
    "\n",
    "class Car:\n",
    "    @classmethod\n",
    "    def create_moving_car(\n",
    "        cls,\n",
    "        position: int = 0,\n",
    "        speed: int = 0,\n",
    "        max_speed: Optional[int] = None,\n",
    "    ) -> Car:\n",
    "        if max_speed is None:\n",
    "            __o = cls(position)\n",
    "        else:\n",
    "            __o = _LimitedCar(max_speed, position)\n",
    "        return __o.set_speed(speed)\n",
    "        \n",
    "    def __init__(self, position: int = 0) -> None:\n",
    "        self._position = position\n",
    "        self._speed: int = 0\n",
    "\n",
    "    def set_speed(self: TCar, speed: int) -> TCar:\n",
    "        self._speed = speed\n",
    "        return self\n",
    "\n",
    "    def accelerate(self) -> None:\n",
    "        self._speed += 1\n",
    "    \n",
    "    def decelerate(self) -> None:\n",
    "        self._speed -= 1\n",
    "    \n",
    "    def move(self) -> None:\n",
    "        self._position += self._speed\n",
    "\n",
    "    def __repr__(self) -> str:\n",
    "        r = f\"{self.__class__.__qualname__}(position={self._position!r})\"\n",
    "        if self._speed != 0:\n",
    "            r = f\"{r}.set_speed({self._speed!r})\"\n",
    "        return r\n",
    "    \n",
    "    \n",
    "class _LimitedCar(Car):\n",
    "    def __init__(self, max_speed: int, position: int = 0) -> None:\n",
    "        super().__init__(position)\n",
    "        self._max_speed = max_speed\n",
    "\n",
    "    def accelerate(self) -> None:\n",
    "        if self._speed < self._max_speed:\n",
    "            return super().accelerate()\n",
    "        \n",
    "    def __repr__(self) -> str:\n",
    "        r = (\n",
    "            f\"{self.__class__.__qualname__}\"\n",
    "            f\"(\"\n",
    "            f\"max_speed={self._max_speed!r}\"\n",
    "            f\", \"\n",
    "            f\"position={self._position!r}\"\n",
    "            f\")\"\n",
    "        )\n",
    "        if self._speed != 0:\n",
    "            r = f\"{r}.set_speed({self._speed!r})\"\n",
    "        return r\n",
    "    \n",
    "\n",
    "print(Car.create_moving_car(2, 5))\n",
    "print(Car.create_moving_car(2, 5, max_speed=10))"
   ]
  },
  {
   "cell_type": "markdown",
   "metadata": {},
   "source": [
    "**DOs**:\n",
    "- use a clear name (usually an action verb) to indicate it is factory (eg. `create`, `cons`) and be as specific as you can in the name;\n",
    "    * if you are creating an instance from another (type of) object, eg. a string you can name the factory `from_string`;\n",
    "- use factories when \n",
    "    * the logic is small and not too flexible;\n",
    "    * you want an evaluable `repr` but the way the user will create the object is not compatible;\n",
    "    * you want to offer a small set of unflexible alternatives to create the object;\n",
    "    * expose only one class but allow for subclasses.\n",
    "\n",
    "**DON'Ts**:\n",
    "- create a factory if a classical constructor would do;\n",
    "- create a factory for flexibility and complex logic (prefer the builder).\n",
    "\n",
    "> :skull: it is possible to get the type returned from the factory to be based on the actual class from which you use the factory, although mixing inheritance and factory is tricky."
   ]
  },
  {
   "cell_type": "markdown",
   "metadata": {},
   "source": [
    "### Builder\n",
    "\n",
    ":hourglass: 30 min\n",
    "\n",
    "The builder pattern is a very flexible approach to creating complex objects. It consists in having an object (the builder) which stores all the necessary information for instanciating the target class. Information are filled in one at a time, and when all is done, the class can be instantiated.\n",
    "\n",
    "The builder pattern can be used in three ways:\n",
    "1. Stand alone builder: a builder class is used as a way to create an object lazily.\n",
    "2. A same builder is managed by several directors (responsible for subpart of the objects).\n",
    "3. A single director is responsible for several builders (related to different objects) to create coherent whole.\n",
    "\n",
    "Here is how a builder can look like in the context of a ETL pipeline:"
   ]
  },
  {
   "cell_type": "code",
   "execution_count": 3,
   "metadata": {},
   "outputs": [],
   "source": [
    "from __future__ import annotations\n",
    "\n",
    "import logging\n",
    "\n",
    "import pandas as pd\n",
    "\n",
    "class Extractor:\n",
    "    def extract(self) -> pd.DataFrame:\n",
    "        raise NotImplementedError()\n",
    "    \n",
    "class Transformer:\n",
    "    def transform(self, data: pd.DataFrame) -> pd.DataFrame:\n",
    "        raise NotImplementedError()\n",
    "\n",
    "class Loader:\n",
    "    def write(self, data: pd.DataFrame) -> None:\n",
    "        raise NotImplementedError()\n",
    "\n",
    "\n",
    "class ETL:\n",
    "    def __init__(\n",
    "        self,\n",
    "        extractor: Extractor,\n",
    "        transformer: Transformer,\n",
    "        loader: Loader,\n",
    "    ) -> None:\n",
    "        self._extractor = extractor\n",
    "        self._transformer = transformer\n",
    "        self._loader = loader\n",
    "\n",
    "    def run(self) -> None:\n",
    "        logging.info(f\"Reading data with {self._extractor!r}\")\n",
    "        data = self._extractor.extract()\n",
    "        logging.info(f\"Transforming data with {self._transformer!r}\")\n",
    "        data = self._transformer.transform(data)\n",
    "        logging.info(f\"Writing data with {self._transformer!r}\")\n",
    "        self._loader.write(data)\n",
    "\n",
    "\n",
    "class FromDB(Extractor):\n",
    "    def __init__(self, database: str, table: str) -> None:\n",
    "        super().__init__()\n",
    "        self._database = database\n",
    "        self._table = table\n",
    "\n",
    "    def __repr__(self) -> str:\n",
    "        return (\n",
    "            f\"{self.__class__.__qualname__}\"\n",
    "            f\"(database={self._database!r}, table={self._table!r})\"\n",
    "        )\n",
    "\n",
    "    def extract(self) -> pd.DataFrame:\n",
    "        logging.info(f\"Reading from table '{self._table}' in database '{self._database}'\")\n",
    "        # Mock data\n",
    "        return pd.DataFrame(\n",
    "            data={\n",
    "                \"first_name\": [\"Bruce\", \"Clark\", \"Peter\"],\n",
    "                \"last_name\": [\"Wayne\", \"Ken\", \"Parker\"],\n",
    "                \"super_hero\": [\"Batman\", \"Superman\", \"Spiderman\"],\n",
    "            }\n",
    "        )\n",
    "    \n",
    "\n",
    "class AddRevelation(Transformer):\n",
    "    def __init__(self, revelation_col_name: str = \"revelation\") -> None:\n",
    "        super().__init__()\n",
    "        self._revelation_col_name = revelation_col_name\n",
    "\n",
    "    def __repr__(self) -> str:\n",
    "        return self.__class__.__qualname__\n",
    "    \n",
    "    def transform(self, data: pd.DataFrame) -> pd.DataFrame:\n",
    "        data[self._revelation_col_name] = (\n",
    "            data[\"first_name\"] \n",
    "            + \" \"\n",
    "            + data[\"last_name\"]\n",
    "            + \" is \"\n",
    "            + data[\"super_hero\"]\n",
    "        )\n",
    "        return data\n",
    "    \n",
    "\n",
    "class LoadInCSV(Loader):\n",
    "    def __init__(self, path: str) -> None:\n",
    "        super().__init__()\n",
    "        self._path = path\n",
    "\n",
    "    def __repr__(self) -> str:\n",
    "        return f\"{self.__class__.__qualname__}({self._path!r})\"\n",
    "    \n",
    "    def write(self, data: pd.DataFrame) -> None:\n",
    "        # data.to_csv(self._path, sep=\";\")\n",
    "        print(data)\n",
    "\n",
    "\n",
    "class DB2CSVETLBuilder:\n",
    "    def __init__(self) -> None:\n",
    "        self._database: Optional[str] = None\n",
    "        self._table: Optional[str] = None\n",
    "        self._transformer: Optional[Transformer] = None\n",
    "        self._path: Optional[str] = None\n",
    "\n",
    "    def set_database(self, database: str) -> DB2CSVETLBuilder:\n",
    "        self._database = database\n",
    "        return self\n",
    "    \n",
    "\n",
    "    def set_table(self, table: str) -> DB2CSVETLBuilder:\n",
    "        self._table = table\n",
    "        return self\n",
    "    \n",
    "    def set_transformer(self, transformer: str) -> DB2CSVETLBuilder:\n",
    "        self._transformer = transformer\n",
    "        return self\n",
    "    \n",
    "    def set_path(self, path: str) -> DB2CSVETLBuilder:\n",
    "        self._path = path\n",
    "        return self\n",
    "    \n",
    "    def build(self) -> ETL:\n",
    "        return ETL(\n",
    "            extractor=FromDB(self._database, self._table),\n",
    "            transformer=self._transformer,\n",
    "            loader=LoadInCSV(self._path),\n",
    "        )"
   ]
  },
  {
   "cell_type": "code",
   "execution_count": 8,
   "metadata": {},
   "outputs": [
    {
     "name": "stderr",
     "output_type": "stream",
     "text": [
      "INFO:root:Reading data with FromDB(database='my_db', table='my_table')\n",
      "INFO:root:Reading from table 'my_table' in database 'my_db'\n",
      "INFO:root:Transforming data with AddRevelation\n",
      "INFO:root:Writing data with AddRevelation\n"
     ]
    },
    {
     "name": "stdout",
     "output_type": "stream",
     "text": [
      "  first_name last_name super_hero                 revelation\n",
      "0      Bruce     Wayne     Batman      Bruce Wayne is Batman\n",
      "1      Clark       Ken   Superman      Clark Ken is Superman\n",
      "2      Peter    Parker  Spiderman  Peter Parker is Spiderman\n"
     ]
    }
   ],
   "source": [
    "logging.basicConfig(level=logging.INFO, force=True)\n",
    "\n",
    "etl = (\n",
    "    DB2CSVETLBuilder()\n",
    "    .set_database(\"my_db\")\n",
    "    .set_table(\"my_table\")\n",
    "    .set_transformer(AddRevelation())\n",
    "    .set_path(\"my_result.csv\")\n",
    "    .build()\n",
    "\n",
    ")\n",
    "\n",
    "etl.run()"
   ]
  },
  {
   "cell_type": "markdown",
   "metadata": {},
   "source": [
    ":exclamation: The builder pattern provides a flexible way to create complex objects but at the cost of a lot of code. Here are a few points to keep in mind when looking at this pattern:\n",
    "- there are tools to generate builder code based on the target class;\n",
    "- the pattern hints at complex objects (which the example is not), make sure this is not due to a violation of the single-purpose principle.\n"
   ]
  },
  {
   "cell_type": "markdown",
   "metadata": {},
   "source": [
    "### Discussion\n",
    "\n",
    ":hourglass: 15 min\n",
    "\n",
    "\n",
    "There are other creational patterns: abstract factory, prototype and singleton. \n",
    "\n",
    "> Remember that there is no points won for using patterns: only use them when they are appropriate."
   ]
  },
  {
   "cell_type": "markdown",
   "metadata": {},
   "source": [
    ":microphone: Do you feel the patterns outlined would have been useful for what you have already developped? "
   ]
  },
  {
   "cell_type": "markdown",
   "metadata": {},
   "source": [
    "## 5. Closing words\n",
    "\n",
    ":hourglass: 10 min\n",
    "\n",
    "This module was about OOP and object creation. We discussed the core concepts behind OOP (eg. clear concept, encapsulation), some best practices, and dataclasses. We also illustrated a few creational design patterns and the basics of typing in Python.\n",
    "\n",
    "**Dunderscore**:\n",
    "- `__init__`\n",
    "- `__repr__`\n",
    "- `__str__`"
   ]
  }
 ],
 "metadata": {
  "kernelspec": {
   "display_name": ".venv",
   "language": "python",
   "name": "python3"
  },
  "language_info": {
   "codemirror_mode": {
    "name": "ipython",
    "version": 3
   },
   "file_extension": ".py",
   "mimetype": "text/x-python",
   "name": "python",
   "nbconvert_exporter": "python",
   "pygments_lexer": "ipython3",
   "version": "3.9.5"
  }
 },
 "nbformat": 4,
 "nbformat_minor": 2
}
