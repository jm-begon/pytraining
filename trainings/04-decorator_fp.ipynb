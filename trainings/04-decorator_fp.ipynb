{
 "cells": [
  {
   "cell_type": "markdown",
   "metadata": {},
   "source": [
    "Functional programming, decorator, decorator pattern\n",
    "====================================================\n",
    "\n",
    ":warning: this is the hardest training, so buckle up!\n",
    "\n",
    ":hourglass: 3h\n",
    "\n",
    "**Outline**:\n",
    "1. Functional programming and the declarative paradigm\n",
    "2. Closure and partial\n",
    "3. Callable classes\n",
    "4. Decorator (usage, syntactic sugar syntax, creating decorator, best practices (including when to/when not to))\n",
    "5. The Decorator pattern\n",
    "6. Closing words"
   ]
  },
  {
   "cell_type": "markdown",
   "metadata": {},
   "source": [
    "## 1. Functional programming and the declarative paradigm\n",
    "\n",
    ":hourglass: 20 min\n",
    "\n",
    "Functional programming belongs to the *declarative* paradigm. Contrary to procedural and OOP, which belong to the same paradigm (imperative), functional programming can feel very different.\n",
    "\n",
    "Remember that\n",
    "> A (programming) **paradigmn** is a way to think about, approach and solve a problem. It defines the (conceptual) primitives in which to think in order to create the solution.\n",
    "\n",
    "In functional programming, the primitives are functions and recursion.\n",
    "\n",
    "Consider the example below:"
   ]
  },
  {
   "cell_type": "code",
   "execution_count": 7,
   "metadata": {},
   "outputs": [
    {
     "data": {
      "text/plain": [
       "120"
      ]
     },
     "execution_count": 7,
     "metadata": {},
     "output_type": "execute_result"
    }
   ],
   "source": [
    "# Procedural\n",
    "def sum_of_n_plus_1_first_naturals(n):\n",
    "    s = 0\n",
    "    for i in range(n+1):\n",
    "        s += i\n",
    "    return s\n",
    "\n",
    "sum_of_n_plus_1_first_naturals(15)"
   ]
  },
  {
   "cell_type": "code",
   "execution_count": 8,
   "metadata": {},
   "outputs": [
    {
     "data": {
      "text/plain": [
       "120"
      ]
     },
     "execution_count": 8,
     "metadata": {},
     "output_type": "execute_result"
    }
   ],
   "source": [
    "# Functional\n",
    "def sum_of_n_plus_1_first_naturals(n):\n",
    "    if n <= 1:\n",
    "        return n\n",
    "    return n + sum_of_n_plus_1_first_naturals(n-1)\n",
    "\n",
    "sum_of_n_plus_1_first_naturals(15)"
   ]
  },
  {
   "cell_type": "markdown",
   "metadata": {},
   "source": [
    "In the first example, we explicitly state how the state evolves. In the second, we only state how things relate to one another.\n",
    "\n",
    "As is evident from the example, Python supports both approaches. \n",
    "\n",
    "Note that \"nothing\" changes in the functional approach: the relation must always be true. That is why, the core of *declarative* programming is all about immutability. The functional part means we express relationships through the use of functions (and recursion). An important concept to be flexible in expressing relationships through functions is the notion of **first-class functions**.\n",
    "\n",
    "\n",
    "First-class functions mean that you can pass functions to other functions and you can return functions. For instance:"
   ]
  },
  {
   "cell_type": "code",
   "execution_count": 13,
   "metadata": {},
   "outputs": [
    {
     "data": {
      "text/plain": [
       "[1, 3, 5, 7, 9]"
      ]
     },
     "execution_count": 13,
     "metadata": {},
     "output_type": "execute_result"
    }
   ],
   "source": [
    "def filter(ls, f):\n",
    "    return [x for x in ls if f(x)]\n",
    "\n",
    "def even_or_odd(return_even):\n",
    "    def is_even(x):\n",
    "        return x % 2 == 0\n",
    "    if return_even:\n",
    "        return is_even\n",
    "    return lambda x: not is_even(x)\n",
    "\n",
    "\n",
    "filter(range(10), even_or_odd(return_even=False))"
   ]
  },
  {
   "cell_type": "markdown",
   "metadata": {},
   "source": [
    "Most often, you want to return a function that is further parametrized. This is done through the **closure** mechanism.\n",
    "\n",
    "> Of course, there is so much more to talk about in the context of functional programming (accumulator, continuation, functor, monads, inclusion/exclusion principle, etc.) but this is outside of the scope of this training."
   ]
  },
  {
   "cell_type": "markdown",
   "metadata": {},
   "source": [
    "## 2. Closure and partial\n",
    "\n",
    ":hourglass: 20 min\n",
    "\n",
    "> A **closure** of a function is the set of information that the function captures from the enclosing scopes.\n",
    "\n",
    "Consider the following example:"
   ]
  },
  {
   "cell_type": "code",
   "execution_count": 9,
   "metadata": {},
   "outputs": [
    {
     "data": {
      "text/plain": [
       "10"
      ]
     },
     "execution_count": 9,
     "metadata": {},
     "output_type": "execute_result"
    }
   ],
   "source": [
    "a = 8\n",
    "def foo(x):\n",
    "    return a + x\n",
    "\n",
    "foo(2)"
   ]
  },
  {
   "cell_type": "markdown",
   "metadata": {},
   "source": [
    "In the example above, `a` is not within the body of `foo`, yet the function is able to access it.\n",
    "\n",
    "Closures are notably useful for nested functions:"
   ]
  },
  {
   "cell_type": "code",
   "execution_count": 16,
   "metadata": {},
   "outputs": [
    {
     "name": "stdout",
     "output_type": "stream",
     "text": [
      "<function create_is_divisor_of.<locals>.is_divisor at 0x7fef045185e0>\n"
     ]
    },
    {
     "data": {
      "text/plain": [
       "[0, 3, 6, 9]"
      ]
     },
     "execution_count": 16,
     "metadata": {},
     "output_type": "execute_result"
    }
   ],
   "source": [
    "def create_is_divisor_of(n):\n",
    "    def is_divisor(x):\n",
    "        return x % n == 0\n",
    "\n",
    "    return is_divisor\n",
    "\n",
    "print(create_is_divisor_of(3))\n",
    "\n",
    "filter(range(10), create_is_divisor_of(3))"
   ]
  },
  {
   "cell_type": "markdown",
   "metadata": {},
   "source": [
    ":question: Why not use a function `is_divisor_of(x, n)`?"
   ]
  },
  {
   "cell_type": "markdown",
   "metadata": {},
   "source": [
    "`is_divisor_of(x, n)` does not follow the interface of the `filter` function. Adapting functions in this way is so frequent, that it is provided out-of-the-box:"
   ]
  },
  {
   "cell_type": "code",
   "execution_count": 17,
   "metadata": {},
   "outputs": [
    {
     "data": {
      "text/plain": [
       "[0, 3, 6, 9]"
      ]
     },
     "execution_count": 17,
     "metadata": {},
     "output_type": "execute_result"
    }
   ],
   "source": [
    "from functools import partial\n",
    "\n",
    "def is_divisor_of(x, n):\n",
    "    return x % n == 0\n",
    "\n",
    "filter(range(10), partial(is_divisor_of, n=3))"
   ]
  },
  {
   "cell_type": "markdown",
   "metadata": {},
   "source": [
    "> :skull: Some programming languages (eg. Haskell) naturally treat functions of several variables as parametric families of functions and perform automatic *currying**. In such languages, you can write `is_divisor_of(x)` and this would return a function which can take `n` as input.\n",
    "\n",
    "> :skull: Did you know that, with closure, you can implement datastructures like pairs, lists/tuples, trees, graphs, etc. as well as manage state in functional programming (which can lead ultimatly to writing operating systems); closure is a very powerful mechanism."
   ]
  },
  {
   "cell_type": "markdown",
   "metadata": {},
   "source": [
    "## 3. Callable classes\n",
    "\n",
    ":hourglass: 10 min\n",
    "\n",
    "Can we do the same things with classes (well, there is a dedicated section, so you guessed it).\n"
   ]
  },
  {
   "cell_type": "code",
   "execution_count": 18,
   "metadata": {},
   "outputs": [
    {
     "data": {
      "text/plain": [
       "[0, 3, 6, 9]"
      ]
     },
     "execution_count": 18,
     "metadata": {},
     "output_type": "execute_result"
    }
   ],
   "source": [
    "class DvisiorPredicate:\n",
    "    def __init__(self, n: int) -> None:\n",
    "        self._divisor = n\n",
    "\n",
    "    def __call__(self, x: int) -> bool:\n",
    "        return x % self._divisor == 0\n",
    "\n",
    "filter(range(10), DvisiorPredicate(3))"
   ]
  },
  {
   "cell_type": "markdown",
   "metadata": {},
   "source": [
    "Turning a class into a function (a callable) is done via the `__call__` dunder.\n",
    "\n",
    "In such a small example, the overhead of using an object is evident. However, as things gets more complicated, using object will often make the code easier to write (and read!)."
   ]
  },
  {
   "cell_type": "markdown",
   "metadata": {},
   "source": [
    "## 4. Decorator \n",
    "\n",
    "Decorating a function means it is modified in some way, with the assumption that the purpose of the function is unchanged. This is useful in many scenarios:\n",
    "- caching;\n",
    "- logging and telemetry (monitoring, profiling);\n",
    "- managing access control;\n",
    "- validating inputs;\n",
    "- concurrency;\n",
    "- etc.\n",
    "\n",
    ":bulb: decorators are an elegant way to add capabilities with minimal impact on the code and re-usability. \n",
    "\n",
    "### Usage\n",
    ":hourglass: 15 min\n",
    "\n",
    "The following illustrates how to use a built-in cache of Python:\n"
   ]
  },
  {
   "cell_type": "code",
   "execution_count": 5,
   "metadata": {},
   "outputs": [
    {
     "data": {
      "text/plain": [
       "102334155"
      ]
     },
     "execution_count": 5,
     "metadata": {},
     "output_type": "execute_result"
    }
   ],
   "source": [
    "def fibonacci(n):\n",
    "    if n < 2:\n",
    "        return n\n",
    "    return fibonacci(n-1) + fibonacci(n-2)\n",
    "\n",
    "fibonacci(40)"
   ]
  },
  {
   "cell_type": "code",
   "execution_count": 6,
   "metadata": {},
   "outputs": [
    {
     "data": {
      "text/plain": [
       "102334155"
      ]
     },
     "execution_count": 6,
     "metadata": {},
     "output_type": "execute_result"
    }
   ],
   "source": [
    "import functools\n",
    "\n",
    "@functools.cache\n",
    "def fibonacci(n):\n",
    "    if n < 2:\n",
    "        return n\n",
    "    return fibonacci(n-1) + fibonacci(n-2)\n",
    "\n",
    "fibonacci(40)"
   ]
  },
  {
   "cell_type": "markdown",
   "metadata": {},
   "source": [
    "> :skull: caching (or memoization) brings down the complexity of the first implemention from $O(2^n)$  to $O(n)$. Whereas the former implementation would require more than the age of the universe to compute `fibonacci(100)`, it is instantaneous for the latter.\n",
    "\n",
    "To be able to create custom decorators, it is necessary to understand that the annotation (`@`) is just a syntactic sugar. It is strictly equivalent to the following:"
   ]
  },
  {
   "cell_type": "code",
   "execution_count": 10,
   "metadata": {},
   "outputs": [
    {
     "data": {
      "text/plain": [
       "102334155"
      ]
     },
     "execution_count": 10,
     "metadata": {},
     "output_type": "execute_result"
    }
   ],
   "source": [
    "import functools\n",
    "\n",
    "def fibonacci(n):\n",
    "    if n < 2:\n",
    "        return n\n",
    "    return fibonacci(n-1) + fibonacci(n-2)\n",
    "\n",
    "# print(fibonacci)\n",
    "\n",
    "fibonacci = functools.cache(fibonacci)\n",
    "\n",
    "# print(fibonacci)\n",
    "fibonacci(40)"
   ]
  },
  {
   "cell_type": "markdown",
   "metadata": {},
   "source": [
    "So the decorator is simply a function that takes another function as input and returns a function (sounds a lot like first-order functions). The annotation syntax is just a convenient way to express the decoration."
   ]
  },
  {
   "cell_type": "markdown",
   "metadata": {},
   "source": [
    "### Creating decorators\n",
    "\n",
    ":hourglass: 30 min\n",
    "\n",
    "Now that we know how it works, we can create decorators!"
   ]
  },
  {
   "cell_type": "code",
   "execution_count": 13,
   "metadata": {},
   "outputs": [
    {
     "name": "stdout",
     "output_type": "stream",
     "text": [
      "Duration of long_computation: 15.01\n"
     ]
    },
    {
     "data": {
      "text/plain": [
       "42"
      ]
     },
     "execution_count": 13,
     "metadata": {},
     "output_type": "execute_result"
    }
   ],
   "source": [
    "from typing import Callable, TypeVar, Any\n",
    "from time import perf_counter, sleep\n",
    "\n",
    "T = TypeVar(\"T\")\n",
    "\n",
    "def timeit(f: Callable[..., T]) -> Callable[..., T]:\n",
    "\n",
    "    def timed_f(*args: Any, **kwargs: Any) -> T:\n",
    "        start = perf_counter()\n",
    "        x = f(*args, **kwargs)\n",
    "        end = perf_counter()\n",
    "        print(f\"Duration of {f.__name__}: {end-start:.2f}\")\n",
    "        return x\n",
    "    \n",
    "    return timed_f\n",
    "\n",
    "\n",
    "@timeit\n",
    "def long_computation(duration):\n",
    "    sleep(duration)\n",
    "    return 42\n",
    "\n",
    "long_computation(15)"
   ]
  },
  {
   "cell_type": "markdown",
   "metadata": {},
   "source": [
    "It is possible to customize the decoration as well, although the syntax becomes complex quickly:"
   ]
  },
  {
   "cell_type": "code",
   "execution_count": 15,
   "metadata": {},
   "outputs": [
    {
     "name": "stdout",
     "output_type": "stream",
     "text": [
      "Before blabla\n",
      "After blabla\n",
      "Buffer: This is a called to print during the blabla function\n",
      "\n"
     ]
    }
   ],
   "source": [
    "from typing import Any, Callable, TypeVar\n",
    "import io\n",
    "import contextlib\n",
    "\n",
    "T = TypeVar(\"T\")\n",
    "\n",
    "def capture_stdout(buffer: io.StringIO) -> Callable[[Callable[..., Any]], Callable[..., Any]]:\n",
    "    def capturing_closure(f: Callable[..., T]) -> Callable[..., T]:\n",
    "        def captured_f(*args: Any, **kwargs: Any) -> T:\n",
    "            with contextlib.redirect_stdout(buffer):\n",
    "                return f(*args, **kwargs)\n",
    "        \n",
    "        return captured_f\n",
    "    \n",
    "    return capturing_closure\n",
    "\n",
    "\n",
    "buffer = io.StringIO()\n",
    "\n",
    "@capture_stdout(buffer)\n",
    "def blabla():\n",
    "    print(\"This is a called to print during the blabla function\")\n",
    "\n",
    "print(\"Before blabla\")\n",
    "blabla()\n",
    "print(\"After blabla\")\n",
    "print(\"Buffer:\", buffer.getvalue())"
   ]
  },
  {
   "cell_type": "markdown",
   "metadata": {},
   "source": [
    "Clearly, the code is becoming more complex (and the typing as well). One way out is to use a callable object for the intermediate part:"
   ]
  },
  {
   "cell_type": "code",
   "execution_count": 16,
   "metadata": {},
   "outputs": [
    {
     "name": "stdout",
     "output_type": "stream",
     "text": [
      "Before blabla\n",
      "After blabla\n",
      "Buffer: This is a called to print during the blabla function\n",
      "\n"
     ]
    }
   ],
   "source": [
    "from typing import Any, Callable, TypeVar, Generic\n",
    "import io\n",
    "import contextlib\n",
    "\n",
    "T = TypeVar(\"T\")\n",
    "\n",
    "class Capture(Generic[T]):\n",
    "    def __init__(self, buffer: io.StringIO, f: Callable[..., T]) -> None:\n",
    "        self._buffer = buffer\n",
    "        self._f = f\n",
    "\n",
    "    def __call__(self, *args: Any, **kwargs: Any) -> T:\n",
    "        with contextlib.redirect_stdout(self._buffer):\n",
    "            return self._f(*args, **kwargs)\n",
    "    \n",
    "\n",
    "def capture_stdout(buffer: io.StringIO) -> Callable[..., Capture]:\n",
    "    def capturing_closure(f: Callable[..., T]) -> Callable[..., T]:\n",
    "        return Capture(buffer, f)\n",
    "    return capturing_closure\n",
    "\n",
    "\n",
    "buffer = io.StringIO()\n",
    "\n",
    "\n",
    "@capture_stdout(buffer)\n",
    "def blabla():\n",
    "    print(\"This is a called to print during the blabla function\")\n",
    "\n",
    "print(\"Before blabla\")\n",
    "blabla()\n",
    "print(\"After blabla\")\n",
    "print(\"Buffer:\", buffer.getvalue())"
   ]
  },
  {
   "cell_type": "markdown",
   "metadata": {},
   "source": [
    "Note that any (none, all) of the functions can be replaced by a callable object. See what fits best the situation."
   ]
  },
  {
   "cell_type": "markdown",
   "metadata": {},
   "source": [
    "### Exercise\n",
    "\n",
    ":hourglass: 30 min\n",
    "\n",
    "Based on the telemetric context manager, create a decorator which reports function start and end (+ duration) to an event listener.\n"
   ]
  },
  {
   "cell_type": "markdown",
   "metadata": {},
   "source": [
    ":coffee: 15 min"
   ]
  },
  {
   "cell_type": "markdown",
   "metadata": {},
   "source": [
    "### best practices \n",
    "\n",
    ":hourglass: 10 min\n",
    "\n",
    "Decoration is a powerful mechanism, rendered elegant thanks to the annotation syntax. It brings encapsulation and re-usability at the cost of additional complexity. Weigh whether the benefits outbalance the added complexity. There are a few situations where you should refrain from using decorators, however:\n",
    "- a decorator should never change the semantics of the function (the signature should be the same, what the function is basically doing should be unaltered);\n",
    "- heavy/complex computations hidden in decorators are unexpected;\n",
    "- mixing concerns: 1 decorator = 1 purpose (you can use several decorators on top of another).\n",
    "\n",
    "\n",
    "A good practice for decorators is to stamp the decorated function with the information of the original one. Consider the following snippets:"
   ]
  },
  {
   "cell_type": "code",
   "execution_count": 19,
   "metadata": {},
   "outputs": [
    {
     "name": "stdout",
     "output_type": "stream",
     "text": [
      "Help on function timed_f in module __main__:\n",
      "\n",
      "timed_f(*args, **kwargs)\n",
      "\n"
     ]
    }
   ],
   "source": [
    "from time import perf_counter, sleep\n",
    "\n",
    "\n",
    "def timeit(f):\n",
    "\n",
    "    def timed_f(*args, **kwargs):\n",
    "        start = perf_counter()\n",
    "        x = f(*args, **kwargs)\n",
    "        end = perf_counter()\n",
    "        print(f\"Duration of {f.__name__}: {end-start:.2f}\")\n",
    "        return x\n",
    "    \n",
    "    return timed_f\n",
    "\n",
    "\n",
    "@timeit\n",
    "def long_computation(duration: int) -> int:\n",
    "    \"\"\"\n",
    "    This is a long computation\n",
    "\n",
    "    Parameters\n",
    "    ----------\n",
    "    duration: int\n",
    "        The duration of the long computation (in seconds)\n",
    "\n",
    "    Return\n",
    "    ------\n",
    "    x: int\n",
    "        The answer to the Ultimate Question of Life, the Universe, and Everything\n",
    "    \"\"\"\n",
    "\n",
    "    sleep(duration)\n",
    "    return 42\n",
    "\n",
    "help(long_computation)"
   ]
  },
  {
   "cell_type": "code",
   "execution_count": 21,
   "metadata": {},
   "outputs": [
    {
     "name": "stdout",
     "output_type": "stream",
     "text": [
      "Help on function long_computation in module __main__:\n",
      "\n",
      "long_computation(duration: int) -> int\n",
      "    This is a long computation\n",
      "    \n",
      "    Parameters\n",
      "    ----------\n",
      "    duration: int\n",
      "        The duration of the long computation (in seconds)\n",
      "    \n",
      "    Return\n",
      "    ------\n",
      "    x: int\n",
      "        The answer to the Ultimate Question of Life, the Universe, and Everything\n",
      "\n"
     ]
    }
   ],
   "source": [
    "from time import perf_counter, sleep\n",
    "import functools\n",
    "\n",
    "def timeit(f):\n",
    "    @functools.wraps(f)  # simply use the functools wrapper\n",
    "    def timed_f(*args, **kwargs):\n",
    "        start = perf_counter()\n",
    "        x = f(*args, **kwargs)\n",
    "        end = perf_counter()\n",
    "        print(f\"Duration of {f.__name__}: {end-start:.2f}\")\n",
    "        return x\n",
    "    \n",
    "    return timed_f\n",
    "\n",
    "\n",
    "@timeit\n",
    "def long_computation(duration: int) -> int:\n",
    "    \"\"\"\n",
    "    This is a long computation\n",
    "\n",
    "    Parameters\n",
    "    ----------\n",
    "    duration: int\n",
    "        The duration of the long computation (in seconds)\n",
    "\n",
    "    Return\n",
    "    ------\n",
    "    x: int\n",
    "        The answer to the Ultimate Question of Life, the Universe, and Everything\n",
    "    \"\"\"\n",
    "\n",
    "    sleep(duration)\n",
    "    return 42\n",
    "\n",
    "help(long_computation)"
   ]
  },
  {
   "cell_type": "markdown",
   "metadata": {},
   "source": [
    "\n",
    "## 5. The Decorator pattern\n",
    "\n",
    ":hourglass: 15 min\n",
    "\n",
    "Beyond functions, decoration is also an OOP design pattern.\n"
   ]
  },
  {
   "cell_type": "code",
   "execution_count": 22,
   "metadata": {},
   "outputs": [
    {
     "name": "stdout",
     "output_type": "stream",
     "text": [
      "loading form table 'my_table' (my_db)\n",
      "Duration: -0.00\n"
     ]
    },
    {
     "data": {
      "text/html": [
       "<div>\n",
       "<style scoped>\n",
       "    .dataframe tbody tr th:only-of-type {\n",
       "        vertical-align: middle;\n",
       "    }\n",
       "\n",
       "    .dataframe tbody tr th {\n",
       "        vertical-align: top;\n",
       "    }\n",
       "\n",
       "    .dataframe thead th {\n",
       "        text-align: right;\n",
       "    }\n",
       "</style>\n",
       "<table border=\"1\" class=\"dataframe\">\n",
       "  <thead>\n",
       "    <tr style=\"text-align: right;\">\n",
       "      <th></th>\n",
       "      <th>first_name</th>\n",
       "      <th>last_name</th>\n",
       "      <th>super_hero</th>\n",
       "    </tr>\n",
       "  </thead>\n",
       "  <tbody>\n",
       "    <tr>\n",
       "      <th>0</th>\n",
       "      <td>Bruce</td>\n",
       "      <td>Wayne</td>\n",
       "      <td>Batman</td>\n",
       "    </tr>\n",
       "    <tr>\n",
       "      <th>1</th>\n",
       "      <td>Clark</td>\n",
       "      <td>Ken</td>\n",
       "      <td>Superman</td>\n",
       "    </tr>\n",
       "    <tr>\n",
       "      <th>2</th>\n",
       "      <td>Peter</td>\n",
       "      <td>Parker</td>\n",
       "      <td>Spiderman</td>\n",
       "    </tr>\n",
       "  </tbody>\n",
       "</table>\n",
       "</div>"
      ],
      "text/plain": [
       "  first_name last_name super_hero\n",
       "0      Bruce     Wayne     Batman\n",
       "1      Clark       Ken   Superman\n",
       "2      Peter    Parker  Spiderman"
      ]
     },
     "execution_count": 22,
     "metadata": {},
     "output_type": "execute_result"
    }
   ],
   "source": [
    "from abc import ABCMeta, abstractmethod\n",
    "import pandas as pd\n",
    "from time import perf_counter\n",
    "\n",
    "class DataLoader(metaclass=ABCMeta):\n",
    "    @abstractmethod\n",
    "    def load(self, database: str, table: str) -> pd.DataFrame:\n",
    "        raise NotImplementedError()\n",
    "    \n",
    "\n",
    "class MockDataLoader(DataLoader):\n",
    "    def load(self, database: str, table: str) -> pd.DataFrame:\n",
    "        # Mock data\n",
    "        return pd.DataFrame(\n",
    "            data={\n",
    "                \"first_name\": [\"Bruce\", \"Clark\", \"Peter\"],\n",
    "                \"last_name\": [\"Wayne\", \"Ken\", \"Parker\"],\n",
    "                \"super_hero\": [\"Batman\", \"Superman\", \"Spiderman\"],\n",
    "            }\n",
    "        )\n",
    "\n",
    "    \n",
    "\n",
    "class LogDataLoarder(DataLoader):\n",
    "    def __init__(self, decorated: DataLoader) -> None:\n",
    "        self._decorated = decorated\n",
    "\n",
    "    def load(self, database: str, table: str) -> pd.DataFrame:\n",
    "        print(f\"loading form table '{table}' ({database})\")\n",
    "        return self._decorated.load(database, table)\n",
    "    \n",
    "\n",
    "class TimeDataLoader(DataLoader):\n",
    "    def __init__(self, decorated: DataLoader) -> None:\n",
    "        self._decorated = decorated\n",
    "\n",
    "    def load(self, database: str, table: str) -> pd.DataFrame:\n",
    "        start = perf_counter()\n",
    "        x = self._decorated.load(database, table)\n",
    "        end = perf_counter()\n",
    "        print(f\"Duration: {start-end:.2f}\")\n",
    "        return x\n",
    "    \n",
    "\n",
    "data_loader = TimeDataLoader(\n",
    "    LogDataLoarder(\n",
    "        MockDataLoader()\n",
    "    )\n",
    ")\n",
    "\n",
    "data_loader.load(\"my_db\", \"my_table\")\n"
   ]
  },
  {
   "cell_type": "markdown",
   "metadata": {},
   "source": [
    "As we can see from the example, there is no restriction to work with callables. The decorator is extremely powerful but has a few important caveats:\n",
    "- in case of long nesting, debugging is hard (a clear repr might help!);\n",
    "- the decoration hides the base object, we can no longer access it easily;\n",
    "- the decorator must re-implement all the methods of the base class, which adds a lot of code (mostly simply delegating to the decorated object)."
   ]
  },
  {
   "cell_type": "markdown",
   "metadata": {},
   "source": [
    ":skull: The last point is somewhat avoidable through the use of `__getattr__`. The code might not be as readable, however."
   ]
  },
  {
   "cell_type": "code",
   "execution_count": 25,
   "metadata": {},
   "outputs": [
    {
     "name": "stdout",
     "output_type": "stream",
     "text": [
      "m1 in B\n",
      "m2 in A\n"
     ]
    }
   ],
   "source": [
    "class A:\n",
    "    def m1(self):\n",
    "        print(\"m1 in A\")\n",
    "\n",
    "    def m2(self):\n",
    "        print(\"m2 in A\")\n",
    "\n",
    "class B:\n",
    "    def __init__(self, decorated) -> None:\n",
    "        self._decorated = decorated\n",
    "\n",
    "    def m1(self):\n",
    "        print(\"m1 in B\")\n",
    "\n",
    "    def __getattr__(self, name: str) -> Any:\n",
    "        return getattr(self._decorated, name)\n",
    "    \n",
    "\n",
    "__o = B(A())\n",
    "__o.m1()\n",
    "__o.m2()"
   ]
  },
  {
   "cell_type": "markdown",
   "metadata": {},
   "source": [
    "## 6. Closing words\n",
    "\n",
    ":hourglass: 10 min\n",
    "\n",
    "In this tutorial, we have discussed the functional programming paradigm and what it brings to Python (first-class functions and closure). We then focused on the decorator protocol of Python: how to use decorators, how to make them, and how to parametrize them. \n",
    "\n",
    "\n",
    "**Dunderscore**\n",
    "- `__call__`"
   ]
  }
 ],
 "metadata": {
  "kernelspec": {
   "display_name": ".venv",
   "language": "python",
   "name": "python3"
  },
  "language_info": {
   "codemirror_mode": {
    "name": "ipython",
    "version": 3
   },
   "file_extension": ".py",
   "mimetype": "text/x-python",
   "name": "python",
   "nbconvert_exporter": "python",
   "pygments_lexer": "ipython3",
   "version": "3.9.5"
  }
 },
 "nbformat": 4,
 "nbformat_minor": 2
}
