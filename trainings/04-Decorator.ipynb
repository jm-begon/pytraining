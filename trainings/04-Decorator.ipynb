{
 "cells": [
  {
   "cell_type": "markdown",
   "metadata": {},
   "source": [
    "Functional programming, decorator, decorator pattern\n",
    "====================================================\n",
    "\n",
    "**Brainstorming**:\n",
    "- Functional paradigm\n",
    "- Closure\n",
    "- Partial and currying\n",
    "- Callable class\n",
    "- Using existing decorator\n",
    "- Syntactic sugar of decorator\n",
    "- Best practices (functools.wraps)"
   ]
  },
  {
   "cell_type": "markdown",
   "metadata": {},
   "source": []
  }
 ],
 "metadata": {
  "language_info": {
   "name": "python"
  }
 },
 "nbformat": 4,
 "nbformat_minor": 2
}
