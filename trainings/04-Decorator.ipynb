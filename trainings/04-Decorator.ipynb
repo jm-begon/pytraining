{
 "cells": [
  {
   "cell_type": "markdown",
   "metadata": {},
   "source": [
    "\n",
    "**Brainstorming**:\n",
    "- Functional paradigm\n",
    "- Closure\n",
    "- Partial and currying\n",
    "- Callable class\n",
    "- Using existing decorator\n",
    "- Syntactic sugar of decorator\n",
    "- Best practices (functools.wraps)\n",
    "- When to/when not to\n",
    "- Motivations"
   ]
  },
  {
   "cell_type": "markdown",
   "metadata": {},
   "source": [
    "Functional programming, decorator, decorator pattern\n",
    "====================================================\n",
    "\n",
    ":warning: this is the hardest training, so buckle up!\n",
    "\n",
    "**Outline**:\n",
    "1. Functional programming and the declarative paradigm\n",
    "2. Closure and partial\n",
    "3. Callable classes\n",
    "4. Decorator (usage, syntactic sugar syntax, creating decorator, best practices (including when to/when not to))\n",
    "5. The Decorator pattern\n",
    "6. Closing words"
   ]
  },
  {
   "cell_type": "markdown",
   "metadata": {},
   "source": [
    "## 1. Functional programming and the declarative paradigm\n",
    "\n",
    "Functional programming belongs to the *declarative* paradigm. Contrary to procedural and OOP, which belong to the same paradigm (imperative), functional programming can feel very different.\n",
    "\n",
    "Remember that\n",
    "> A (programming) **paradigmn** is a way to think about, approach and solve a problem. It defines the (conceptual) primitives in which to think in order to create the solution.\n",
    "\n",
    "In functional programming, the primitives are functions and recursion.\n",
    "\n",
    "Consider the example below:"
   ]
  },
  {
   "cell_type": "code",
   "execution_count": 7,
   "metadata": {},
   "outputs": [
    {
     "data": {
      "text/plain": [
       "120"
      ]
     },
     "execution_count": 7,
     "metadata": {},
     "output_type": "execute_result"
    }
   ],
   "source": [
    "# Procedural\n",
    "def sum_of_n_plus_1_first_naturals(n):\n",
    "    s = 0\n",
    "    for i in range(n+1):\n",
    "        s += i\n",
    "    return s\n",
    "\n",
    "sum_of_n_plus_1_first_naturals(15)"
   ]
  },
  {
   "cell_type": "code",
   "execution_count": 8,
   "metadata": {},
   "outputs": [
    {
     "data": {
      "text/plain": [
       "120"
      ]
     },
     "execution_count": 8,
     "metadata": {},
     "output_type": "execute_result"
    }
   ],
   "source": [
    "# Functional\n",
    "def sum_of_n_plus_1_first_naturals(n):\n",
    "    if n <= 1:\n",
    "        return n\n",
    "    return n + sum_of_n_plus_1_first_naturals(n-1)\n",
    "\n",
    "sum_of_n_plus_1_first_naturals(15)"
   ]
  },
  {
   "cell_type": "markdown",
   "metadata": {},
   "source": [
    "In the first example, we explicitly state how the state evolves. In the second, we only state how things relate to one another.\n",
    "\n",
    "As is evident from the example, Python supports both approaches. \n",
    "\n",
    "Note that \"nothing\" changes in the functional approach: the relation must always be true. That is why, the core of *declarative* programming is all about immutability. The functional part means we express relationships through the use of functions (and recursion). An important concept to be flexible in expressing relationships through functions is the notion of **first-class functions**.\n",
    "\n",
    "\n",
    "First-class functions mean that you can pass functions to other functions and you can return functions. For instance:"
   ]
  },
  {
   "cell_type": "code",
   "execution_count": 13,
   "metadata": {},
   "outputs": [
    {
     "data": {
      "text/plain": [
       "[1, 3, 5, 7, 9]"
      ]
     },
     "execution_count": 13,
     "metadata": {},
     "output_type": "execute_result"
    }
   ],
   "source": [
    "def filter(ls, f):\n",
    "    return [x for x in ls if f(x)]\n",
    "\n",
    "def even_or_odd(return_even):\n",
    "    def is_even(x):\n",
    "        return x % 2 == 0\n",
    "    if return_even:\n",
    "        return is_even\n",
    "    return lambda x: not is_even(x)\n",
    "\n",
    "\n",
    "filter(range(10), even_or_odd(return_even=False))"
   ]
  },
  {
   "cell_type": "markdown",
   "metadata": {},
   "source": [
    "Most often, you want to return a function that is further parametrized. This is done through the **closure** mechanism.\n",
    "\n",
    "> Of course, there is so much more to talk about in the context of functional programming (accumulator, continuation, functor, monads, inclusion/exclusion principle, etc.) but this is outside of the scope of this training."
   ]
  },
  {
   "cell_type": "markdown",
   "metadata": {},
   "source": [
    "## 2. Closure and partial\n",
    "\n",
    "> A **closure** of a function is the set of information that the function captures from the enclosing scopes.\n",
    "\n",
    "Consider the following example:"
   ]
  },
  {
   "cell_type": "code",
   "execution_count": 9,
   "metadata": {},
   "outputs": [
    {
     "data": {
      "text/plain": [
       "10"
      ]
     },
     "execution_count": 9,
     "metadata": {},
     "output_type": "execute_result"
    }
   ],
   "source": [
    "a = 8\n",
    "def foo(x):\n",
    "    return a + x\n",
    "\n",
    "foo(2)"
   ]
  },
  {
   "cell_type": "markdown",
   "metadata": {},
   "source": [
    "In the example above, `a` is not within the body of `foo`, yet the function is able to access it.\n",
    "\n",
    "Closures are notably useful for nested functions:"
   ]
  },
  {
   "cell_type": "code",
   "execution_count": 16,
   "metadata": {},
   "outputs": [
    {
     "name": "stdout",
     "output_type": "stream",
     "text": [
      "<function create_is_divisor_of.<locals>.is_divisor at 0x7fef045185e0>\n"
     ]
    },
    {
     "data": {
      "text/plain": [
       "[0, 3, 6, 9]"
      ]
     },
     "execution_count": 16,
     "metadata": {},
     "output_type": "execute_result"
    }
   ],
   "source": [
    "def create_is_divisor_of(n):\n",
    "    def is_divisor(x):\n",
    "        return x % n == 0\n",
    "\n",
    "    return is_divisor\n",
    "\n",
    "print(create_is_divisor_of(3))\n",
    "\n",
    "filter(range(10), create_is_divisor_of(3))"
   ]
  },
  {
   "cell_type": "markdown",
   "metadata": {},
   "source": [
    ":question: Why not use a function `is_divisor_of(x, n)`?"
   ]
  },
  {
   "cell_type": "markdown",
   "metadata": {},
   "source": [
    "`is_divisor_of(x, n)` does not follow the interface of the `filter` function. Adapting functions in this way is so frequent, that it is provided out-of-the-box:"
   ]
  },
  {
   "cell_type": "code",
   "execution_count": 17,
   "metadata": {},
   "outputs": [
    {
     "data": {
      "text/plain": [
       "[0, 3, 6, 9]"
      ]
     },
     "execution_count": 17,
     "metadata": {},
     "output_type": "execute_result"
    }
   ],
   "source": [
    "from functools import partial\n",
    "\n",
    "def is_divisor_of(x, n):\n",
    "    return x % n == 0\n",
    "\n",
    "filter(range(10), partial(is_divisor_of, n=3))"
   ]
  },
  {
   "cell_type": "markdown",
   "metadata": {},
   "source": [
    "> :skull: Some programming languages (eg. Haskell) naturally treat functions of several variables as parametric families of functions and perform automatic *currying**. In such languages, you can write `is_divisor_of(x)` and this would return a function which can take `n` as input."
   ]
  },
  {
   "cell_type": "markdown",
   "metadata": {},
   "source": [
    "## 3. Callable classes\n",
    "\n",
    "Can we do the same things with classes (well, there is a dedicated section, so you guessed it).\n"
   ]
  },
  {
   "cell_type": "code",
   "execution_count": 18,
   "metadata": {},
   "outputs": [
    {
     "data": {
      "text/plain": [
       "[0, 3, 6, 9]"
      ]
     },
     "execution_count": 18,
     "metadata": {},
     "output_type": "execute_result"
    }
   ],
   "source": [
    "class DvisiorPredicate:\n",
    "    def __init__(self, n: int) -> None:\n",
    "        self._divisor = n\n",
    "\n",
    "    def __call__(self, x: int) -> bool:\n",
    "        return x % self._divisor == 0\n",
    "\n",
    "filter(range(10), DvisiorPredicate(3))"
   ]
  },
  {
   "cell_type": "markdown",
   "metadata": {},
   "source": [
    "Turning a class into a function (a callable) is done via the `__call__` dunder.\n",
    "\n",
    "In such a small example, the overhead of using an object is evident. However, as things gets more complicated, using object will often make the code easier to write (and read!)."
   ]
  },
  {
   "cell_type": "markdown",
   "metadata": {},
   "source": [
    "## 4. Decorator \n",
    "\n",
    "### usage\n",
    "\n",
    "### syntactic sugar syntax\n",
    "\n",
    "### creating decorator\n",
    "**Exercise**\n",
    "\n",
    "### best practices (including when to/when not to)\n",
    "\n",
    "## 5. The Decorator pattern\n",
    "\n",
    "> Caveats\n",
    "\n",
    "## 6. Closing words\n",
    "\n",
    "In this tutorial, we have discussed the functional programming paradigm and what it brings to Python. We have then focused on the decorator protocol of Python and its equivalent in OOP. \n",
    "\n",
    "**Dunderscore**\n",
    "- `__call__`"
   ]
  }
 ],
 "metadata": {
  "kernelspec": {
   "display_name": ".venv",
   "language": "python",
   "name": "python3"
  },
  "language_info": {
   "codemirror_mode": {
    "name": "ipython",
    "version": 3
   },
   "file_extension": ".py",
   "mimetype": "text/x-python",
   "name": "python",
   "nbconvert_exporter": "python",
   "pygments_lexer": "ipython3",
   "version": "3.9.5"
  }
 },
 "nbformat": 4,
 "nbformat_minor": 2
}
