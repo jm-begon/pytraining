{
 "cells": [
  {
   "cell_type": "markdown",
   "metadata": {},
   "source": [
    "Data structures, mappings and the iterator pattern\n",
    "==================================================\n",
    "\n",
    ":hourglass: 3h\n",
    "\n",
    "**Outline**\n",
    "1. Container\n",
    "2. Iterator pattern\n",
    "3. Mapping\n",
    "4. Other data structures"
   ]
  },
  {
   "cell_type": "markdown",
   "metadata": {},
   "source": [
    "## 1. Container\n",
    "\n",
    "\n",
    "### Typology\n",
    "\n",
    ":hourglass: 45 min\n",
    "\n",
    "> :question: Define the following terms: container, ordered, mutable, iterable, sizable, duplicate-free.\n",
    "\n",
    "> :question: associate the tags of the previous question to the following structures: collection, sequence, tuple, list, set, frozen set.\n",
    "\n"
   ]
  },
  {
   "cell_type": "markdown",
   "metadata": {},
   "source": [
    "### Interface (abstract data types) vs implementation\n",
    ":hourglass: 15 min\n",
    "\n",
    "An interface defines **what** a data structure can do. In Object Oriented Programming (OOP) terms, the interface defines the list of messages that an instance can publicly receive.\n",
    "\n",
    "In order to be of use, a concrete implementation of the interface must be written. This implementation defines the **how**. \n",
    "\n",
    "| Interface | Implementations                          |\n",
    "|-----------|------------------------------------------|\n",
    "| List      | Linked-list, vector (ie. resiable array) |\n",
    "| Set       | Hash table, linked-list, vector, etc.    |\n",
    "\n",
    "The implementation determines the speed of an operation. For instance, if you implement a set with a linked list, some operations will be very slow. See the example below."
   ]
  },
  {
   "cell_type": "code",
   "execution_count": 2,
   "metadata": {},
   "outputs": [],
   "source": [
    "def intersection(iterable, container):\n",
    "    result = set()\n",
    "    for x in iterable:\n",
    "        if x in container:\n",
    "            result.add(x)\n",
    "    \n",
    "    return result\n",
    "\n",
    "import random\n",
    "\n",
    "K = 1000000\n",
    "N = 100000\n",
    "\n",
    "a = [random.randint(0, K) for _ in range(N)]\n",
    "b = [random.randint(0, K) for _ in range(N)]"
   ]
  },
  {
   "cell_type": "code",
   "execution_count": 6,
   "metadata": {},
   "outputs": [],
   "source": [
    "_ = intersection(a, b)"
   ]
  },
  {
   "cell_type": "code",
   "execution_count": 7,
   "metadata": {},
   "outputs": [],
   "source": [
    "_ = intersection(a, set(b))"
   ]
  },
  {
   "cell_type": "markdown",
   "metadata": {},
   "source": [
    "Although the implementation determines the speed, you can expect a standard library to provide fast implementation of the usual data structure. \n",
    "\n",
    "> :question: in terms of \"(almost) instantaneous\", \"fast\" and \"slow\", what is the speed of the insertion and search operations for a list and a set?"
   ]
  },
  {
   "cell_type": "markdown",
   "metadata": {},
   "source": [
    "#### Complexity :skull: \n",
    "\n",
    "\n",
    "In Computer Science, it is traditional to discuss speed in abstract terms, rather than in concrete time. This removes the hardware (and load) dependency (but introduces some hypotheses regarding the uniformity of some basic operations). For data structure, the *complexity* is established with respect to the size of the problem; the number of elements in the structure. \n",
    "\n",
    "If $N$ is the number of elements, we usually talk about $O(\\log N)$, $O(N)$, $O(N \\log N)$, $O(N^2)$. This notation informs on the behavior of an operation when $N$ is large. For instance, $O(N)$ means that, once $N$ is large enough, the operation takes a time proportional to $N$. So if you double $N$, you can expect to wait twice as long. $O(1)$ means that the runtime is independent of $N$.\n",
    "\n",
    "Here are the typical complexities:\n",
    "| Container | Implementation               | Operation | Complexity  |\n",
    "|-----------|------------------------------|-----------|-------------|\n",
    "| List      | Linked-list                  | Insert    | $O(1)$      |\n",
    "| List      | Linked-list                  | Search    | $O(N)$      |\n",
    "| Set       | Balanced binary sear tree    | Insert    | $O(\\log N)$ |\n",
    "| Set       | Balanced binary sear tree    | Search    | $O(\\log N)$ |\n",
    "| Set       | Hash table                   | Insert    | $O(1)$ (*)  |\n",
    "| Set       | Hash table                   | Search    | $O(1)$ (*)  |\n",
    "\n",
    "(*) amortized cost with a good hash function and load factor (or rehashing)."
   ]
  },
  {
   "cell_type": "markdown",
   "metadata": {},
   "source": [
    ":coffee: 15 min"
   ]
  },
  {
   "cell_type": "markdown",
   "metadata": {},
   "source": [
    "### Implementing a collection\n",
    "\n",
    ":hourglass: 15 min\n",
    "\n",
    "In Python, a collection must implement the `__len__` method, as well as the `__contains__`. The former is used via the `len` built-in function, and the latter via the `in` keyword."
   ]
  },
  {
   "cell_type": "code",
   "execution_count": 16,
   "metadata": {},
   "outputs": [],
   "source": [
    "from typing import Any\n",
    "\n",
    "    \n",
    "class Collection:\n",
    "    def __init__(self, *elements: Any) -> None:\n",
    "        self._elements = elements\n",
    "\n",
    "    def __len__(self) -> int:\n",
    "        return len(self._elements)\n",
    "    \n",
    "    def __contains__(self, key: Any) -> bool:\n",
    "        for x in self._elements:\n",
    "            if x == key:\n",
    "                return True\n",
    "        return False"
   ]
  },
  {
   "cell_type": "code",
   "execution_count": 17,
   "metadata": {},
   "outputs": [
    {
     "name": "stdout",
     "output_type": "stream",
     "text": [
      "length: 3\n",
      "contains 2: True\n",
      "contains 5: False\n"
     ]
    }
   ],
   "source": [
    "collection = Collection(1, 2, 3)\n",
    "\n",
    "print(\"length:\", len(collection))\n",
    "print(\"contains 2:\", 2 in collection)\n",
    "print(\"contains 5:\", 5 in collection)"
   ]
  },
  {
   "cell_type": "markdown",
   "metadata": {},
   "source": [
    "#### Equality :skull:\n",
    "\n",
    "In the `__contains__` method we tested the equality of `x` and `key` via the `==` operator. \n",
    "\n",
    ":question: But can you predict the outcome of the cell below?"
   ]
  },
  {
   "cell_type": "code",
   "execution_count": null,
   "metadata": {},
   "outputs": [],
   "source": [
    "from dataclasses import dataclass\n",
    "\n",
    "class Person:\n",
    "    def __init__(self, name: str) -> None:\n",
    "        self._name = name\n",
    "\n",
    "@dataclass\n",
    "class Pokemon:\n",
    "    name: str\n",
    "\n",
    "p1 = Person(\"John\")\n",
    "p2 = Person(\"John\")\n",
    "\n",
    "print(\"p1 == p2\", p1 == p2)\n",
    "print(\"p1 == p1\", p1 == p1)\n",
    "print(\"p1 is p1\", p1 is p1)\n",
    "\n",
    "best_pk1 = Pokemon(\"Charmander\")\n",
    "best_pk2 = Pokemon(\"Charmander\")\n",
    "\n",
    "print(\"best_pk1 == best_pk2\", best_pk1 == best_pk2)\n",
    "print(\"best_pk1 == best_pk1\", best_pk1 == best_pk1)\n",
    "print(\"best_pk1 is p1\", best_pk1 is best_pk1)"
   ]
  },
  {
   "cell_type": "markdown",
   "metadata": {},
   "source": [
    "For custom objects, the default behavior is that `==` will test whether the left operand has the same memory address as the right operand (which is what the `is` keyword is doing). It is possible to override that behavior (eg. dataclass). Note that there are a few principles to follow:\n",
    "- if two objects are equivalent and hashable (define a `__hash__` method), the hash must be the same;\n",
    "- you usually want two perfect clones (cf. `copy`) to be equivalent.\n",
    "\n"
   ]
  },
  {
   "cell_type": "markdown",
   "metadata": {},
   "source": [
    "## 2. Iterator pattern\n",
    "\n",
    "\n",
    "### Exposition\n",
    ":hourglass: 15 min"
   ]
  },
  {
   "cell_type": "markdown",
   "metadata": {},
   "source": [
    "One of the most common uses for containers, whatever the type, is to go over each element. It is common to expose a generic way to do that: the iterator pattern. \n",
    "\n",
    "In Python, the iterator *pattern* is built in the iterator *protocol* and it is what allows to use a for-loop to go over any container."
   ]
  },
  {
   "cell_type": "code",
   "execution_count": 9,
   "metadata": {},
   "outputs": [
    {
     "name": "stdout",
     "output_type": "stream",
     "text": [
      "Length of list: 3\n",
      "Length of tuple: 3\n",
      "Length of set: 3\n",
      "Length of range: 3\n"
     ]
    }
   ],
   "source": [
    "def my_terribly_inefficient_lenght_function(container):\n",
    "    n = 0\n",
    "    for _ in container:\n",
    "        n += 1\n",
    "    return n\n",
    "\n",
    "print(\"Length of list:\", my_terribly_inefficient_lenght_function([1, 2, 3]))\n",
    "print(\"Length of tuple:\", my_terribly_inefficient_lenght_function((1, 2, 3)))\n",
    "print(\"Length of set:\", my_terribly_inefficient_lenght_function({1, 2, 3}))\n",
    "print(\"Length of range:\", my_terribly_inefficient_lenght_function(range(3)))"
   ]
  },
  {
   "cell_type": "markdown",
   "metadata": {},
   "source": [
    "\n",
    "In Python, an *iterable* is any object having a `__iter__` method. The `__iter__` method returns an *iterator*. The iterator is the object that can be iterated upon. \n",
    "\n",
    "> As part of the iterator protocol, an iterator is iterable; it returns itself.\n",
    "\n",
    "There are two ways to define an iterator:\n",
    "- implement the full iterator protocol (define the `__iter__` and `__next__` methods; raise a `StopIteration` when there is no more items);\n",
    "- use the `yield` (which creates a generator, which is an iterator) in the **iterable** class.\n",
    "\n",
    "Here is a (dummy) example of using the `yield` keyword:"
   ]
  },
  {
   "cell_type": "code",
   "execution_count": 11,
   "metadata": {},
   "outputs": [
    {
     "name": "stdout",
     "output_type": "stream",
     "text": [
      "2\n",
      "4\n",
      "6\n"
     ]
    }
   ],
   "source": [
    "from typing import Any, Iterator\n",
    "\n",
    "class MyList:\n",
    "    def __init__(self, *elements: Any) -> None:\n",
    "        self._elements = list(elements)\n",
    "\n",
    "    def __iter__(self) -> Iterator:\n",
    "        for x in self._elements:\n",
    "            yield x\n",
    "\n",
    "for __s in MyList(2, 4, 6):\n",
    "    print(__s)"
   ]
  },
  {
   "cell_type": "markdown",
   "metadata": {},
   "source": [
    "> The `__iter__` method can be invoked directly by using the `iter` built-in function on the object. Just as the `__len__` method is invoked by the `len` built-in function."
   ]
  },
  {
   "cell_type": "code",
   "execution_count": 13,
   "metadata": {},
   "outputs": [
    {
     "name": "stdout",
     "output_type": "stream",
     "text": [
      "<generator object MyList.__iter__ at 0x7f7deb7773c0>\n",
      "1\n",
      "2\n",
      "3\n"
     ]
    }
   ],
   "source": [
    "iterator = iter(MyList(1, 2, 3))\n",
    "print(iterator)\n",
    "for __s in iterator:\n",
    "    print(__s)"
   ]
  },
  {
   "cell_type": "markdown",
   "metadata": {},
   "source": [
    "> You can create a generator outside of the context of the iterator protocol."
   ]
  },
  {
   "cell_type": "markdown",
   "metadata": {},
   "source": [
    "### Exercise\n",
    "\n",
    ":hourglass: 30 min\n",
    "\n",
    "Turn the following snippet of linked-list into a proper collection and implement the iterator protocol.\n"
   ]
  },
  {
   "cell_type": "code",
   "execution_count": 13,
   "metadata": {},
   "outputs": [],
   "source": [
    "from typing import Optional, TypeVar, Generic, Iterator\n",
    "\n",
    "T = TypeVar('T')\n",
    "\n",
    "class Node(Generic[T]):\n",
    "    def __init__(self, data: T) -> None:\n",
    "        self.data = data\n",
    "        self.next: Optional[Node[T]] = None\n",
    "\n",
    "class LinkedList(Generic[T]):\n",
    "    def __init__(self) -> None:\n",
    "        self.head: Node[T] = None\n",
    "\n",
    "    def append(self, data: T) -> None:\n",
    "        new_node = Node(data)\n",
    "\n",
    "        if not self.head:\n",
    "            self.head = new_node\n",
    "            return\n",
    "        \n",
    "        last_node = self.head\n",
    "        while last_node.next:\n",
    "            last_node = last_node.next\n",
    "        last_node.next = new_node\n",
    "\n",
    "    def __len__(self) -> int:\n",
    "        raise NotImplementedError()\n",
    "\n",
    "    def __contains__(self) -> bool:\n",
    "        raise NotImplementedError()\n",
    "    \n",
    "    def __iter__(self) -> Iterator:\n",
    "        raise NotImplementedError()\n",
    "   \n"
   ]
  },
  {
   "cell_type": "markdown",
   "metadata": {},
   "source": [
    "## 3. Mapping\n",
    "\n",
    ":hourglass: 20 min\n",
    "\n",
    "A mapping is a structure that *maps* a **key** to **value**. The most common mapping in Python is the dictionary. To implement a custom mapping you must redefine the following methods (see https://docs.python.org/3.9/library/collections.abc.html#collections-abstract-base-classes):\n",
    "- `__getitem__`;\n",
    "- `__setitem__`;\n",
    "- `__delitem__`;\n",
    "- `__iter__`;\n",
    "- `__len__`.\n",
    "\n",
    "> :warning: Note that a mapping cannot contain duplicate keys: it overwrites the associated value"
   ]
  },
  {
   "cell_type": "code",
   "execution_count": 22,
   "metadata": {},
   "outputs": [
    {
     "name": "stdout",
     "output_type": "stream",
     "text": [
      "map_ []\n",
      "Associated key 'k1' to value 1 \n",
      "Associated key 'k2' to value 'Mewtwo' \n",
      "Associated key 'k1' to value 2 \n",
      "Looking for key 'k1'\n",
      "map_['k1'] 2\n",
      "map_ ['k1', 'k2']\n",
      "Deleting key 'k1' \n",
      "map_ ['k2']\n"
     ]
    }
   ],
   "source": [
    "from collections.abc import MutableMapping\n",
    "from typing import Iterator, NamedTuple, Any, Optional\n",
    "\n",
    "class KVPair(NamedTuple):\n",
    "    key: Any\n",
    "    value: Any\n",
    "\n",
    "class MyMapping(MutableMapping):\n",
    "    def __init__(self, **kwargs) -> None:\n",
    "        super().__init__()\n",
    "        self._mapping = [KVPair(k, v) for k, v in kwargs.items()]\n",
    "\n",
    "    def __getitem__(self, __key: Any) -> Any:\n",
    "        print(f\"Looking for key {__key!r}\")\n",
    "        for key, value in self._mapping:\n",
    "            if key == __key:\n",
    "                return value\n",
    "        raise KeyError(__key)\n",
    "    \n",
    "    def _get_index_of(self, __key: Any) -> Optional[int]:\n",
    "        for i, (key, _) in enumerate(self._mapping):\n",
    "            if key == __key:\n",
    "                return i\n",
    "    \n",
    "    def __setitem__(self, __key: Any, __value: Any) -> None:\n",
    "        print(f\"Associated key {__key!r} to value {__value!r} \")\n",
    "    \n",
    "        # Checking for replacement\n",
    "        index: Optional[int] = self._get_index_of(__key)\n",
    "        \n",
    "        kvp = KVPair(__key, __value)\n",
    "        if index is None:\n",
    "            # Not found, append\n",
    "            self._mapping.append(kvp)\n",
    "        else:\n",
    "            # Found at position `index`\n",
    "            self._mapping[index] = kvp\n",
    "\n",
    "    def __delitem__(self, __key: Any) -> None:\n",
    "        print(f\"Deleting key {__key!r} \")\n",
    "        index: Optional[int] = self._get_index_of(__key)\n",
    "        if index is not None:\n",
    "            del self._mapping[index]\n",
    "\n",
    "    def __iter__(self) -> Iterator:  # Keys only\n",
    "        return iter(key for key, _ in self._mapping)\n",
    "    \n",
    "    def __len__(self) -> int:\n",
    "        return len(self._mapping)\n",
    "\n",
    "\n",
    "map_ = MyMapping()\n",
    "print(\"map_\", list(map_))  # Works thanks to the iterator protocol\n",
    "map_[\"k1\"] = 1\n",
    "map_[\"k2\"] = \"Mewtwo\"\n",
    "map_[\"k1\"] = 2\n",
    "\n",
    "print(\"map_['k1']\", map_['k1'])\n",
    "print(\"map_\", list(map_))\n",
    "\n",
    "del map_[\"k1\"]\n",
    "print(\"map_\", list(map_))"
   ]
  },
  {
   "cell_type": "markdown",
   "metadata": {},
   "source": [
    "> In this case, by inheriting from `MutableMapping` we get additional methods (eg. `items`, `__contains__`). However, if it makes sense for the class you are designing, you can implement whichever method you want, and get the benefit of the `[]` syntax."
   ]
  },
  {
   "cell_type": "markdown",
   "metadata": {},
   "source": [
    "> Note how we implemented a mapping thanks to a container (admitedly, in an inefficient way). It is also straightforward to implement a set based on a dictionary: just use a dummy value (like `None`) as values."
   ]
  },
  {
   "cell_type": "markdown",
   "metadata": {},
   "source": [
    "### Slices (and ellipsis :skull:)\n",
    "\n",
    "Python offers some syntactic sugar syntax with `__getitem__`. Consider the following examples\n",
    "\n"
   ]
  },
  {
   "cell_type": "code",
   "execution_count": 2,
   "metadata": {},
   "outputs": [
    {
     "name": "stdout",
     "output_type": "stream",
     "text": [
      "Case 1\n",
      "<class 'int'> 2\n",
      "\tGrid(2, 2, 50, 55)\n",
      "Case 2\n",
      "<class 'tuple'> (2, 52)\n",
      "\tGrid(2, 2, 52, 52)\n",
      "Case 3\n",
      "<class 'slice'> slice(2, 5, None)\n",
      "\tGrid(2, 5, 50, 55)\n",
      "Case 3'\n",
      "<class 'slice'> slice(2, 5, None)\n",
      "\tGrid(2, 5, 50, 55)\n",
      "Case 4\n",
      "<class 'tuple'> (Ellipsis, 52)\n",
      "\tGrid(0, 10, 52, 52)\n",
      "Case 5\n",
      "<class 'tuple'> (2, Ellipsis)\n",
      "\tGrid(2, 2, 50, 55)\n"
     ]
    }
   ],
   "source": [
    "from __future__ import annotations\n",
    "\n",
    "from typing import Tuple, Iterator\n",
    "from copy import copy\n",
    "\n",
    "class Grid:\n",
    "    def __init__(self, x_min: int, x_max: int, y_min: int, y_max: int) -> None:\n",
    "        self._x_min = x_min\n",
    "        self._x_max = x_max\n",
    "        self._y_min = y_min\n",
    "        self._y_max = y_max\n",
    "\n",
    "    def __repr__(self) -> str:\n",
    "        return (\n",
    "            f\"{self.__class__.__qualname__}(\"\n",
    "            f\"{self._x_min}, \"\n",
    "            f\"{self._x_max}, \"\n",
    "            f\"{self._y_min}, \"\n",
    "            f\"{self._y_max})\"\n",
    "        )\n",
    "\n",
    "    def __iter__(self) -> Iterator[Tuple[int]]:\n",
    "        for x in range(self._x_min, self._x_max+1):\n",
    "            for y in range(self._y_min, self._y_max+1):\n",
    "                yield x, y\n",
    "\n",
    "    def _shrink(\n",
    "            self, \n",
    "            x_min: Optional[int] = None, \n",
    "            x_max: Optional[int] = None, \n",
    "            y_min: Optional[int] = None, \n",
    "            y_max: Optional[int] = None,\n",
    "        ) -> Grid:\n",
    "        if x_min is not None:\n",
    "            if self._x_min <= x_min:\n",
    "                self._x_min = x_min\n",
    "            else:\n",
    "                raise ValueError(\"Outside of range\")\n",
    "        \n",
    "        if x_max is not None:\n",
    "            if x_max <= self._x_max:\n",
    "                self._x_max = x_max\n",
    "            else:\n",
    "                raise ValueError(\"Outside of range\")\n",
    "        \n",
    "        if y_min is not None:\n",
    "            if self._y_min <= y_min:\n",
    "                self._y_min = y_min\n",
    "            else:\n",
    "                raise ValueError(\"Outside of range\")\n",
    "        \n",
    "        if y_max is not None:\n",
    "            if y_max <= self._y_max:\n",
    "                self._y_max = y_max\n",
    "            else:\n",
    "                raise ValueError(\"Outside of range\")\n",
    "        \n",
    "        return self\n",
    "\n",
    "    def __getitem__(self, __s) -> Grid:\n",
    "        print(type(__s), repr(__s))\n",
    "        __o = copy(self)\n",
    "        if isinstance(__s, int):\n",
    "            return __o._shrink(__s, __s)\n",
    "            \n",
    "        if isinstance(__s, tuple):\n",
    "            x, y = __s\n",
    "            if x is ...:  # Ellipsis\n",
    "                x = None\n",
    "            if y is ...:  # Ellipsis\n",
    "                y = None\n",
    "            return __o._shrink(x, x, y, y)\n",
    "        \n",
    "        if isinstance(__s, slice):\n",
    "            if __s.step is not None:\n",
    "                raise ValueError(\"Cannot deal with step\")\n",
    "            return __o._shrink(__s.start, __s.stop)\n",
    "        \n",
    "\n",
    "\n",
    "        raise ValueError(f\"Cannot deal with object {__s!r} of type {type(__s)}\")\n",
    "    \n",
    "grid = Grid(0, 10, 50, 55)\n",
    "\n",
    "print(\"Case 1\")\n",
    "print(f\"\\t{grid[2]}\")\n",
    "print(\"Case 2\")\n",
    "print(f\"\\t{grid[2, 52]}\")\n",
    "print(\"Case 3\")\n",
    "print(f\"\\t{grid[2:5]}\")\n",
    "print(\"Case 3'\")\n",
    "print(f\"\\t{grid[slice(2, 5)]}\")\n",
    "print(\"Case 4\")\n",
    "print(f\"\\t{grid[..., 52]}\")\n",
    "print(\"Case 5\")\n",
    "print(f\"\\t{grid[2, ...]}\")"
   ]
  },
  {
   "cell_type": "markdown",
   "metadata": {},
   "source": [
    "### Custom objects as keys :skull:\n",
    "\n",
    "In general, it is not a good idea to use a custom class as key for a dictionary:"
   ]
  },
  {
   "cell_type": "code",
   "execution_count": 2,
   "metadata": {},
   "outputs": [
    {
     "ename": "KeyError",
     "evalue": "<__main__.MyClass object at 0x7f5dc0465310>",
     "output_type": "error",
     "traceback": [
      "\u001b[0;31m---------------------------------------------------------------------------\u001b[0m",
      "\u001b[0;31mKeyError\u001b[0m                                  Traceback (most recent call last)",
      "Cell \u001b[0;32mIn[2], line 5\u001b[0m\n\u001b[1;32m      2\u001b[0m     \u001b[38;5;28;01mdef\u001b[39;00m \u001b[38;5;21m__init__\u001b[39m(\u001b[38;5;28mself\u001b[39m, i: \u001b[38;5;28mint\u001b[39m) \u001b[38;5;241m-\u001b[39m\u001b[38;5;241m>\u001b[39m \u001b[38;5;28;01mNone\u001b[39;00m:\n\u001b[1;32m      3\u001b[0m         \u001b[38;5;28mself\u001b[39m\u001b[38;5;241m.\u001b[39mi \u001b[38;5;241m=\u001b[39m i\n\u001b[0;32m----> 5\u001b[0m \u001b[43m{\u001b[49m\u001b[43mMyClass\u001b[49m\u001b[43m(\u001b[49m\u001b[38;5;241;43m2\u001b[39;49m\u001b[43m)\u001b[49m\u001b[43m:\u001b[49m\u001b[43m \u001b[49m\u001b[38;5;241;43m2\u001b[39;49m\u001b[43m}\u001b[49m\u001b[43m[\u001b[49m\u001b[43mMyClass\u001b[49m\u001b[43m(\u001b[49m\u001b[38;5;241;43m2\u001b[39;49m\u001b[43m)\u001b[49m\u001b[43m]\u001b[49m\n",
      "\u001b[0;31mKeyError\u001b[0m: <__main__.MyClass object at 0x7f5dc0465310>"
     ]
    }
   ],
   "source": [
    "class MyClass:\n",
    "    def __init__(self, i: int) -> None:\n",
    "        self.i = i\n",
    "\n",
    "{MyClass(2): 2}[MyClass(2)]"
   ]
  },
  {
   "cell_type": "markdown",
   "metadata": {},
   "source": [
    "To use a custom class as key, you need to take the following precautions:\n",
    "- make the class immutable;\n",
    "- re-implement the `__eq__` and `__hash__` properly.\n",
    "\n",
    "In general, two objects are equivalent if all their attributes are equivalent. A good hash should take into account all the attributes. Two equivalent objects must always have the same hash.\n",
    "\n",
    "The immutability restriction follows from the above comment: if the object changes, its hash changes and therefore the mapping is corrupted.\n",
    "\n",
    "> For non-hash-based mappings, the hash part is irrelevant but you would likely need to implement the comparison operators."
   ]
  },
  {
   "cell_type": "markdown",
   "metadata": {},
   "source": [
    "## 4. Closing words\n",
    "\n",
    ":hourglass: 15 min\n",
    "\n",
    "### Comprehension\n",
    "\n",
    "Data structures and mappings are so ubiquitous that Python provides syntactic sugar to create the basic types."
   ]
  },
  {
   "cell_type": "code",
   "execution_count": 9,
   "metadata": {},
   "outputs": [
    {
     "data": {
      "text/plain": [
       "[0, 9, 36, 81]"
      ]
     },
     "execution_count": 9,
     "metadata": {},
     "output_type": "execute_result"
    }
   ],
   "source": [
    "# List comprehension\n",
    "[i**2 for i in range(10) if i % 3 == 0]"
   ]
  },
  {
   "cell_type": "code",
   "execution_count": 10,
   "metadata": {},
   "outputs": [
    {
     "data": {
      "text/plain": [
       "{0, 9, 36, 81}"
      ]
     },
     "execution_count": 10,
     "metadata": {},
     "output_type": "execute_result"
    }
   ],
   "source": [
    "# Set\n",
    "{i**2 for i in range(10) if i % 3 == 0}"
   ]
  },
  {
   "cell_type": "code",
   "execution_count": 11,
   "metadata": {},
   "outputs": [
    {
     "data": {
      "text/plain": [
       "{0: 0, 3: 9, 6: 36, 9: 81}"
      ]
     },
     "execution_count": 11,
     "metadata": {},
     "output_type": "execute_result"
    }
   ],
   "source": [
    "# Dictionary\n",
    "{i:i**2 for i in range(10) if i % 3 == 0}"
   ]
  },
  {
   "cell_type": "code",
   "execution_count": 12,
   "metadata": {},
   "outputs": [
    {
     "data": {
      "text/plain": [
       "<generator object <genexpr> at 0x7f5dc0089660>"
      ]
     },
     "execution_count": 12,
     "metadata": {},
     "output_type": "execute_result"
    }
   ],
   "source": [
    "# Generator\n",
    "(i**2 for i in range(10) if i % 3 == 0)"
   ]
  },
  {
   "cell_type": "markdown",
   "metadata": {},
   "source": [
    "### Other data structures\n",
    "\n",
    "In this modules we have discussed the most common data structure in Python (list, tuple, set, and dictionary), but there is a myriad of other structures:\n",
    "- Stack (LIFO)\n",
    "- Queue (FIFO), dequeue\n",
    "- Frozenset\n",
    "- Priority queues and heaps\n",
    "- Trees containers (binary/non-binary, full, etc.)\n",
    "- Tree dictionaries (binary search tree, AVL, red-black trees, etc.)\n",
    "- Graphs\n",
    "- defaultdict\n",
    "\n",
    "See also for more https://docs.python.org/3.9/library/collections.abc.html#collections-abstract-base-classes"
   ]
  },
  {
   "cell_type": "markdown",
   "metadata": {},
   "source": [
    "### What we have seen\n",
    "\n",
    "In this module, we have discussed the different properties of data structures and dictionaries, as well as how to implement them and use the built-in iterator protocol of Python.\n",
    "\n",
    "One of the goals of this module was to reflect on which data structure to use when and why."
   ]
  },
  {
   "cell_type": "markdown",
   "metadata": {},
   "source": [
    "**Dunderscore**:\n",
    "- `__len__`\n",
    "- `__contains__` \n",
    "- `__iter__`\n",
    "- `__getitem__`\n",
    "- `__setitem__`\n",
    "- `__delitem__`"
   ]
  }
 ],
 "metadata": {
  "kernelspec": {
   "display_name": ".venv",
   "language": "python",
   "name": "python3"
  },
  "language_info": {
   "codemirror_mode": {
    "name": "ipython",
    "version": 3
   },
   "file_extension": ".py",
   "mimetype": "text/x-python",
   "name": "python",
   "nbconvert_exporter": "python",
   "pygments_lexer": "ipython3",
   "version": "3.9.5"
  }
 },
 "nbformat": 4,
 "nbformat_minor": 2
}
