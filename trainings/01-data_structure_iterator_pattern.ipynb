{
 "cells": [
  {
   "cell_type": "markdown",
   "metadata": {},
   "source": [
    "Data structures, OOP and the iterator pattern\n",
    "=============================================\n",
    "\n",
    ":hourglass: 3h\n",
    "\n",
    ":raising_hand: :skull: :computer: :question:\n",
    "\n",
    "**Outline**\n",
    "1. Container\n",
    "2. Mapping\n",
    "3. Iterator pattern\n",
    "4. OOP\n",
    "5. Other data structures"
   ]
  },
  {
   "cell_type": "markdown",
   "metadata": {},
   "source": [
    "Container\n",
    "---------\n",
    "\n",
    "### Types of containers\n",
    ":hourglass: 45 min\n",
    "\n",
    "> :question: Define the following terms: container, ordered, mutable, iterable, sizable, allow duplicate.\n",
    "\n",
    "> :question: associate the tags of the previous question to the following structures: collection, sequence, tuple, list, set, frozen set.\n",
    "\n"
   ]
  },
  {
   "cell_type": "markdown",
   "metadata": {},
   "source": [
    "### Interface (abstract data types) vs implementation\n",
    "\n",
    "An interface defines **what** a data structure can do. In Object Oriented Programming (OOP) terms, the interface defines the list of messages that an instance can publicly receive.\n",
    "\n",
    "In order to be of use, a concrete implementation of the interface must be written. This implementation defines the **how**. \n",
    "\n",
    "| Interface | Implementations                          |\n",
    "|-----------|------------------------------------------|\n",
    "| List      | Linked-list, vector (ie. resiable array) |\n",
    "| Set       | Hash table, linked-list, vector, etc.    |\n",
    "\n",
    "The implementation determine the speed of a operation. For instance, if you implement a set with a linked list, some operations will be very slow. See the example below."
   ]
  },
  {
   "cell_type": "code",
   "execution_count": 2,
   "metadata": {},
   "outputs": [],
   "source": [
    "def intersection(iterable, container):\n",
    "    result = set()\n",
    "    for x in iterable:\n",
    "        if x in container:\n",
    "            result.add(x)\n",
    "    \n",
    "    return result\n",
    "\n",
    "import random\n",
    "\n",
    "K = 1000000\n",
    "N = 100000\n",
    "\n",
    "a = [random.randint(0, K) for _ in range(N)]\n",
    "b = [random.randint(0, K) for _ in range(N)]"
   ]
  },
  {
   "cell_type": "code",
   "execution_count": 6,
   "metadata": {},
   "outputs": [],
   "source": [
    "_ = intersection(a, b)"
   ]
  },
  {
   "cell_type": "code",
   "execution_count": 7,
   "metadata": {},
   "outputs": [],
   "source": [
    "_ = intersection(a, set(b))"
   ]
  },
  {
   "cell_type": "markdown",
   "metadata": {},
   "source": [
    "Althoug the implementation determines the speed, you can expect a standard library to provide fast implementation of the usual data structure. \n",
    "\n",
    "> :question: in terms of \"(almost) instantaneous\", \"fast\" and \"slow\", what is the speed of the insertion and search operations for a list and a set?"
   ]
  },
  {
   "cell_type": "markdown",
   "metadata": {},
   "source": [
    "#### Complexity :skull: \n",
    "\n",
    "\n",
    "In Computer Science, it is traditional to discuss speed in abstract term, rather than in concrete time. This remove the hardware (and load) dependency (but introduce some hypotheses regarding the uniformity of some basic operations). For data structure, the *complexity*, is established with respect to the size of the problem; the number of elements in the structure. \n",
    "\n",
    "If $N$ is the number of elements, we usually talk about $O(\\log N)$, $O(N)$, $O(N \\log N)$, $O(N^2)$. This notation inform on the behavior of a operation when $N$ is large. For instance, $O(N)$ means that, once $N$ is large enough, the operation takes a time proportional to $N$. So if you double $N$, you can expect to wait twice as long. $O(1)$ means that the runtime is independent of $N$.\n",
    "\n",
    "Here are the typical complexities:\n",
    "| Container | Implementation               | Operation | Complexity  |\n",
    "|-----------|------------------------------|-----------|-------------|\n",
    "| List      | Linked-list                  | Insert    | $O(1)$      |\n",
    "| List      | Linked-list                  | Search    | $O(N)$      |\n",
    "| Set       | Balanced binary sear tree    | Insert    | $O(\\log N)$ |\n",
    "| Set       | Balanced binary sear tree    | Search    | $O(\\log N)$ |\n",
    "| Set       | Hash table                   | Insert    | $O(1)$ (*)  |\n",
    "| Set       | Hash table                   | Search    | $O(1)$ (*)  |\n",
    "\n",
    "(*) amortized cost with a good hash function and load factor (or rehashing)."
   ]
  },
  {
   "cell_type": "markdown",
   "metadata": {},
   "source": [
    "Other data structures\n",
    "---------------------\n",
    "- Stack\n",
    "- Queue\n",
    "- Priority queues and heaps\n",
    "- Trees containers (binary/non-binary, full, etc.)\n",
    "- Tree dictionaries (binary search tree, AVL, red-black trees, etc.)\n",
    "- Graphs\n",
    "- defaultdict"
   ]
  }
 ],
 "metadata": {
  "kernelspec": {
   "display_name": ".venv",
   "language": "python",
   "name": "python3"
  },
  "language_info": {
   "codemirror_mode": {
    "name": "ipython",
    "version": 3
   },
   "file_extension": ".py",
   "mimetype": "text/x-python",
   "name": "python",
   "nbconvert_exporter": "python",
   "pygments_lexer": "ipython3",
   "version": "3.9.18"
  }
 },
 "nbformat": 4,
 "nbformat_minor": 2
}
