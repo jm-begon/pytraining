{
 "cells": [
  {
   "cell_type": "markdown",
   "metadata": {},
   "source": [
    "Miscellaneous\n",
    "=============\n",
    "\n",
    "**Outline**:\n",
    "1. The Python standard library\n",
    "2. Formatting \n",
    "3. Duck typing and protocol\n",
    "4. Enum and literal\n",
    "5. Tools\n",
    "6. Questions\n",
    "7. Exercise\n",
    "8. Closing words"
   ]
  },
  {
   "cell_type": "markdown",
   "metadata": {},
   "source": [
    "## 1. The Python standard library\n",
    "\n",
    "Python comes with many interesting modules. Here is a selection:\n",
    "- `os`/`sys`: system-specific parameters and functions;\n",
    "- `datetime`: manipulation of date and time (limited support for timezones);\n",
    "- `logging`: built-in logging facility;\n",
    "- `pathlib`: path, file OOP manipulation interface;\n",
    "- `collections`: base classes for collections and a few useful concrete ones;\n",
    "- `itertools`: tools related to iteration;\n",
    "- `functools`: functional programming tools (decorators, partial, reduce, etc.);\n",
    "- `argparse`: built-in CLI argument parsings;\n",
    "- `math`/`random`: you have guessed it;\n",
    "- `re`: regular expression;\n",
    "- `pickle`: serialization library.\n"
   ]
  },
  {
   "cell_type": "markdown",
   "metadata": {},
   "source": [
    "### Defaultdict\n",
    "\n",
    "In a `defaultdict`, all values are of the same type. If you search for a key that does not exists, a new default becomes attached to that key."
   ]
  },
  {
   "cell_type": "code",
   "execution_count": null,
   "metadata": {},
   "outputs": [],
   "source": [
    "from collections import defaultdict\n",
    "\n",
    "data = \"ABCABABCB\"\n",
    "\n",
    "histogram = defaultdict(int)\n",
    "\n",
    "for x in data:\n",
    "    histogram[x] += 1\n",
    "\n",
    "histogram"
   ]
  },
  {
   "cell_type": "code",
   "execution_count": null,
   "metadata": {},
   "outputs": [],
   "source": [
    "from collections import defaultdict\n",
    "\n",
    "# load balacing\n",
    "ppl = [\n",
    "    \"Alice\", \"Bob\", \"Claire\", \"David\", \"Emma\", \n",
    "    \"Felix\", \"Grace\", \"Henry\", \"Isabelle\", \"Jack\"\n",
    "]\n",
    "\n",
    "assignment = defaultdict(list) \n",
    "for p in ppl:\n",
    "    assignment[hash(p) % 3].append(p)\n",
    "\n",
    "assignment"
   ]
  },
  {
   "cell_type": "markdown",
   "metadata": {},
   "source": [
    "### Dispatching (overloading)\n",
    "\n",
    "In a language like Java, you can have several methods with the same name and different inputs. The proper method is invoked based on the types of the arguments. In Python (which is weakly typed) you do not have this functionality out-of-the-box. The `functools` module provides a dispatching tool that might achieve the same result in some circumstances."
   ]
  },
  {
   "cell_type": "code",
   "execution_count": null,
   "metadata": {},
   "outputs": [],
   "source": [
    "from functools import singledispatchmethod\n",
    "\n",
    "class Negator:\n",
    "    @singledispatchmethod\n",
    "    def neg(self, arg):\n",
    "        raise NotImplementedError(f\"Cannot negate {arg}\")\n",
    "\n",
    "    @neg.register\n",
    "    def _(self, arg: int):\n",
    "        return -arg\n",
    "\n",
    "    @neg.register\n",
    "    def _(self, arg: bool):\n",
    "        return not arg\n",
    "\n",
    "print(Negator().neg(2))\n",
    "print(Negator().neg(True))"
   ]
  },
  {
   "cell_type": "markdown",
   "metadata": {},
   "source": [
    "### Itertools\n",
    "\n",
    "Itertools provides many utilities to create iterables like cycling over a sequence, batching data, creating the cartesian product of iterables, creating an iterable of permutations or combinations, etc."
   ]
  },
  {
   "cell_type": "code",
   "execution_count": null,
   "metadata": {},
   "outputs": [],
   "source": [
    "from itertools import permutations\n",
    "\n",
    "list(permutations(\"ABC\"))"
   ]
  },
  {
   "cell_type": "markdown",
   "metadata": {},
   "source": [
    "## 2. Formatting \n",
    "\n",
    "In Python 3.9, formatting string is done via the f-strings. Within the substitution expression of the f-string, you can give formatting options:"
   ]
  },
  {
   "cell_type": "code",
   "execution_count": null,
   "metadata": {},
   "outputs": [],
   "source": [
    "s = \"blabla\"\n",
    "print(f\"'{s:10}'\")  # Make sure the length is at least 10\n",
    "print(f\"'{s:>10}'\") # same + right aligned\n",
    "print(f\"'{s:^10}'\") # same but centered\n",
    "print(f\"{0.123456789:.1f}\")  # print as float (f) with 1 decimal (.1)\n",
    "print(f\"{0.123456789:e}\")  # print in scientific notation\n",
    "print(f\"{'this is the repr'!r}\")\n",
    "print(f\"{'this is the str'}\")"
   ]
  },
  {
   "cell_type": "markdown",
   "metadata": {},
   "source": [
    "See https://docs.python.org/3/library/string.html for more.\n",
    "\n",
    ":skull: It is possible to define formatting options for a custom class by overwriting the `__format__` method."
   ]
  },
  {
   "cell_type": "markdown",
   "metadata": {},
   "source": [
    "## 3. Duck typing and protocol\n",
    "\n",
    "> \"If it looks like a duck, swims like a duck, and quacks like a duck, then it probably is a duck.\"\n",
    "\n",
    "Python has been built under the duck typing framework (aka ask forgiveness, not permission). Consider the following example:"
   ]
  },
  {
   "cell_type": "code",
   "execution_count": null,
   "metadata": {},
   "outputs": [],
   "source": [
    "class Duck:\n",
    "    def quack(self):\n",
    "        print(\"Quack, quack!\")\n",
    "    \n",
    "class Person:\n",
    "    def quack(self):\n",
    "        print(\"Kwak, kwak\")\n",
    "    \n",
    "\n",
    "def quack_it_python(duck):\n",
    "    try:\n",
    "        duck.quack()\n",
    "    except AttributeError:\n",
    "        print(\"Cannot quack\")\n",
    "\n",
    "def quack_it_oop(duck):\n",
    "    if isinstance(duck, Duck):\n",
    "        duck.quack()\n",
    "    else:\n",
    "        print(\"Cannot quack\")\n",
    "\n",
    "quack_it_python(Duck())\n",
    "quack_it_python(Person())\n",
    "quack_it_oop(Duck())\n",
    "quack_it_oop(Person())"
   ]
  },
  {
   "cell_type": "markdown",
   "metadata": {},
   "source": [
    "Duck typing does not blend well with typing, however. You can work around that thanks to the `Protocol` protocol. You can think of it an *interface* you declare afterwards:"
   ]
  },
  {
   "cell_type": "code",
   "execution_count": null,
   "metadata": {},
   "outputs": [],
   "source": [
    "from typing import Protocol\n",
    "\n",
    "class Quacker(Protocol):\n",
    "    def quack(self):\n",
    "        pass\n",
    "\n",
    "def quack_it(quacker: Quacker):\n",
    "    # By typing, you move the need to ensure the proper use \n",
    "    # to the user of the function\n",
    "    quacker.quack()\n"
   ]
  },
  {
   "cell_type": "code",
   "execution_count": null,
   "metadata": {},
   "outputs": [],
   "source": [
    "from typing import Protocol, runtime_checkable\n",
    "\n",
    "@runtime_checkable  # Need to enable runtime checking for isinstance/issubclass\n",
    "class Quacker(Protocol):\n",
    "    def quack(self):\n",
    "        pass\n",
    "\n",
    "isinstance(Person(), Quacker)"
   ]
  },
  {
   "cell_type": "markdown",
   "metadata": {},
   "source": [
    "## 4. Enum and literals\n",
    "\n",
    "Often you need to restrict the number of modalities of a variable to a certain range. There many ways to handle this situation in Python, and two good ones: enum and literals."
   ]
  },
  {
   "cell_type": "code",
   "execution_count": null,
   "metadata": {},
   "outputs": [],
   "source": [
    "from enum import Enum\n",
    "\n",
    "class RAG(Enum):\n",
    "    RED = \"red\"\n",
    "    AMBER = \"amber\"\n",
    "    GREEN = \"green\"\n",
    "\n",
    "\n",
    "\n",
    "def gimme_rag(color: RAG):\n",
    "    print(f\"{color} / {color.name} / {color.value}\")\n",
    "\n",
    "gimme_rag(RAG.RED)"
   ]
  },
  {
   "cell_type": "code",
   "execution_count": null,
   "metadata": {},
   "outputs": [],
   "source": [
    "from typing import Literal\n",
    "\n",
    "RAG = Literal[\"red\", \"amber\", \"green\"]\n",
    "\n",
    "def gimme_rag(color: RAG):\n",
    "    print(color)\n",
    "\n",
    "gimme_rag(\"red\")"
   ]
  },
  {
   "cell_type": "markdown",
   "metadata": {},
   "source": [
    ":bulb: Consider using an Enum for important concepts. If the goal is just to restrict the value in a specific part of the code, the literal is way less hassle."
   ]
  },
  {
   "cell_type": "markdown",
   "metadata": {},
   "source": [
    "## 5. Tools\n",
    "\n",
    "Although the focus of the training was on the design and code aspects, ensuring a successful and lasting project is also about good tooling:\n",
    "- code versioning (git + repository);\n",
    "- testing (eg. pytest);\n",
    "- linting (eg. black);\n",
    "- type-checking (eg. mypy);\n",
    "- CI/CD;\n",
    "- packet management (eg. poetry)."
   ]
  },
  {
   "cell_type": "markdown",
   "metadata": {},
   "source": [
    "## 6. Questions\n",
    "\n",
    ":question:\n"
   ]
  },
  {
   "cell_type": "markdown",
   "metadata": {},
   "source": [
    "## 7. Exercise\n",
    "\n",
    "Solve one of\n",
    "- the Wolf, Sheep, Cabbage puzzle;\n",
    "- the illuminated plates.\n",
    "\n",
    "In each case, we are looking for the shortest set of actions to reach the winning state."
   ]
  },
  {
   "cell_type": "markdown",
   "metadata": {},
   "source": [
    "> :bulb: Hint: find a way to encode the current state of puzzle and explore the state space efficienctly."
   ]
  },
  {
   "cell_type": "markdown",
   "metadata": {},
   "source": [
    "### Wolf, Sheep, Cabbage puzzle\n",
    "\n",
    "A farmer must ferry a wolf, a sheep, and a cabbage across a river using a small boat that can only carry the farmer and one other item at a time. Additionnaly, the sheep and cabbage cannot be left alone, and neither can the wolf and the sheep (the former will eat the latter). The goal is to ferry across all three of the wolf, sheep, and cabbage."
   ]
  },
  {
   "cell_type": "code",
   "execution_count": null,
   "metadata": {},
   "outputs": [],
   "source": []
  },
  {
   "cell_type": "markdown",
   "metadata": {},
   "source": [
    "### Illuminated plates\n",
    "\n",
    "There is a 3x3 grid with a pawn in some position. Each grid is either illuminated or not. When the pawn move to a new plate, the for adjacent (if any) plates switch states: illuminated plates turn off, turn-off plates become illuminated. The goal is to illuminate all plates.\n",
    "\n",
    "The starting state is\n",
    "\n",
    "|()| .| .|\n",
    "|-|-|-|\n",
    "|.| .|. |\n",
    "|()|x|()|\n",
    "\n",
    "where `x` is the pawn position, `()` indicate the plate is illuminated, `.` indicate the plate is not illuminated"
   ]
  },
  {
   "cell_type": "code",
   "execution_count": null,
   "metadata": {},
   "outputs": [],
   "source": []
  },
  {
   "cell_type": "markdown",
   "metadata": {},
   "source": [
    "\n",
    "## 8. Closing words \n",
    "\n",
    "This training was about the standard library and a few miscellaneous other things.\n",
    "\n",
    "Note that if there are design patterns, there also exists **anti-patterns**: recipes to common problems that are counterproductive in some way (ineffective, difficult to maintain, etc.)\n",
    "\n",
    "The trainings were about design patterns in Python, but we did not cover all the design patterns. You can easily research the remaining. As for Python, there is still plenty to explore, such as:\n",
    "* data access (descriptors, MRO, slots);\n",
    "* parallel computing (thread/processor pools, async, locks, GIL, etc.);\n",
    "* multiple inheritance (diamond problem, mixins, MRO, composition over inheritance);\n",
    "* and more.\n"
   ]
  },
  {
   "cell_type": "markdown",
   "metadata": {},
   "source": [
    ":warning: Do not forget to fill the feedback suvery."
   ]
  }
 ],
 "metadata": {
  "kernelspec": {
   "display_name": ".venv",
   "language": "python",
   "name": "python3"
  },
  "language_info": {
   "codemirror_mode": {
    "name": "ipython",
    "version": 3
   },
   "file_extension": ".py",
   "mimetype": "text/x-python",
   "name": "python",
   "nbconvert_exporter": "python",
   "pygments_lexer": "ipython3",
   "version": "3.9.5"
  }
 },
 "nbformat": 4,
 "nbformat_minor": 2
}
