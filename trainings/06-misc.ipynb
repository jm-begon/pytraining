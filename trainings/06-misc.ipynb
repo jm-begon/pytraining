{
 "cells": [
  {
   "cell_type": "markdown",
   "metadata": {},
   "source": [
    "Miscellaneous\n",
    "=============\n",
    "\n",
    "**Outline**:\n",
    "1. The Python standard library\n",
    "2. Formatting \n",
    "3. Tools\n",
    "4. Questions\n",
    "5. Closing words"
   ]
  },
  {
   "cell_type": "markdown",
   "metadata": {},
   "source": [
    "## 1. The Python standard library\n",
    "\n",
    "Python comes with many interesting modules. Here is a selection:\n",
    "- `os`/`sys`: system-specific parameters and functions;\n",
    "- `datetime`: manipulation of date and time (limited support for timezones);\n",
    "- `logging`: built-in logging facility;\n",
    "- `pathlib`: path, file OOP manipulation interface;\n",
    "- `collections`: base classes for collections and a few useful concrete ones;\n",
    "- `itertools`: tools related to iteration;\n",
    "- `functools`: functional programming tools (decorators, partial, reduce, etc.);\n",
    "- `argparse`: built-in CLI argument parsings;\n",
    "- `math`/`random`: you have guessed it;\n",
    "- `re`: regular expression.\n"
   ]
  },
  {
   "cell_type": "markdown",
   "metadata": {},
   "source": [
    "### Defaultdict\n",
    "\n",
    "In a `defaultdict`, all values are of the same type. If you search for a key that does not exists, a new default becomes attached to that key."
   ]
  },
  {
   "cell_type": "code",
   "execution_count": 2,
   "metadata": {},
   "outputs": [
    {
     "data": {
      "text/plain": [
       "defaultdict(int, {'A': 3, 'B': 4, 'C': 2})"
      ]
     },
     "execution_count": 2,
     "metadata": {},
     "output_type": "execute_result"
    }
   ],
   "source": [
    "from collections import defaultdict\n",
    "\n",
    "data = \"ABCABABCB\"\n",
    "\n",
    "histogram = defaultdict(int)\n",
    "\n",
    "for x in data:\n",
    "    histogram[x] += 1\n",
    "\n",
    "histogram"
   ]
  },
  {
   "cell_type": "code",
   "execution_count": 4,
   "metadata": {},
   "outputs": [
    {
     "data": {
      "text/plain": [
       "defaultdict(list,\n",
       "            {2: ['Alice', 'Emma', 'Grace', 'Isabelle'],\n",
       "             0: ['Bob', 'Claire', 'Henry', 'Jack'],\n",
       "             1: ['David', 'Felix']})"
      ]
     },
     "execution_count": 4,
     "metadata": {},
     "output_type": "execute_result"
    }
   ],
   "source": [
    "from collections import defaultdict\n",
    "\n",
    "# load balacing\n",
    "ppl = [\n",
    "    \"Alice\", \"Bob\", \"Claire\", \"David\", \"Emma\", \n",
    "    \"Felix\", \"Grace\", \"Henry\", \"Isabelle\", \"Jack\"\n",
    "]\n",
    "\n",
    "assignment = defaultdict(list) \n",
    "for p in ppl:\n",
    "    assignment[hash(p) % 3].append(p)\n",
    "\n",
    "assignment"
   ]
  },
  {
   "cell_type": "markdown",
   "metadata": {},
   "source": [
    "### Dispatching (overloading)\n",
    "\n",
    "In a language like Java, you can have several methods with the same name and different inputs. The proper method is invoked based on the types of the arguments. In Python (which is weakly typed) you do not have this functionality out-of-the-box. The `functools` module provides a dispatching tool that might achieve the same result in some circumstances."
   ]
  },
  {
   "cell_type": "code",
   "execution_count": 6,
   "metadata": {},
   "outputs": [
    {
     "name": "stdout",
     "output_type": "stream",
     "text": [
      "-2\n",
      "False\n"
     ]
    }
   ],
   "source": [
    "from functools import singledispatchmethod\n",
    "\n",
    "class Negator:\n",
    "    @singledispatchmethod\n",
    "    def neg(self, arg):\n",
    "        raise NotImplementedError(\"Cannot negate a\")\n",
    "\n",
    "    @neg.register\n",
    "    def _(self, arg: int):\n",
    "        return -arg\n",
    "\n",
    "    @neg.register\n",
    "    def _(self, arg: bool):\n",
    "        return not arg\n",
    "\n",
    "print(Negator().neg(2))\n",
    "print(Negator().neg(True))"
   ]
  },
  {
   "cell_type": "markdown",
   "metadata": {},
   "source": [
    "### Itertools\n",
    "\n",
    "Itertools provides many utilities to create iterables like cycling over a sequence, batching data, creating the cartesian product of iterables, creating an iterable of permutations or combinations, etc."
   ]
  },
  {
   "cell_type": "code",
   "execution_count": 7,
   "metadata": {},
   "outputs": [
    {
     "data": {
      "text/plain": [
       "[('A', 'B', 'C'),\n",
       " ('A', 'C', 'B'),\n",
       " ('B', 'A', 'C'),\n",
       " ('B', 'C', 'A'),\n",
       " ('C', 'A', 'B'),\n",
       " ('C', 'B', 'A')]"
      ]
     },
     "execution_count": 7,
     "metadata": {},
     "output_type": "execute_result"
    }
   ],
   "source": [
    "from itertools import permutations\n",
    "\n",
    "list(permutations(\"ABC\"))"
   ]
  },
  {
   "cell_type": "markdown",
   "metadata": {},
   "source": [
    "## 2. Formatting \n",
    "\n",
    "In Python 3.9, formatting string is done via the f-strings. Within the substitution expression of the f-string, you can give formatting options:"
   ]
  },
  {
   "cell_type": "code",
   "execution_count": 15,
   "metadata": {},
   "outputs": [
    {
     "name": "stdout",
     "output_type": "stream",
     "text": [
      "'blabla    '\n",
      "'    blabla'\n",
      "'  blabla  '\n",
      "0.1\n",
      "1.234568e-01\n",
      "'this is the repr'\n",
      "this is the str\n"
     ]
    }
   ],
   "source": [
    "s = \"blabla\"\n",
    "print(f\"'{s:10}'\")  # Make sure the length is at least 10\n",
    "print(f\"'{s:>10}'\") # same + right aligned\n",
    "print(f\"'{s:^10}'\") # same but centered\n",
    "print(f\"{0.123456789:.1f}\")  # print as float (f) with 1 decimal (.1)\n",
    "print(f\"{0.123456789:e}\")  # print in scientific notation\n",
    "print(f\"{'this is the repr'!r}\")\n",
    "print(f\"{'this is the str'}\")"
   ]
  },
  {
   "cell_type": "markdown",
   "metadata": {},
   "source": [
    "See https://docs.python.org/3/library/string.html for more.\n",
    "\n",
    ":skull: It is possible to define formatting options for a custom class by overwriting the `__format__` method."
   ]
  },
  {
   "cell_type": "markdown",
   "metadata": {},
   "source": [
    "## 3. Tools\n",
    "\n",
    "Although the focus of the training was on the design and code aspects, ensuring a successful and lasting project is also about good tooling:\n",
    "- code versioning (git + repository);\n",
    "- testing (eg. pytest);\n",
    "- linting (eg. black);\n",
    "- type-checking (eg. mypy);\n",
    "- CI/CD;\n",
    "- packet management (eg. poetry)."
   ]
  },
  {
   "cell_type": "markdown",
   "metadata": {},
   "source": [
    "## 4. Questions\n",
    "\n",
    ":question:\n",
    "\n",
    "\n",
    "## 5. Closing words \n",
    "\n",
    "This training was about the standard library and a few miscellaneous other things.\n",
    "\n",
    "Note that if there are design patterns, there also exists *anti-pattern*: recipes to common problems that are counterproductive in some way (ineffective, difficult to maintain, etc.)\n",
    "\n",
    "The trainings were about design patterns in Python, but we did not cover all the design patterns. You can easily research the remaining. As for Python, there is still plenty to explore, such as:\n",
    "* data access (descriptors, MRO, slots);\n",
    "* parallel computing (thread/processor pools, async, locks, GIL, etc.);\n",
    "* multiple inheritance (diamond problem, mixins, MRO, composition over inheritance);\n",
    "* serialization;\n",
    "* and more.\n"
   ]
  },
  {
   "cell_type": "markdown",
   "metadata": {},
   "source": []
  }
 ],
 "metadata": {
  "kernelspec": {
   "display_name": ".venv",
   "language": "python",
   "name": "python3"
  },
  "language_info": {
   "codemirror_mode": {
    "name": "ipython",
    "version": 3
   },
   "file_extension": ".py",
   "mimetype": "text/x-python",
   "name": "python",
   "nbconvert_exporter": "python",
   "pygments_lexer": "ipython3",
   "version": "3.9.5"
  }
 },
 "nbformat": 4,
 "nbformat_minor": 2
}
