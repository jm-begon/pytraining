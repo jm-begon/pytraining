{
 "cells": [
  {
   "cell_type": "markdown",
   "metadata": {},
   "source": [
    "Miscellaneous\n",
    "=============\n",
    "\n",
    "**Outline**:\n",
    "1. The Python standard library\n",
    "2. Formatting \n",
    "3. Tools\n",
    "4. Questions\n",
    "5. Closing words (anti-pattern)"
   ]
  }
 ],
 "metadata": {
  "language_info": {
   "name": "python"
  }
 },
 "nbformat": 4,
 "nbformat_minor": 2
}
